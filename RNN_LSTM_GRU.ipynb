{
  "nbformat": 4,
  "nbformat_minor": 0,
  "metadata": {
    "colab": {
      "provenance": [],
      "collapsed_sections": [
        "DY5JMY1Yftsr",
        "mbpEEA0g1-Be",
        "B_LljZFVAFPA"
      ]
    },
    "kernelspec": {
      "name": "python3",
      "display_name": "Python 3"
    },
    "language_info": {
      "name": "python"
    },
    "gpuClass": "standard"
  },
  "cells": [
    {
      "cell_type": "code",
      "source": [
        "from google.colab import drive\n",
        "drive.mount('/content/drive')"
      ],
      "metadata": {
        "id": "tIM1M0anE1H1",
        "colab": {
          "base_uri": "https://localhost:8080/"
        },
        "outputId": "19a76ac5-0ed0-4eee-f45c-f5afdb49ceb1"
      },
      "execution_count": null,
      "outputs": [
        {
          "output_type": "stream",
          "name": "stdout",
          "text": [
            "Mounted at /content/drive\n"
          ]
        }
      ]
    },
    {
      "cell_type": "markdown",
      "source": [
        "##**GPU**"
      ],
      "metadata": {
        "id": "ubp9lSqgJUx7"
      }
    },
    {
      "cell_type": "code",
      "source": [
        "!nvidia-smi"
      ],
      "metadata": {
        "id": "FvB2dRFFJZqK"
      },
      "execution_count": null,
      "outputs": []
    },
    {
      "cell_type": "markdown",
      "source": [
        "# **Install**"
      ],
      "metadata": {
        "id": "ELwgzDfGFXvr"
      }
    },
    {
      "cell_type": "code",
      "source": [
        "!pip install torchmetrics"
      ],
      "metadata": {
        "id": "dQ9OIgAs4iWa",
        "colab": {
          "base_uri": "https://localhost:8080/"
        },
        "outputId": "8eb78a40-ad87-407e-96fd-d82773dd34c2"
      },
      "execution_count": null,
      "outputs": [
        {
          "output_type": "stream",
          "name": "stdout",
          "text": [
            "Collecting torchmetrics\n",
            "  Downloading torchmetrics-1.3.1-py3-none-any.whl (840 kB)\n",
            "\u001b[2K     \u001b[90m━━━━━━━━━━━━━━━━━━━━━━━━━━━━━━━━━━━━━━━━\u001b[0m \u001b[32m840.4/840.4 kB\u001b[0m \u001b[31m6.6 MB/s\u001b[0m eta \u001b[36m0:00:00\u001b[0m\n",
            "\u001b[?25hRequirement already satisfied: numpy>1.20.0 in /usr/local/lib/python3.10/dist-packages (from torchmetrics) (1.25.2)\n",
            "Requirement already satisfied: packaging>17.1 in /usr/local/lib/python3.10/dist-packages (from torchmetrics) (24.0)\n",
            "Requirement already satisfied: torch>=1.10.0 in /usr/local/lib/python3.10/dist-packages (from torchmetrics) (2.2.1+cu121)\n",
            "Collecting lightning-utilities>=0.8.0 (from torchmetrics)\n",
            "  Downloading lightning_utilities-0.10.1-py3-none-any.whl (24 kB)\n",
            "Requirement already satisfied: setuptools in /usr/local/lib/python3.10/dist-packages (from lightning-utilities>=0.8.0->torchmetrics) (67.7.2)\n",
            "Requirement already satisfied: typing-extensions in /usr/local/lib/python3.10/dist-packages (from lightning-utilities>=0.8.0->torchmetrics) (4.10.0)\n",
            "Requirement already satisfied: filelock in /usr/local/lib/python3.10/dist-packages (from torch>=1.10.0->torchmetrics) (3.13.1)\n",
            "Requirement already satisfied: sympy in /usr/local/lib/python3.10/dist-packages (from torch>=1.10.0->torchmetrics) (1.12)\n",
            "Requirement already satisfied: networkx in /usr/local/lib/python3.10/dist-packages (from torch>=1.10.0->torchmetrics) (3.2.1)\n",
            "Requirement already satisfied: jinja2 in /usr/local/lib/python3.10/dist-packages (from torch>=1.10.0->torchmetrics) (3.1.3)\n",
            "Requirement already satisfied: fsspec in /usr/local/lib/python3.10/dist-packages (from torch>=1.10.0->torchmetrics) (2023.6.0)\n",
            "Collecting nvidia-cuda-nvrtc-cu12==12.1.105 (from torch>=1.10.0->torchmetrics)\n",
            "  Downloading nvidia_cuda_nvrtc_cu12-12.1.105-py3-none-manylinux1_x86_64.whl (23.7 MB)\n",
            "\u001b[2K     \u001b[90m━━━━━━━━━━━━━━━━━━━━━━━━━━━━━━━━━━━━━━━━\u001b[0m \u001b[32m23.7/23.7 MB\u001b[0m \u001b[31m40.0 MB/s\u001b[0m eta \u001b[36m0:00:00\u001b[0m\n",
            "\u001b[?25hCollecting nvidia-cuda-runtime-cu12==12.1.105 (from torch>=1.10.0->torchmetrics)\n",
            "  Downloading nvidia_cuda_runtime_cu12-12.1.105-py3-none-manylinux1_x86_64.whl (823 kB)\n",
            "\u001b[2K     \u001b[90m━━━━━━━━━━━━━━━━━━━━━━━━━━━━━━━━━━━━━━━━\u001b[0m \u001b[32m823.6/823.6 kB\u001b[0m \u001b[31m51.9 MB/s\u001b[0m eta \u001b[36m0:00:00\u001b[0m\n",
            "\u001b[?25hCollecting nvidia-cuda-cupti-cu12==12.1.105 (from torch>=1.10.0->torchmetrics)\n",
            "  Downloading nvidia_cuda_cupti_cu12-12.1.105-py3-none-manylinux1_x86_64.whl (14.1 MB)\n",
            "\u001b[2K     \u001b[90m━━━━━━━━━━━━━━━━━━━━━━━━━━━━━━━━━━━━━━━━\u001b[0m \u001b[32m14.1/14.1 MB\u001b[0m \u001b[31m70.8 MB/s\u001b[0m eta \u001b[36m0:00:00\u001b[0m\n",
            "\u001b[?25hCollecting nvidia-cudnn-cu12==8.9.2.26 (from torch>=1.10.0->torchmetrics)\n",
            "  Downloading nvidia_cudnn_cu12-8.9.2.26-py3-none-manylinux1_x86_64.whl (731.7 MB)\n",
            "\u001b[2K     \u001b[90m━━━━━━━━━━━━━━━━━━━━━━━━━━━━━━━━━━━━━━━━\u001b[0m \u001b[32m731.7/731.7 MB\u001b[0m \u001b[31m1.7 MB/s\u001b[0m eta \u001b[36m0:00:00\u001b[0m\n",
            "\u001b[?25hCollecting nvidia-cublas-cu12==12.1.3.1 (from torch>=1.10.0->torchmetrics)\n",
            "  Downloading nvidia_cublas_cu12-12.1.3.1-py3-none-manylinux1_x86_64.whl (410.6 MB)\n",
            "\u001b[2K     \u001b[90m━━━━━━━━━━━━━━━━━━━━━━━━━━━━━━━━━━━━━━━━\u001b[0m \u001b[32m410.6/410.6 MB\u001b[0m \u001b[31m2.6 MB/s\u001b[0m eta \u001b[36m0:00:00\u001b[0m\n",
            "\u001b[?25hCollecting nvidia-cufft-cu12==11.0.2.54 (from torch>=1.10.0->torchmetrics)\n",
            "  Downloading nvidia_cufft_cu12-11.0.2.54-py3-none-manylinux1_x86_64.whl (121.6 MB)\n",
            "\u001b[2K     \u001b[90m━━━━━━━━━━━━━━━━━━━━━━━━━━━━━━━━━━━━━━━━\u001b[0m \u001b[32m121.6/121.6 MB\u001b[0m \u001b[31m8.3 MB/s\u001b[0m eta \u001b[36m0:00:00\u001b[0m\n",
            "\u001b[?25hCollecting nvidia-curand-cu12==10.3.2.106 (from torch>=1.10.0->torchmetrics)\n",
            "  Downloading nvidia_curand_cu12-10.3.2.106-py3-none-manylinux1_x86_64.whl (56.5 MB)\n",
            "\u001b[2K     \u001b[90m━━━━━━━━━━━━━━━━━━━━━━━━━━━━━━━━━━━━━━━━\u001b[0m \u001b[32m56.5/56.5 MB\u001b[0m \u001b[31m9.2 MB/s\u001b[0m eta \u001b[36m0:00:00\u001b[0m\n",
            "\u001b[?25hCollecting nvidia-cusolver-cu12==11.4.5.107 (from torch>=1.10.0->torchmetrics)\n",
            "  Downloading nvidia_cusolver_cu12-11.4.5.107-py3-none-manylinux1_x86_64.whl (124.2 MB)\n",
            "\u001b[2K     \u001b[90m━━━━━━━━━━━━━━━━━━━━━━━━━━━━━━━━━━━━━━━━\u001b[0m \u001b[32m124.2/124.2 MB\u001b[0m \u001b[31m6.4 MB/s\u001b[0m eta \u001b[36m0:00:00\u001b[0m\n",
            "\u001b[?25hCollecting nvidia-cusparse-cu12==12.1.0.106 (from torch>=1.10.0->torchmetrics)\n",
            "  Downloading nvidia_cusparse_cu12-12.1.0.106-py3-none-manylinux1_x86_64.whl (196.0 MB)\n",
            "\u001b[2K     \u001b[90m━━━━━━━━━━━━━━━━━━━━━━━━━━━━━━━━━━━━━━━━\u001b[0m \u001b[32m196.0/196.0 MB\u001b[0m \u001b[31m2.0 MB/s\u001b[0m eta \u001b[36m0:00:00\u001b[0m\n",
            "\u001b[?25hCollecting nvidia-nccl-cu12==2.19.3 (from torch>=1.10.0->torchmetrics)\n",
            "  Downloading nvidia_nccl_cu12-2.19.3-py3-none-manylinux1_x86_64.whl (166.0 MB)\n",
            "\u001b[2K     \u001b[90m━━━━━━━━━━━━━━━━━━━━━━━━━━━━━━━━━━━━━━━━\u001b[0m \u001b[32m166.0/166.0 MB\u001b[0m \u001b[31m2.4 MB/s\u001b[0m eta \u001b[36m0:00:00\u001b[0m\n",
            "\u001b[?25hCollecting nvidia-nvtx-cu12==12.1.105 (from torch>=1.10.0->torchmetrics)\n",
            "  Downloading nvidia_nvtx_cu12-12.1.105-py3-none-manylinux1_x86_64.whl (99 kB)\n",
            "\u001b[2K     \u001b[90m━━━━━━━━━━━━━━━━━━━━━━━━━━━━━━━━━━━━━━━━\u001b[0m \u001b[32m99.1/99.1 kB\u001b[0m \u001b[31m8.7 MB/s\u001b[0m eta \u001b[36m0:00:00\u001b[0m\n",
            "\u001b[?25hRequirement already satisfied: triton==2.2.0 in /usr/local/lib/python3.10/dist-packages (from torch>=1.10.0->torchmetrics) (2.2.0)\n",
            "Collecting nvidia-nvjitlink-cu12 (from nvidia-cusolver-cu12==11.4.5.107->torch>=1.10.0->torchmetrics)\n",
            "  Downloading nvidia_nvjitlink_cu12-12.4.99-py3-none-manylinux2014_x86_64.whl (21.1 MB)\n",
            "\u001b[2K     \u001b[90m━━━━━━━━━━━━━━━━━━━━━━━━━━━━━━━━━━━━━━━━\u001b[0m \u001b[32m21.1/21.1 MB\u001b[0m \u001b[31m53.5 MB/s\u001b[0m eta \u001b[36m0:00:00\u001b[0m\n",
            "\u001b[?25hRequirement already satisfied: MarkupSafe>=2.0 in /usr/local/lib/python3.10/dist-packages (from jinja2->torch>=1.10.0->torchmetrics) (2.1.5)\n",
            "Requirement already satisfied: mpmath>=0.19 in /usr/local/lib/python3.10/dist-packages (from sympy->torch>=1.10.0->torchmetrics) (1.3.0)\n",
            "Installing collected packages: nvidia-nvtx-cu12, nvidia-nvjitlink-cu12, nvidia-nccl-cu12, nvidia-curand-cu12, nvidia-cufft-cu12, nvidia-cuda-runtime-cu12, nvidia-cuda-nvrtc-cu12, nvidia-cuda-cupti-cu12, nvidia-cublas-cu12, lightning-utilities, nvidia-cusparse-cu12, nvidia-cudnn-cu12, nvidia-cusolver-cu12, torchmetrics\n",
            "Successfully installed lightning-utilities-0.10.1 nvidia-cublas-cu12-12.1.3.1 nvidia-cuda-cupti-cu12-12.1.105 nvidia-cuda-nvrtc-cu12-12.1.105 nvidia-cuda-runtime-cu12-12.1.105 nvidia-cudnn-cu12-8.9.2.26 nvidia-cufft-cu12-11.0.2.54 nvidia-curand-cu12-10.3.2.106 nvidia-cusolver-cu12-11.4.5.107 nvidia-cusparse-cu12-12.1.0.106 nvidia-nccl-cu12-2.19.3 nvidia-nvjitlink-cu12-12.4.99 nvidia-nvtx-cu12-12.1.105 torchmetrics-1.3.1\n"
          ]
        }
      ]
    },
    {
      "cell_type": "markdown",
      "source": [
        "# **Imports 📢**"
      ],
      "metadata": {
        "id": "fQFlVvECeZsD"
      }
    },
    {
      "cell_type": "code",
      "execution_count": null,
      "metadata": {
        "id": "Jnc2LOc9eRjD"
      },
      "outputs": [],
      "source": [
        "import torch\n",
        "import torch.nn as nn\n",
        "import torch.optim as optim\n",
        "import torch.nn.functional as F\n",
        "from torch.utils.data import TensorDataset, DataLoader, random_split\n",
        "import torch.backends.cudnn as cudnn\n",
        "\n",
        "import torchvision\n",
        "\n",
        "from torchvision import datasets, transforms\n",
        "\n",
        "import matplotlib.pyplot as plt\n",
        "import numpy as np\n",
        "import pandas as pd\n",
        "\n",
        "# from torchmetrics import Accuracy\n",
        "from tqdm import tqdm\n",
        "from prettytable import PrettyTable"
      ]
    },
    {
      "cell_type": "markdown",
      "source": [
        "# **Dataset 🗂️**"
      ],
      "metadata": {
        "id": "OsNaqujTeiGx"
      }
    },
    {
      "cell_type": "markdown",
      "source": [
        "##Read Dataset"
      ],
      "metadata": {
        "id": "9OGjhoLswlsM"
      }
    },
    {
      "cell_type": "code",
      "source": [
        "# !cp yourdatasetaddress /content\n",
        "!unrar x /content/data.rar"
      ],
      "metadata": {
        "id": "9ztlpAj_iv3q"
      },
      "execution_count": null,
      "outputs": []
    },
    {
      "cell_type": "code",
      "source": [
        "X = pd.read_csv('/content/data/X.csv', header=None)\n",
        "y = pd.read_csv('/content/data/y.csv', header=None)"
      ],
      "metadata": {
        "id": "hVA8doTSH6l1"
      },
      "execution_count": null,
      "outputs": []
    },
    {
      "cell_type": "markdown",
      "source": [
        "##DataSplit"
      ],
      "metadata": {
        "id": "6M3mujlBw76u"
      }
    },
    {
      "cell_type": "code",
      "source": [
        "num_samples = 327\n",
        "train_ratio = 0.8\n",
        "random_seed = 42\n",
        "\n",
        "torch.manual_seed(random_seed)\n",
        "train_size = int(num_samples * train_ratio)\n",
        "x_train, y_train = X[:train_size], y[:train_size]\n",
        "x_val, y_val = X[train_size:train_size+33], y[train_size:train_size+33]\n",
        "x_test, y_test = X[train_size+33:], y[train_size+33:]"
      ],
      "metadata": {
        "id": "6zuS6wlZnbkK"
      },
      "execution_count": null,
      "outputs": []
    },
    {
      "cell_type": "markdown",
      "source": [
        "##PreProcess"
      ],
      "metadata": {
        "id": "2yOZ7PxaxF70"
      }
    },
    {
      "cell_type": "code",
      "source": [
        "# Convert to tensor\n",
        "x_train = (torch.FloatTensor(x_train.values)).unsqueeze(dim=2)\n",
        "y_train = torch.LongTensor(y_train.values)\n",
        "\n",
        "x_val = (torch.FloatTensor(x_val.values)).unsqueeze(dim=2)\n",
        "y_val = torch.LongTensor(y_val.values)\n",
        "\n",
        "x_test = (torch.FloatTensor(x_test.values)).unsqueeze(dim=2)\n",
        "y_test = torch.LongTensor(y_test.values)"
      ],
      "metadata": {
        "id": "klHTbSJVo1hM"
      },
      "execution_count": null,
      "outputs": []
    },
    {
      "cell_type": "code",
      "source": [
        "def MinMaxScale(data, min, max):\n",
        "    return (data - min) / (max - min)\n",
        "\n",
        "x_min = torch.min(x_train, dim=0).values\n",
        "x_max = torch.max(x_train, dim=0).values\n",
        "\n",
        "y_min = torch.min(y_train, dim=0).values\n",
        "y_max = torch.max(y_train, dim=0).values\n",
        "\n",
        "x_train = MinMaxScale(x_train, x_min, x_max)\n",
        "x_val = MinMaxScale(x_val, x_min, x_max)\n",
        "x_test = MinMaxScale(x_test, x_min, x_max)\n",
        "\n",
        "y_train = MinMaxScale(y_train, y_min, y_max)\n",
        "y_val = MinMaxScale(y_val, y_min, y_max)\n",
        "y_test = MinMaxScale(y_test, y_min, y_max)"
      ],
      "metadata": {
        "id": "RV5afihaxZuE"
      },
      "execution_count": null,
      "outputs": []
    },
    {
      "cell_type": "code",
      "source": [
        "print(x_train.shape, x_val.shape, x_test.shape)\n",
        "print(y_train.shape, y_val.shape, y_test.shape)"
      ],
      "metadata": {
        "id": "s3LcbPNzfn-j",
        "colab": {
          "base_uri": "https://localhost:8080/"
        },
        "outputId": "b9641505-a99c-4ba3-ca7c-f403bb9d6bac"
      },
      "execution_count": null,
      "outputs": [
        {
          "output_type": "stream",
          "name": "stdout",
          "text": [
            "torch.Size([261, 5, 1]) torch.Size([33, 5, 1]) torch.Size([33, 5, 1])\n",
            "torch.Size([261, 1]) torch.Size([33, 1]) torch.Size([33, 1])\n"
          ]
        }
      ]
    },
    {
      "cell_type": "markdown",
      "source": [
        "## DataLoader"
      ],
      "metadata": {
        "id": "3aQRTc6n7-hi"
      }
    },
    {
      "cell_type": "code",
      "source": [
        "train_dataset = TensorDataset(x_train, y_train)\n",
        "train_loader = DataLoader(train_dataset, batch_size=10, shuffle=False)\n",
        "\n",
        "val_dataset = TensorDataset(x_val, y_val)\n",
        "val_loader = DataLoader(val_dataset, batch_size=10, shuffle=False)\n",
        "\n",
        "test_dataset = TensorDataset(x_test, y_test)\n",
        "test_loader = DataLoader(test_dataset, batch_size=10, shuffle=False)"
      ],
      "metadata": {
        "id": "MWf29MbO79gp"
      },
      "execution_count": null,
      "outputs": []
    },
    {
      "cell_type": "code",
      "source": [
        "x_batch, y_batch = next(iter(train_loader))\n",
        "print(x_batch.shape, y_batch.shape)"
      ],
      "metadata": {
        "id": "w-h4m6R_qPdD",
        "colab": {
          "base_uri": "https://localhost:8080/"
        },
        "outputId": "d6cad0f1-c823-4ea3-9ef5-648bb1b93fa4"
      },
      "execution_count": null,
      "outputs": [
        {
          "output_type": "stream",
          "name": "stdout",
          "text": [
            "torch.Size([10, 5, 1]) torch.Size([10, 1])\n"
          ]
        }
      ]
    },
    {
      "cell_type": "markdown",
      "source": [
        "# **Model 🧠**"
      ],
      "metadata": {
        "id": "-NBcJXJkfgUI"
      }
    },
    {
      "cell_type": "markdown",
      "source": [
        "##Custom Model"
      ],
      "metadata": {
        "id": "6oP2W9QnxwTj"
      }
    },
    {
      "cell_type": "code",
      "source": [
        "class RNNModel(nn.Module):\n",
        "  def __init__(self, RNN, input_size, hidden_size, num_layers, batch_first, bidirectional, out_feature):\n",
        "    super().__init__()\n",
        "    self.rnn = RNN(input_size=input_size, hidden_size=hidden_size, num_layers=num_layers, batch_first=batch_first, bidirectional=bidirectional)\n",
        "    self.fc = nn.LazyLinear(out_feature)\n",
        "\n",
        "  def forward(self, x):\n",
        "    outputs, hn = self.rnn(x)\n",
        "    outputs = outputs.flatten(1)\n",
        "    y = self.fc(outputs) # many to many\n",
        "\n",
        "    return y"
      ],
      "metadata": {
        "id": "KP77FcS6GsEF"
      },
      "execution_count": null,
      "outputs": []
    },
    {
      "cell_type": "markdown",
      "source": [
        "##RNN"
      ],
      "metadata": {
        "id": "NRUnMq9lx0Ty"
      }
    },
    {
      "cell_type": "code",
      "source": [
        "rnn = RNNModel(nn.RNN, 1, 4, 1, True, False, 1)\n",
        "print(rnn)\n",
        "print(rnn(x_batch).shape)"
      ],
      "metadata": {
        "id": "B6qTgCwellgc",
        "colab": {
          "base_uri": "https://localhost:8080/"
        },
        "outputId": "08635e21-946d-496e-8f4a-882f7282422b"
      },
      "execution_count": null,
      "outputs": [
        {
          "output_type": "stream",
          "name": "stdout",
          "text": [
            "RNNModel(\n",
            "  (rnn): RNN(1, 4, batch_first=True)\n",
            "  (fc): LazyLinear(in_features=0, out_features=1, bias=True)\n",
            ")\n",
            "torch.Size([10, 1])\n"
          ]
        },
        {
          "output_type": "stream",
          "name": "stderr",
          "text": [
            "/usr/local/lib/python3.10/dist-packages/torch/nn/modules/lazy.py:181: UserWarning: Lazy modules are a new feature under heavy development so changes to the API or functionality can happen at any moment.\n",
            "  warnings.warn('Lazy modules are a new feature under heavy development '\n"
          ]
        }
      ]
    },
    {
      "cell_type": "markdown",
      "source": [
        "##LSTM"
      ],
      "metadata": {
        "id": "iPuxKOr8x1oL"
      }
    },
    {
      "cell_type": "code",
      "source": [
        "lstm = RNNModel(nn.LSTM, 1, 4, 1, True, False, 1)\n",
        "print(lstm)\n",
        "print(lstm(x_batch).shape)"
      ],
      "metadata": {
        "id": "sb0ASfRQyGdk",
        "colab": {
          "base_uri": "https://localhost:8080/"
        },
        "outputId": "2d84f146-7bb8-43f7-d142-4308ed16d421"
      },
      "execution_count": null,
      "outputs": [
        {
          "output_type": "stream",
          "name": "stdout",
          "text": [
            "RNNModel(\n",
            "  (rnn): LSTM(1, 4, batch_first=True)\n",
            "  (fc): LazyLinear(in_features=0, out_features=1, bias=True)\n",
            ")\n",
            "torch.Size([10, 1])\n"
          ]
        }
      ]
    },
    {
      "cell_type": "markdown",
      "source": [
        "##GRU"
      ],
      "metadata": {
        "id": "2-3Zq9w-x5ND"
      }
    },
    {
      "cell_type": "code",
      "source": [
        "gru = RNNModel(nn.GRU, 1, 4, 1, True, False, 1)\n",
        "print(gru)\n",
        "print(gru(x_batch).shape)"
      ],
      "metadata": {
        "id": "9v8mayb2yGEu",
        "colab": {
          "base_uri": "https://localhost:8080/"
        },
        "outputId": "1a62e106-b8b6-49cb-be60-336094464c09"
      },
      "execution_count": null,
      "outputs": [
        {
          "output_type": "stream",
          "name": "stdout",
          "text": [
            "RNNModel(\n",
            "  (rnn): GRU(1, 4, batch_first=True)\n",
            "  (fc): LazyLinear(in_features=0, out_features=1, bias=True)\n",
            ")\n",
            "torch.Size([10, 1])\n"
          ]
        }
      ]
    },
    {
      "cell_type": "markdown",
      "source": [
        "##CNNLSTM"
      ],
      "metadata": {
        "id": "CfpbN326x7Ei"
      }
    },
    {
      "cell_type": "code",
      "source": [
        "class CNNLSTM(nn.Module):\n",
        "\n",
        "  def __init__(self, input_size, cnn_hidden_size, rnn_hidden_size, num_layers, out_feature):\n",
        "    super().__init__()\n",
        "\n",
        "    self.conv1 = nn.Conv1d(input_size, cnn_hidden_size, kernel_size=2, stride=1)\n",
        "    self.bn1 = nn.BatchNorm1d(cnn_hidden_size)\n",
        "\n",
        "    self.lstm = nn.LSTM(cnn_hidden_size, rnn_hidden_size, num_layers)\n",
        "\n",
        "    self.fc = nn.LazyLinear(out_feature)\n",
        "\n",
        "  def forward(self, x):\n",
        "    x = x.permute(0, 2, 1)\n",
        "    y = self.bn1(self.conv1(x)).relu()\n",
        "\n",
        "    y = y.permute(0, 2, 1)\n",
        "    y, _ = self.lstm(x)\n",
        "    y = self.fc(y)\n",
        "    return y.mean(dim=1)"
      ],
      "metadata": {
        "id": "xdlYIJnUyFiW"
      },
      "execution_count": null,
      "outputs": []
    },
    {
      "cell_type": "code",
      "source": [
        "model = CNNLSTM(1, 5, 4, 1, 1)\n",
        "model(x_batch).shape"
      ],
      "metadata": {
        "colab": {
          "base_uri": "https://localhost:8080/"
        },
        "id": "MhumI2W9AI6L",
        "outputId": "2a0ba5db-2506-4102-aa83-dfe485e4ea3c"
      },
      "execution_count": null,
      "outputs": [
        {
          "output_type": "execute_result",
          "data": {
            "text/plain": [
              "torch.Size([10, 1])"
            ]
          },
          "metadata": {},
          "execution_count": 18
        }
      ]
    },
    {
      "cell_type": "markdown",
      "source": [
        "##GRU From Scratch"
      ],
      "metadata": {
        "id": "DxN4hVa_yHTN"
      }
    },
    {
      "cell_type": "code",
      "source": [
        "class Gate(nn.Module):\n",
        "  def __init__(self, hidden_size, af):\n",
        "    super().__init__()\n",
        "    self.fcx = nn.LazyLinear(hidden_size)\n",
        "    self.fch = nn.LazyLinear(hidden_size)\n",
        "    self.af = nn.Sigmoid() if af == 'sigmoid' else nn.Tanh()\n",
        "\n",
        "  def forward(self, x, h):\n",
        "    return self.af(self.fcx(x)+self.fch(h))\n",
        "\n",
        "mygate = Gate(4, 'tanh')\n",
        "mygate\n",
        "\n",
        "mygate(torch.randn(3, 4), torch.randn(3, 8)).shape"
      ],
      "metadata": {
        "id": "q-788H5KHgNd",
        "colab": {
          "base_uri": "https://localhost:8080/"
        },
        "outputId": "8f8e5f49-320f-4054-8e3e-25f04240467b"
      },
      "execution_count": null,
      "outputs": [
        {
          "output_type": "execute_result",
          "data": {
            "text/plain": [
              "torch.Size([3, 4])"
            ]
          },
          "metadata": {},
          "execution_count": 19
        }
      ]
    },
    {
      "cell_type": "code",
      "source": [
        "class GRU(nn.Module):\n",
        "  def __init__(self, hidden_size):\n",
        "    super().__init__()\n",
        "    self.hidden_size = hidden_size\n",
        "    self.reset_gate = Gate(hidden_size, 'sigmoid')\n",
        "    self.update_gate = Gate(hidden_size, 'sigmoid')\n",
        "    self.candidate_hidden_state = Gate(hidden_size, 'tanh')\n",
        "\n",
        "  def forward(self, x):\n",
        "    ht = torch.zeros(self.hidden_size)\n",
        "    output = []\n",
        "\n",
        "    for xt in x:\n",
        "      rt = self.reset_gate(xt, ht)\n",
        "      rht = rt * ht\n",
        "      #\n",
        "      h_tilda = self.candidate_hidden_state(xt, rht)\n",
        "      #\n",
        "      zt = self.update_gate(xt, ht)\n",
        "      ht = zt * ht + (1-zt) * h_tilda\n",
        "      output.append(ht)\n",
        "    return output, ht"
      ],
      "metadata": {
        "id": "_Lv_2KMgyX26"
      },
      "execution_count": null,
      "outputs": []
    },
    {
      "cell_type": "code",
      "source": [
        "gru = GRU(4)\n",
        "gru"
      ],
      "metadata": {
        "colab": {
          "base_uri": "https://localhost:8080/"
        },
        "id": "8Fz8dZdmahhf",
        "outputId": "5ddf3733-c81e-4bef-b13d-9aaf831f8dee"
      },
      "execution_count": null,
      "outputs": [
        {
          "output_type": "execute_result",
          "data": {
            "text/plain": [
              "GRU(\n",
              "  (reset_gate): Gate(\n",
              "    (fcx): LazyLinear(in_features=0, out_features=4, bias=True)\n",
              "    (fch): LazyLinear(in_features=0, out_features=4, bias=True)\n",
              "    (af): Sigmoid()\n",
              "  )\n",
              "  (update_gate): Gate(\n",
              "    (fcx): LazyLinear(in_features=0, out_features=4, bias=True)\n",
              "    (fch): LazyLinear(in_features=0, out_features=4, bias=True)\n",
              "    (af): Sigmoid()\n",
              "  )\n",
              "  (candidate_hidden_state): Gate(\n",
              "    (fcx): LazyLinear(in_features=0, out_features=4, bias=True)\n",
              "    (fch): LazyLinear(in_features=0, out_features=4, bias=True)\n",
              "    (af): Tanh()\n",
              "  )\n",
              ")"
            ]
          },
          "metadata": {},
          "execution_count": 21
        }
      ]
    },
    {
      "cell_type": "markdown",
      "source": [
        "###Test GRU"
      ],
      "metadata": {
        "id": "7xnXxXJGyak0"
      }
    },
    {
      "cell_type": "code",
      "source": [
        "output, ht = gru(torch.randn(8, 10))\n",
        "print(len(output))\n",
        "print(output[0].shape)"
      ],
      "metadata": {
        "id": "Jcb1ne92yZaJ",
        "colab": {
          "base_uri": "https://localhost:8080/"
        },
        "outputId": "96d19feb-1ebd-478a-d1fa-a23c34c88741"
      },
      "execution_count": null,
      "outputs": [
        {
          "output_type": "stream",
          "name": "stdout",
          "text": [
            "8\n",
            "torch.Size([4])\n"
          ]
        }
      ]
    },
    {
      "cell_type": "markdown",
      "source": [
        "# **Device ⚙️**"
      ],
      "metadata": {
        "id": "DY5JMY1Yftsr"
      }
    },
    {
      "cell_type": "code",
      "source": [
        "device = 'cuda' if torch.cuda.is_available() else 'cpu'\n",
        "model = RNNModel(nn.RNN, 1, 4, 1, True, False, 1).to(device)"
      ],
      "metadata": {
        "id": "Ce6_MpTcfrGi"
      },
      "execution_count": null,
      "outputs": []
    },
    {
      "cell_type": "markdown",
      "source": [
        "# **Loss & Optimizer ⚖️**"
      ],
      "metadata": {
        "id": "xFbRtOqLfnh6"
      }
    },
    {
      "cell_type": "code",
      "source": [
        "loss_fn = nn.L1Loss()\n",
        "optimizer = optim.Adam(model.parameters(), lr=0.001)"
      ],
      "metadata": {
        "id": "EpzTOAOafj8e"
      },
      "execution_count": null,
      "outputs": []
    },
    {
      "cell_type": "markdown",
      "source": [
        "# **Utils 🧰**"
      ],
      "metadata": {
        "id": "mbpEEA0g1-Be"
      }
    },
    {
      "cell_type": "code",
      "source": [
        "class AverageMeter(object):\n",
        "    \"\"\"Computes and stores the average and current value\"\"\"\n",
        "    def __init__(self):\n",
        "        self.reset()\n",
        "\n",
        "    def reset(self):\n",
        "        self.val = 0\n",
        "        self.avg = 0\n",
        "        self.sum = 0\n",
        "        self.count = 0\n",
        "\n",
        "    def update(self, val, n=1):\n",
        "        self.val = val\n",
        "        self.sum += val * n\n",
        "        self.count += n\n",
        "        self.avg = self.sum / self.count"
      ],
      "metadata": {
        "id": "G6s889_UrqDT"
      },
      "execution_count": null,
      "outputs": []
    },
    {
      "cell_type": "markdown",
      "source": [
        "# **Functions** 🧮"
      ],
      "metadata": {
        "id": "B_LljZFVAFPA"
      }
    },
    {
      "cell_type": "code",
      "source": [
        "def train_one_epoch(model, train_loader, loss_fn, optimizer, epoch=None):\n",
        "  model.train()\n",
        "  loss_train = AverageMeter()\n",
        "  with tqdm(train_loader, unit=\"batch\") as tepoch:\n",
        "    for inputs, targets in tepoch:\n",
        "      if epoch is not None:\n",
        "        tepoch.set_description(f\"Epoch {epoch}\")\n",
        "      inputs = inputs.to(device)\n",
        "      targets = targets.to(device)\n",
        "      outputs = model(inputs)\n",
        "      loss = loss_fn(outputs, targets)\n",
        "      loss.backward()\n",
        "      optimizer.step()\n",
        "      optimizer.zero_grad()\n",
        "\n",
        "      loss_train.update(loss.item())\n",
        "      tepoch.set_postfix(loss=loss_train.avg)\n",
        "  return model, loss_train.avg"
      ],
      "metadata": {
        "id": "4W9MVeEqAYiq"
      },
      "execution_count": null,
      "outputs": []
    },
    {
      "cell_type": "code",
      "source": [
        "def validation(model, test_loader, loss_fn):\n",
        "  model.eval()\n",
        "  with torch.no_grad():\n",
        "    loss_valid = AverageMeter()\n",
        "    for i, (inputs, targets) in enumerate(test_loader):\n",
        "      inputs = inputs.to(device)\n",
        "      targets = targets.to(device)\n",
        "      outputs = model(inputs)\n",
        "      loss = loss_fn(outputs, targets)\n",
        "      loss_valid.update(loss.item())\n",
        "  return loss_valid.avg"
      ],
      "metadata": {
        "id": "ZEoGrXwZAaym"
      },
      "execution_count": null,
      "outputs": []
    },
    {
      "cell_type": "markdown",
      "source": [
        "# **Efficient way for set hyperparams 🔨**"
      ],
      "metadata": {
        "id": "9csGqnCvtFAS"
      }
    },
    {
      "cell_type": "markdown",
      "source": [
        "You should do this part for all models(RNN,LSTM,GRU,CNNLSTM) and save their results."
      ],
      "metadata": {
        "id": "BJPhB-AY2v64"
      }
    },
    {
      "cell_type": "markdown",
      "source": [
        "## Step 1: check forward path\n",
        "\n",
        "Calculate loss for one batch"
      ],
      "metadata": {
        "id": "lpJ3wtyctQJH"
      }
    },
    {
      "cell_type": "markdown",
      "source": [
        "##RNN Model"
      ],
      "metadata": {
        "id": "AW_yPv9JzXpJ"
      }
    },
    {
      "cell_type": "code",
      "source": [
        "model = RNNModel(nn.RNN, 1, 4, 1, True, False, 1).to(device)\n",
        "optimizer = optim.Adam(model.parameters(), lr=0.001)\n",
        "loss_fn = nn.L1Loss()\n",
        "\n",
        "x_batch, y_batch = next(iter(train_loader))\n",
        "outputs = model(x_batch.to(device))\n",
        "loss = loss_fn(outputs, y_batch.to(device))\n",
        "print(loss)"
      ],
      "metadata": {
        "id": "THpSOiAMzW8K",
        "colab": {
          "base_uri": "https://localhost:8080/"
        },
        "outputId": "98085d2b-85b6-466d-f3dd-420459b805c6"
      },
      "execution_count": null,
      "outputs": [
        {
          "output_type": "stream",
          "name": "stdout",
          "text": [
            "tensor(0.0317, grad_fn=<MeanBackward0>)\n"
          ]
        }
      ]
    },
    {
      "cell_type": "markdown",
      "source": [
        "##LSTM Model"
      ],
      "metadata": {
        "id": "M_pdsL5ozbQ5"
      }
    },
    {
      "cell_type": "code",
      "source": [
        "model = RNNModel(nn.LSTM, 1, 4, 1, True, False, 1).to(device)\n",
        "optimizer = optim.Adam(model.parameters(), lr=0.001)\n",
        "loss_fn = nn.L1Loss()\n",
        "\n",
        "x_batch, y_batch = next(iter(train_loader))\n",
        "outputs = model(x_batch.to(device))\n",
        "loss = loss_fn(outputs, y_batch.to(device))\n",
        "print(loss)"
      ],
      "metadata": {
        "id": "9CddDyXgzdFx",
        "colab": {
          "base_uri": "https://localhost:8080/"
        },
        "outputId": "81e505c9-f61d-46e3-bf9b-7b3e2eaf5ae6"
      },
      "execution_count": null,
      "outputs": [
        {
          "output_type": "stream",
          "name": "stdout",
          "text": [
            "tensor(0.0132, grad_fn=<MeanBackward0>)\n"
          ]
        }
      ]
    },
    {
      "cell_type": "markdown",
      "source": [
        "##GRU Model"
      ],
      "metadata": {
        "id": "_mE3crSAzdfB"
      }
    },
    {
      "cell_type": "code",
      "source": [
        "model = RNNModel(nn.GRU, 1, 4, 1, True, False, 1).to(device)\n",
        "optimizer = optim.Adam(model.parameters(), lr=0.001)\n",
        "loss_fn = nn.L1Loss()\n",
        "\n",
        "x_batch, y_batch = next(iter(train_loader))\n",
        "outputs = model(x_batch.to(device))\n",
        "loss = loss_fn(outputs, y_batch.to(device))\n",
        "print(loss)"
      ],
      "metadata": {
        "id": "lsAFbxOwzf3x",
        "colab": {
          "base_uri": "https://localhost:8080/"
        },
        "outputId": "f1497591-972d-48ab-b94c-85ca1d49187d"
      },
      "execution_count": null,
      "outputs": [
        {
          "output_type": "stream",
          "name": "stdout",
          "text": [
            "tensor(0.0644, grad_fn=<MeanBackward0>)\n"
          ]
        }
      ]
    },
    {
      "cell_type": "markdown",
      "source": [
        "##CNNLSTM Model"
      ],
      "metadata": {
        "id": "p54FFgGOzgGb"
      }
    },
    {
      "cell_type": "code",
      "source": [
        "model = CNNLSTM(1, 5, 4, 1, 1).to(device)\n",
        "optimizer = optim.Adam(model.parameters(), lr=0.001)\n",
        "loss_fn = nn.L1Loss()\n",
        "\n",
        "x_batch, y_batch = next(iter(train_loader))\n",
        "outputs = model(x_batch.to(device))\n",
        "loss = loss_fn(outputs, y_batch.to(device))\n",
        "print(loss)"
      ],
      "metadata": {
        "id": "sDQlWmwAzjDB",
        "colab": {
          "base_uri": "https://localhost:8080/"
        },
        "outputId": "33c8848b-8544-4142-cf00-488779013b0d"
      },
      "execution_count": null,
      "outputs": [
        {
          "output_type": "stream",
          "name": "stdout",
          "text": [
            "tensor(0.2103, grad_fn=<MeanBackward0>)\n"
          ]
        }
      ]
    },
    {
      "cell_type": "markdown",
      "source": [
        "## Step 2: check backward path\n",
        "\n",
        "Select 5 random batches and train the model"
      ],
      "metadata": {
        "id": "BrHQCv7q7LF_"
      }
    },
    {
      "cell_type": "code",
      "source": [
        "_, mini_train_dataset = random_split(train_dataset, (len(train_dataset)-64, 64))\n",
        "mini_train_loader = DataLoader(mini_train_dataset, 8)"
      ],
      "metadata": {
        "id": "az4QXpwB-3vO"
      },
      "execution_count": null,
      "outputs": []
    },
    {
      "cell_type": "markdown",
      "source": [
        "# RNN, LSTM, GRU"
      ],
      "metadata": {
        "id": "GBofjdP2umIm"
      }
    },
    {
      "cell_type": "code",
      "source": [
        "model = RNNModel(nn.RNN, 1, 4, 1, True, False, 1).to(device)\n",
        "loss_fn = nn.L1Loss()\n",
        "\n",
        "optimizer = optim.Adam(model.parameters(), lr=0.001)\n",
        "\n",
        "num_epochs = 10\n",
        "\n",
        "for epoch in range(num_epochs):\n",
        "  model, _ = train_one_epoch(model, mini_train_loader, loss_fn, optimizer, epoch)"
      ],
      "metadata": {
        "id": "z6XZ8rcSzDd7",
        "colab": {
          "base_uri": "https://localhost:8080/"
        },
        "outputId": "13509594-dc8f-4fef-889f-fb77e0725c99"
      },
      "execution_count": null,
      "outputs": [
        {
          "output_type": "stream",
          "name": "stderr",
          "text": [
            "Epoch 0: 100%|██████████| 8/8 [00:00<00:00, 43.39batch/s, loss=0.216]\n",
            "Epoch 1: 100%|██████████| 8/8 [00:00<00:00, 35.81batch/s, loss=0.121]\n",
            "Epoch 2: 100%|██████████| 8/8 [00:00<00:00, 39.26batch/s, loss=0.0761]\n",
            "Epoch 3: 100%|██████████| 8/8 [00:00<00:00, 42.90batch/s, loss=0.0807]\n",
            "Epoch 4: 100%|██████████| 8/8 [00:00<00:00, 37.02batch/s, loss=0.0765]\n",
            "Epoch 5: 100%|██████████| 8/8 [00:00<00:00, 28.72batch/s, loss=0.073]\n",
            "Epoch 6: 100%|██████████| 8/8 [00:00<00:00, 41.60batch/s, loss=0.0734]\n",
            "Epoch 7: 100%|██████████| 8/8 [00:00<00:00, 45.41batch/s, loss=0.0728]\n",
            "Epoch 8: 100%|██████████| 8/8 [00:00<00:00, 51.73batch/s, loss=0.0725]\n",
            "Epoch 9: 100%|██████████| 8/8 [00:00<00:00, 65.31batch/s, loss=0.0722]\n"
          ]
        }
      ]
    },
    {
      "cell_type": "code",
      "source": [
        "model = RNNModel(nn.LSTM, 1, 4, 1, True, False, 1).to(device)\n",
        "loss_fn = nn.L1Loss()\n",
        "\n",
        "optimizer = optim.Adam(model.parameters(), lr=0.001)\n",
        "\n",
        "num_epochs = 10\n",
        "for epoch in range(num_epochs):\n",
        "  model, _= train_one_epoch(model, mini_train_loader, loss_fn, optimizer, epoch)"
      ],
      "metadata": {
        "id": "IDL9MVojzD2b",
        "colab": {
          "base_uri": "https://localhost:8080/"
        },
        "outputId": "4a28cc91-0b89-4ccb-9e0c-d901589717d4"
      },
      "execution_count": null,
      "outputs": [
        {
          "output_type": "stream",
          "name": "stderr",
          "text": [
            "Epoch 0: 100%|██████████| 8/8 [00:00<00:00, 39.73batch/s, loss=0.095]\n",
            "Epoch 1: 100%|██████████| 8/8 [00:00<00:00, 53.42batch/s, loss=0.0903]\n",
            "Epoch 2: 100%|██████████| 8/8 [00:00<00:00, 70.97batch/s, loss=0.0898]\n",
            "Epoch 3: 100%|██████████| 8/8 [00:00<00:00, 88.85batch/s, loss=0.0891]\n",
            "Epoch 4: 100%|██████████| 8/8 [00:00<00:00, 98.82batch/s, loss=0.0882]\n",
            "Epoch 5: 100%|██████████| 8/8 [00:00<00:00, 83.15batch/s, loss=0.0876]\n",
            "Epoch 6: 100%|██████████| 8/8 [00:00<00:00, 93.72batch/s, loss=0.0869]\n",
            "Epoch 7: 100%|██████████| 8/8 [00:00<00:00, 71.14batch/s, loss=0.0863]\n",
            "Epoch 8: 100%|██████████| 8/8 [00:00<00:00, 73.97batch/s, loss=0.0857]\n",
            "Epoch 9: 100%|██████████| 8/8 [00:00<00:00, 68.35batch/s, loss=0.085]\n"
          ]
        }
      ]
    },
    {
      "cell_type": "code",
      "source": [
        "model = RNNModel(nn.GRU, 1, 4, 1, True, False, 1).to(device)\n",
        "loss_fn = nn.L1Loss()\n",
        "\n",
        "optimizer = optim.Adam(model.parameters(), lr=0.001)\n",
        "\n",
        "num_epochs = 10\n",
        "\n",
        "for epoch in range(num_epochs):\n",
        "  model, _ = train_one_epoch(model, mini_train_loader, loss_fn, optimizer, epoch)"
      ],
      "metadata": {
        "id": "ALvcEfQQzEcb",
        "colab": {
          "base_uri": "https://localhost:8080/"
        },
        "outputId": "2b41ca25-b941-4bc9-f3f9-fd0f8a102803"
      },
      "execution_count": null,
      "outputs": [
        {
          "output_type": "stream",
          "name": "stderr",
          "text": [
            "Epoch 0: 100%|██████████| 8/8 [00:00<00:00, 59.59batch/s, loss=0.173]\n",
            "Epoch 1: 100%|██████████| 8/8 [00:00<00:00, 71.14batch/s, loss=0.131]\n",
            "Epoch 2: 100%|██████████| 8/8 [00:00<00:00, 63.99batch/s, loss=0.0968]\n",
            "Epoch 3: 100%|██████████| 8/8 [00:00<00:00, 69.24batch/s, loss=0.0838]\n",
            "Epoch 4: 100%|██████████| 8/8 [00:00<00:00, 67.23batch/s, loss=0.0842]\n",
            "Epoch 5: 100%|██████████| 8/8 [00:00<00:00, 70.66batch/s, loss=0.0832]\n",
            "Epoch 6: 100%|██████████| 8/8 [00:00<00:00, 49.31batch/s, loss=0.0811]\n",
            "Epoch 7: 100%|██████████| 8/8 [00:00<00:00, 47.41batch/s, loss=0.0801]\n",
            "Epoch 8: 100%|██████████| 8/8 [00:00<00:00, 51.97batch/s, loss=0.0792]\n",
            "Epoch 9: 100%|██████████| 8/8 [00:00<00:00, 59.71batch/s, loss=0.078]\n"
          ]
        }
      ]
    },
    {
      "cell_type": "markdown",
      "source": [
        "# CNNLSTM"
      ],
      "metadata": {
        "id": "xtpEhhNAuf3N"
      }
    },
    {
      "cell_type": "code",
      "source": [
        "model = CNNLSTM(1, 5, 4, 1, 1).to(device)\n",
        "loss_fn = nn.L1Loss()\n",
        "\n",
        "optimizer = optim.Adam(model.parameters(), lr=0.01)\n",
        "\n",
        "num_epochs = 10\n",
        "\n",
        "for epoch in range(num_epochs):\n",
        "  model, _ = train_one_epoch(model, mini_train_loader, loss_fn, optimizer, epoch)"
      ],
      "metadata": {
        "id": "T7EpTdkHzE17",
        "colab": {
          "base_uri": "https://localhost:8080/"
        },
        "outputId": "f4234a38-a196-4492-f6e7-abb8961ef932"
      },
      "execution_count": null,
      "outputs": [
        {
          "output_type": "stream",
          "name": "stderr",
          "text": [
            "Epoch 0: 100%|██████████| 8/8 [00:00<00:00, 82.32batch/s, loss=0.11]\n",
            "Epoch 1: 100%|██████████| 8/8 [00:00<00:00, 59.77batch/s, loss=0.0958]\n",
            "Epoch 2: 100%|██████████| 8/8 [00:00<00:00, 66.63batch/s, loss=0.0794]\n",
            "Epoch 3: 100%|██████████| 8/8 [00:00<00:00, 73.66batch/s, loss=0.0741]\n",
            "Epoch 4: 100%|██████████| 8/8 [00:00<00:00, 80.85batch/s, loss=0.0648]\n",
            "Epoch 5: 100%|██████████| 8/8 [00:00<00:00, 80.94batch/s, loss=0.0533]\n",
            "Epoch 6: 100%|██████████| 8/8 [00:00<00:00, 74.88batch/s, loss=0.047]\n",
            "Epoch 7: 100%|██████████| 8/8 [00:00<00:00, 81.89batch/s, loss=0.0427]\n",
            "Epoch 8: 100%|██████████| 8/8 [00:00<00:00, 69.15batch/s, loss=0.0406]\n",
            "Epoch 9: 100%|██████████| 8/8 [00:00<00:00, 83.60batch/s, loss=0.0406]\n"
          ]
        }
      ]
    },
    {
      "cell_type": "markdown",
      "source": [
        "## Step 3: select best lr\n",
        "\n",
        "Train all data for 3 epochs"
      ],
      "metadata": {
        "id": "BLT4w0ZfAhlJ"
      }
    },
    {
      "cell_type": "markdown",
      "source": [
        "# RNN, LSTM, GRU"
      ],
      "metadata": {
        "id": "sWJCi-PxuM1N"
      }
    },
    {
      "cell_type": "code",
      "source": [
        "# RNN, LSTM, GRU\n",
        "num_epochs = 3\n",
        "\n",
        "for mdl in [nn.RNN, nn.LSTM, nn.GRU]:\n",
        "  print(f'model={mdl}')\n",
        "  for lr in [0.01, 0.001, 0.0015, 0.0001]:\n",
        "    print(f'LR={lr}')\n",
        "    model = RNNModel(mdl, 1, 4, 1, True, False, 1).to(device)\n",
        "    optimizer = optim.Adam(model.parameters(), lr=0.001)\n",
        "    for epoch in range(num_epochs):\n",
        "      model, _ = train_one_epoch(model, train_loader, loss_fn, optimizer, epoch)\n",
        "    print()\n"
      ],
      "metadata": {
        "id": "c7tlXlY4_Dwi",
        "colab": {
          "base_uri": "https://localhost:8080/"
        },
        "outputId": "7ac1be6a-f714-487d-ddcf-f290b3f3ec2a"
      },
      "execution_count": null,
      "outputs": [
        {
          "output_type": "stream",
          "name": "stdout",
          "text": [
            "model=<class 'torch.nn.modules.rnn.RNN'>\n",
            "LR=0.01\n"
          ]
        },
        {
          "output_type": "stream",
          "name": "stderr",
          "text": [
            "Epoch 0: 100%|██████████| 27/27 [00:00<00:00, 74.41batch/s, loss=0.181]\n",
            "Epoch 1: 100%|██████████| 27/27 [00:00<00:00, 67.54batch/s, loss=0.0979]\n",
            "Epoch 2: 100%|██████████| 27/27 [00:00<00:00, 101.00batch/s, loss=0.0825]\n"
          ]
        },
        {
          "output_type": "stream",
          "name": "stdout",
          "text": [
            "\n",
            "LR=0.001\n"
          ]
        },
        {
          "output_type": "stream",
          "name": "stderr",
          "text": [
            "Epoch 0: 100%|██████████| 27/27 [00:00<00:00, 102.84batch/s, loss=0.191]\n",
            "Epoch 1: 100%|██████████| 27/27 [00:00<00:00, 109.78batch/s, loss=0.102]\n",
            "Epoch 2: 100%|██████████| 27/27 [00:00<00:00, 108.14batch/s, loss=0.0781]\n"
          ]
        },
        {
          "output_type": "stream",
          "name": "stdout",
          "text": [
            "\n",
            "LR=0.0015\n"
          ]
        },
        {
          "output_type": "stream",
          "name": "stderr",
          "text": [
            "Epoch 0: 100%|██████████| 27/27 [00:00<00:00, 83.94batch/s, loss=0.138]\n",
            "Epoch 1: 100%|██████████| 27/27 [00:00<00:00, 65.81batch/s, loss=0.0886]\n",
            "Epoch 2: 100%|██████████| 27/27 [00:00<00:00, 46.05batch/s, loss=0.109]\n"
          ]
        },
        {
          "output_type": "stream",
          "name": "stdout",
          "text": [
            "\n",
            "LR=0.0001\n"
          ]
        },
        {
          "output_type": "stream",
          "name": "stderr",
          "text": [
            "Epoch 0: 100%|██████████| 27/27 [00:00<00:00, 68.55batch/s, loss=0.102]\n",
            "Epoch 1: 100%|██████████| 27/27 [00:00<00:00, 70.34batch/s, loss=0.107]\n",
            "Epoch 2: 100%|██████████| 27/27 [00:00<00:00, 74.32batch/s, loss=0.0964]\n"
          ]
        },
        {
          "output_type": "stream",
          "name": "stdout",
          "text": [
            "\n",
            "model=<class 'torch.nn.modules.rnn.LSTM'>\n",
            "LR=0.01\n"
          ]
        },
        {
          "output_type": "stream",
          "name": "stderr",
          "text": [
            "Epoch 0: 100%|██████████| 27/27 [00:00<00:00, 73.16batch/s, loss=0.097]\n",
            "Epoch 1: 100%|██████████| 27/27 [00:00<00:00, 79.50batch/s, loss=0.0858]\n",
            "Epoch 2: 100%|██████████| 27/27 [00:00<00:00, 96.97batch/s, loss=0.0868]\n"
          ]
        },
        {
          "output_type": "stream",
          "name": "stdout",
          "text": [
            "\n",
            "LR=0.001\n"
          ]
        },
        {
          "output_type": "stream",
          "name": "stderr",
          "text": [
            "Epoch 0: 100%|██████████| 27/27 [00:00<00:00, 85.53batch/s, loss=0.145]\n",
            "Epoch 1: 100%|██████████| 27/27 [00:00<00:00, 103.75batch/s, loss=0.11]\n",
            "Epoch 2: 100%|██████████| 27/27 [00:00<00:00, 98.27batch/s, loss=0.0928]\n"
          ]
        },
        {
          "output_type": "stream",
          "name": "stdout",
          "text": [
            "\n",
            "LR=0.0015\n"
          ]
        },
        {
          "output_type": "stream",
          "name": "stderr",
          "text": [
            "Epoch 0: 100%|██████████| 27/27 [00:00<00:00, 97.46batch/s, loss=0.207]\n",
            "Epoch 1: 100%|██████████| 27/27 [00:00<00:00, 49.30batch/s, loss=0.114]\n",
            "Epoch 2: 100%|██████████| 27/27 [00:00<00:00, 35.65batch/s, loss=0.0811]\n"
          ]
        },
        {
          "output_type": "stream",
          "name": "stdout",
          "text": [
            "\n",
            "LR=0.0001\n"
          ]
        },
        {
          "output_type": "stream",
          "name": "stderr",
          "text": [
            "Epoch 0: 100%|██████████| 27/27 [00:00<00:00, 47.14batch/s, loss=0.0756]\n",
            "Epoch 1: 100%|██████████| 27/27 [00:00<00:00, 49.27batch/s, loss=0.0744]\n",
            "Epoch 2: 100%|██████████| 27/27 [00:00<00:00, 56.87batch/s, loss=0.0711]\n"
          ]
        },
        {
          "output_type": "stream",
          "name": "stdout",
          "text": [
            "\n",
            "model=<class 'torch.nn.modules.rnn.GRU'>\n",
            "LR=0.01\n"
          ]
        },
        {
          "output_type": "stream",
          "name": "stderr",
          "text": [
            "Epoch 0: 100%|██████████| 27/27 [00:00<00:00, 47.74batch/s, loss=0.168]\n",
            "Epoch 1: 100%|██████████| 27/27 [00:00<00:00, 40.11batch/s, loss=0.0921]\n",
            "Epoch 2: 100%|██████████| 27/27 [00:00<00:00, 40.54batch/s, loss=0.085]\n"
          ]
        },
        {
          "output_type": "stream",
          "name": "stdout",
          "text": [
            "\n",
            "LR=0.001\n"
          ]
        },
        {
          "output_type": "stream",
          "name": "stderr",
          "text": [
            "Epoch 0: 100%|██████████| 27/27 [00:00<00:00, 46.89batch/s, loss=0.0847]\n",
            "Epoch 1: 100%|██████████| 27/27 [00:00<00:00, 56.48batch/s, loss=0.075]\n",
            "Epoch 2: 100%|██████████| 27/27 [00:00<00:00, 74.62batch/s, loss=0.075]\n"
          ]
        },
        {
          "output_type": "stream",
          "name": "stdout",
          "text": [
            "\n",
            "LR=0.0015\n"
          ]
        },
        {
          "output_type": "stream",
          "name": "stderr",
          "text": [
            "Epoch 0: 100%|██████████| 27/27 [00:00<00:00, 98.20batch/s, loss=0.136]\n",
            "Epoch 1: 100%|██████████| 27/27 [00:00<00:00, 67.65batch/s, loss=0.0974]\n",
            "Epoch 2: 100%|██████████| 27/27 [00:00<00:00, 74.50batch/s, loss=0.0915]\n"
          ]
        },
        {
          "output_type": "stream",
          "name": "stdout",
          "text": [
            "\n",
            "LR=0.0001\n"
          ]
        },
        {
          "output_type": "stream",
          "name": "stderr",
          "text": [
            "Epoch 0: 100%|██████████| 27/27 [00:00<00:00, 40.97batch/s, loss=0.279]\n",
            "Epoch 1: 100%|██████████| 27/27 [00:00<00:00, 39.37batch/s, loss=0.0892]\n",
            "Epoch 2: 100%|██████████| 27/27 [00:00<00:00, 56.27batch/s, loss=0.0997]"
          ]
        },
        {
          "output_type": "stream",
          "name": "stdout",
          "text": [
            "\n"
          ]
        },
        {
          "output_type": "stream",
          "name": "stderr",
          "text": [
            "\n"
          ]
        }
      ]
    },
    {
      "cell_type": "markdown",
      "source": [
        "# CNNLSTM"
      ],
      "metadata": {
        "id": "BvOad8jFudm2"
      }
    },
    {
      "cell_type": "code",
      "source": [
        "# CNNLSTM\n",
        "num_epochs = 3\n",
        "\n",
        "print()\n",
        "for lr in [0.01, 0.001, 0.0015, 0.0001]:\n",
        "    print(f'Model: CNNLSTM, LR={lr}')\n",
        "    model = CNNLSTM(1, 5, 4, 1, 1).to(device)\n",
        "    optimizer = optim.Adam(model.parameters(), lr=0.001)\n",
        "    for epoch in range(num_epochs):\n",
        "      model, _ = train_one_epoch(model, train_loader, loss_fn, optimizer, epoch)\n",
        "    print()"
      ],
      "metadata": {
        "colab": {
          "base_uri": "https://localhost:8080/"
        },
        "id": "yuf_FNaAubSl",
        "outputId": "b130d3c3-42e3-4b0d-87d5-373926156b40"
      },
      "execution_count": null,
      "outputs": [
        {
          "output_type": "stream",
          "name": "stdout",
          "text": [
            "\n",
            "Model: CNNLSTM, LR=0.01\n"
          ]
        },
        {
          "output_type": "stream",
          "name": "stderr",
          "text": [
            "Epoch 0: 100%|██████████| 27/27 [00:00<00:00, 61.68batch/s, loss=0.178]\n",
            "Epoch 1: 100%|██████████| 27/27 [00:00<00:00, 70.28batch/s, loss=0.14]\n",
            "Epoch 2: 100%|██████████| 27/27 [00:00<00:00, 101.07batch/s, loss=0.115]\n"
          ]
        },
        {
          "output_type": "stream",
          "name": "stdout",
          "text": [
            "\n",
            "Model: CNNLSTM, LR=0.001\n"
          ]
        },
        {
          "output_type": "stream",
          "name": "stderr",
          "text": [
            "Epoch 0: 100%|██████████| 27/27 [00:00<00:00, 100.50batch/s, loss=0.151]\n",
            "Epoch 1: 100%|██████████| 27/27 [00:00<00:00, 108.13batch/s, loss=0.0869]\n",
            "Epoch 2: 100%|██████████| 27/27 [00:00<00:00, 93.14batch/s, loss=0.0843]\n"
          ]
        },
        {
          "output_type": "stream",
          "name": "stdout",
          "text": [
            "\n",
            "Model: CNNLSTM, LR=0.0015\n"
          ]
        },
        {
          "output_type": "stream",
          "name": "stderr",
          "text": [
            "Epoch 0: 100%|██████████| 27/27 [00:00<00:00, 77.79batch/s, loss=0.104]\n",
            "Epoch 1: 100%|██████████| 27/27 [00:00<00:00, 80.21batch/s, loss=0.0848]\n",
            "Epoch 2: 100%|██████████| 27/27 [00:00<00:00, 82.18batch/s, loss=0.0744]\n"
          ]
        },
        {
          "output_type": "stream",
          "name": "stdout",
          "text": [
            "\n",
            "Model: CNNLSTM, LR=0.0001\n"
          ]
        },
        {
          "output_type": "stream",
          "name": "stderr",
          "text": [
            "Epoch 0: 100%|██████████| 27/27 [00:00<00:00, 80.81batch/s, loss=0.349]\n",
            "Epoch 1: 100%|██████████| 27/27 [00:00<00:00, 84.31batch/s, loss=0.298]\n",
            "Epoch 2: 100%|██████████| 27/27 [00:00<00:00, 87.67batch/s, loss=0.247]"
          ]
        },
        {
          "output_type": "stream",
          "name": "stdout",
          "text": [
            "\n"
          ]
        },
        {
          "output_type": "stream",
          "name": "stderr",
          "text": [
            "\n"
          ]
        }
      ]
    },
    {
      "cell_type": "markdown",
      "source": [
        "## Step 4: small grid (optional)\n",
        "\n",
        "Create a small grid based on the WD and the best LR\n",
        "\n"
      ],
      "metadata": {
        "id": "uC2GhaXfA8vC"
      }
    },
    {
      "cell_type": "markdown",
      "source": [
        "# RNN, LSTM, GRU"
      ],
      "metadata": {
        "id": "WqD03x7yuPzl"
      }
    },
    {
      "cell_type": "code",
      "source": [
        "num_epochs = 5\n",
        "\n",
        "my_table = PrettyTable([ \"Model\", \"Learning Rate\", \"Weight decay\", \"loss\"])\n",
        "\n",
        "\n",
        "for RNN in [nn.RNN, nn.LSTM, nn.GRU]:\n",
        "  print(f'model={RNN}')\n",
        "  for lr in [0.01, 0.001, 0.0015, 0.0001]:\n",
        "    for wd in [0., 1e-4, 1e-5]:\n",
        "\n",
        "      model = RNNModel(RNN, 1, 4, 1, True, False, 1).to(device)\n",
        "      optimizer = optim.Adam(model.parameters(), lr=lr, weight_decay=wd)\n",
        "\n",
        "      print(f'LR={lr}, WD={wd}')\n",
        "      for epoch in range(5):\n",
        "        model, loss = train_one_epoch(model, train_loader, loss_fn, optimizer, epoch)\n",
        "\n",
        "        if epoch == 4:\n",
        "          my_table.add_row([RNN, lr, wd, f'{loss:.4f}'])\n",
        "\n",
        "      print()\n",
        "\n",
        "  my_table.add_row([20*'-', 20*'-', 20*'-', 20*'-'])\n",
        "\n",
        "print(my_table)\n",
        "\n"
      ],
      "metadata": {
        "id": "yIta-JKgA7-I",
        "colab": {
          "base_uri": "https://localhost:8080/"
        },
        "outputId": "6f506903-e91b-4afa-e281-1ac2ab3c544e"
      },
      "execution_count": null,
      "outputs": [
        {
          "output_type": "stream",
          "name": "stdout",
          "text": [
            "model=<class 'torch.nn.modules.rnn.RNN'>\n",
            "LR=0.01, WD=0.0\n"
          ]
        },
        {
          "output_type": "stream",
          "name": "stderr",
          "text": [
            "Epoch 0: 100%|██████████| 27/27 [00:00<00:00, 59.43batch/s, loss=0.131]\n",
            "Epoch 1: 100%|██████████| 27/27 [00:00<00:00, 38.34batch/s, loss=0.0966]\n",
            "Epoch 2: 100%|██████████| 27/27 [00:00<00:00, 52.60batch/s, loss=0.0975]\n",
            "Epoch 3: 100%|██████████| 27/27 [00:00<00:00, 82.55batch/s, loss=0.0794]\n",
            "Epoch 4: 100%|██████████| 27/27 [00:00<00:00, 53.29batch/s, loss=0.0694]\n"
          ]
        },
        {
          "output_type": "stream",
          "name": "stdout",
          "text": [
            "\n",
            "LR=0.01, WD=0.0001\n"
          ]
        },
        {
          "output_type": "stream",
          "name": "stderr",
          "text": [
            "Epoch 0: 100%|██████████| 27/27 [00:00<00:00, 111.81batch/s, loss=0.124]\n",
            "Epoch 1: 100%|██████████| 27/27 [00:00<00:00, 119.47batch/s, loss=0.0886]\n",
            "Epoch 2: 100%|██████████| 27/27 [00:00<00:00, 114.49batch/s, loss=0.0879]\n",
            "Epoch 3: 100%|██████████| 27/27 [00:00<00:00, 108.14batch/s, loss=0.0904]\n",
            "Epoch 4: 100%|██████████| 27/27 [00:00<00:00, 117.15batch/s, loss=0.0842]\n"
          ]
        },
        {
          "output_type": "stream",
          "name": "stdout",
          "text": [
            "\n",
            "LR=0.01, WD=1e-05\n"
          ]
        },
        {
          "output_type": "stream",
          "name": "stderr",
          "text": [
            "Epoch 0: 100%|██████████| 27/27 [00:00<00:00, 98.03batch/s, loss=0.152] \n",
            "Epoch 1: 100%|██████████| 27/27 [00:00<00:00, 73.11batch/s, loss=0.0758]\n",
            "Epoch 2: 100%|██████████| 27/27 [00:00<00:00, 40.70batch/s, loss=0.062]\n",
            "Epoch 3: 100%|██████████| 27/27 [00:00<00:00, 40.42batch/s, loss=0.0487]\n",
            "Epoch 4: 100%|██████████| 27/27 [00:00<00:00, 40.17batch/s, loss=0.041]\n"
          ]
        },
        {
          "output_type": "stream",
          "name": "stdout",
          "text": [
            "\n",
            "LR=0.001, WD=0.0\n"
          ]
        },
        {
          "output_type": "stream",
          "name": "stderr",
          "text": [
            "Epoch 0: 100%|██████████| 27/27 [00:00<00:00, 84.61batch/s, loss=0.14]\n",
            "Epoch 1: 100%|██████████| 27/27 [00:00<00:00, 83.48batch/s, loss=0.102]\n",
            "Epoch 2: 100%|██████████| 27/27 [00:00<00:00, 81.87batch/s, loss=0.11]\n",
            "Epoch 3: 100%|██████████| 27/27 [00:00<00:00, 96.93batch/s, loss=0.1]\n",
            "Epoch 4: 100%|██████████| 27/27 [00:00<00:00, 89.32batch/s, loss=0.1]\n"
          ]
        },
        {
          "output_type": "stream",
          "name": "stdout",
          "text": [
            "\n",
            "LR=0.001, WD=0.0001\n"
          ]
        },
        {
          "output_type": "stream",
          "name": "stderr",
          "text": [
            "Epoch 0: 100%|██████████| 27/27 [00:00<00:00, 93.39batch/s, loss=0.106]\n",
            "Epoch 1: 100%|██████████| 27/27 [00:00<00:00, 86.24batch/s, loss=0.0985]\n",
            "Epoch 2: 100%|██████████| 27/27 [00:00<00:00, 93.85batch/s, loss=0.0948]\n",
            "Epoch 3: 100%|██████████| 27/27 [00:00<00:00, 113.18batch/s, loss=0.0962]\n",
            "Epoch 4: 100%|██████████| 27/27 [00:00<00:00, 89.78batch/s, loss=0.0918]\n"
          ]
        },
        {
          "output_type": "stream",
          "name": "stdout",
          "text": [
            "\n",
            "LR=0.001, WD=1e-05\n"
          ]
        },
        {
          "output_type": "stream",
          "name": "stderr",
          "text": [
            "Epoch 0: 100%|██████████| 27/27 [00:00<00:00, 93.36batch/s, loss=0.0562]\n",
            "Epoch 1: 100%|██████████| 27/27 [00:00<00:00, 90.01batch/s, loss=0.0632]\n",
            "Epoch 2: 100%|██████████| 27/27 [00:00<00:00, 105.53batch/s, loss=0.0522]\n",
            "Epoch 3: 100%|██████████| 27/27 [00:00<00:00, 96.86batch/s, loss=0.051]\n",
            "Epoch 4: 100%|██████████| 27/27 [00:00<00:00, 94.20batch/s, loss=0.0471]\n"
          ]
        },
        {
          "output_type": "stream",
          "name": "stdout",
          "text": [
            "\n",
            "LR=0.0015, WD=0.0\n"
          ]
        },
        {
          "output_type": "stream",
          "name": "stderr",
          "text": [
            "Epoch 0: 100%|██████████| 27/27 [00:00<00:00, 93.78batch/s, loss=0.232]\n",
            "Epoch 1: 100%|██████████| 27/27 [00:00<00:00, 96.77batch/s, loss=0.0994]\n",
            "Epoch 2: 100%|██████████| 27/27 [00:00<00:00, 87.67batch/s, loss=0.1]\n",
            "Epoch 3: 100%|██████████| 27/27 [00:00<00:00, 97.29batch/s, loss=0.0904]\n",
            "Epoch 4: 100%|██████████| 27/27 [00:00<00:00, 93.18batch/s, loss=0.0908]\n"
          ]
        },
        {
          "output_type": "stream",
          "name": "stdout",
          "text": [
            "\n",
            "LR=0.0015, WD=0.0001\n"
          ]
        },
        {
          "output_type": "stream",
          "name": "stderr",
          "text": [
            "Epoch 0: 100%|██████████| 27/27 [00:00<00:00, 100.63batch/s, loss=0.0987]\n",
            "Epoch 1: 100%|██████████| 27/27 [00:00<00:00, 83.11batch/s, loss=0.0968]\n",
            "Epoch 2: 100%|██████████| 27/27 [00:00<00:00, 105.20batch/s, loss=0.0904]\n",
            "Epoch 3: 100%|██████████| 27/27 [00:00<00:00, 86.76batch/s, loss=0.0941]\n",
            "Epoch 4: 100%|██████████| 27/27 [00:00<00:00, 87.76batch/s, loss=0.0883]\n"
          ]
        },
        {
          "output_type": "stream",
          "name": "stdout",
          "text": [
            "\n",
            "LR=0.0015, WD=1e-05\n"
          ]
        },
        {
          "output_type": "stream",
          "name": "stderr",
          "text": [
            "Epoch 0: 100%|██████████| 27/27 [00:00<00:00, 76.63batch/s, loss=0.1]\n",
            "Epoch 1: 100%|██████████| 27/27 [00:00<00:00, 91.03batch/s, loss=0.111]\n",
            "Epoch 2: 100%|██████████| 27/27 [00:00<00:00, 90.76batch/s, loss=0.0852]\n",
            "Epoch 3: 100%|██████████| 27/27 [00:00<00:00, 80.82batch/s, loss=0.0981]\n",
            "Epoch 4: 100%|██████████| 27/27 [00:00<00:00, 77.59batch/s, loss=0.0804]\n"
          ]
        },
        {
          "output_type": "stream",
          "name": "stdout",
          "text": [
            "\n",
            "LR=0.0001, WD=0.0\n"
          ]
        },
        {
          "output_type": "stream",
          "name": "stderr",
          "text": [
            "Epoch 0: 100%|██████████| 27/27 [00:00<00:00, 90.28batch/s, loss=0.0798]\n",
            "Epoch 1: 100%|██████████| 27/27 [00:00<00:00, 81.19batch/s, loss=0.0783]\n",
            "Epoch 2: 100%|██████████| 27/27 [00:00<00:00, 71.78batch/s, loss=0.0772]\n",
            "Epoch 3: 100%|██████████| 27/27 [00:00<00:00, 104.31batch/s, loss=0.0765]\n",
            "Epoch 4: 100%|██████████| 27/27 [00:00<00:00, 100.27batch/s, loss=0.0761]\n"
          ]
        },
        {
          "output_type": "stream",
          "name": "stdout",
          "text": [
            "\n",
            "LR=0.0001, WD=0.0001\n"
          ]
        },
        {
          "output_type": "stream",
          "name": "stderr",
          "text": [
            "Epoch 0: 100%|██████████| 27/27 [00:00<00:00, 101.84batch/s, loss=0.279]\n",
            "Epoch 1: 100%|██████████| 27/27 [00:00<00:00, 97.71batch/s, loss=0.253]\n",
            "Epoch 2: 100%|██████████| 27/27 [00:00<00:00, 101.13batch/s, loss=0.229]\n",
            "Epoch 3: 100%|██████████| 27/27 [00:00<00:00, 110.74batch/s, loss=0.206]\n",
            "Epoch 4: 100%|██████████| 27/27 [00:00<00:00, 102.79batch/s, loss=0.186]\n"
          ]
        },
        {
          "output_type": "stream",
          "name": "stdout",
          "text": [
            "\n",
            "LR=0.0001, WD=1e-05\n"
          ]
        },
        {
          "output_type": "stream",
          "name": "stderr",
          "text": [
            "Epoch 0: 100%|██████████| 27/27 [00:00<00:00, 114.56batch/s, loss=0.582]\n",
            "Epoch 1: 100%|██████████| 27/27 [00:00<00:00, 81.38batch/s, loss=0.553]\n",
            "Epoch 2: 100%|██████████| 27/27 [00:00<00:00, 88.43batch/s, loss=0.524]\n",
            "Epoch 3: 100%|██████████| 27/27 [00:00<00:00, 79.55batch/s, loss=0.495]\n",
            "Epoch 4: 100%|██████████| 27/27 [00:00<00:00, 111.83batch/s, loss=0.466]\n"
          ]
        },
        {
          "output_type": "stream",
          "name": "stdout",
          "text": [
            "\n",
            "model=<class 'torch.nn.modules.rnn.LSTM'>\n",
            "LR=0.01, WD=0.0\n"
          ]
        },
        {
          "output_type": "stream",
          "name": "stderr",
          "text": [
            "Epoch 0: 100%|██████████| 27/27 [00:00<00:00, 120.80batch/s, loss=0.103]\n",
            "Epoch 1: 100%|██████████| 27/27 [00:00<00:00, 117.22batch/s, loss=0.104]\n",
            "Epoch 2: 100%|██████████| 27/27 [00:00<00:00, 107.39batch/s, loss=0.0835]\n",
            "Epoch 3: 100%|██████████| 27/27 [00:00<00:00, 107.45batch/s, loss=0.088]\n",
            "Epoch 4: 100%|██████████| 27/27 [00:00<00:00, 98.22batch/s, loss=0.0743]\n"
          ]
        },
        {
          "output_type": "stream",
          "name": "stdout",
          "text": [
            "\n",
            "LR=0.01, WD=0.0001\n"
          ]
        },
        {
          "output_type": "stream",
          "name": "stderr",
          "text": [
            "Epoch 0: 100%|██████████| 27/27 [00:00<00:00, 108.60batch/s, loss=0.113]\n",
            "Epoch 1: 100%|██████████| 27/27 [00:00<00:00, 103.35batch/s, loss=0.104]\n",
            "Epoch 2: 100%|██████████| 27/27 [00:00<00:00, 72.77batch/s, loss=0.0908]\n",
            "Epoch 3: 100%|██████████| 27/27 [00:00<00:00, 70.97batch/s, loss=0.0817]\n",
            "Epoch 4: 100%|██████████| 27/27 [00:00<00:00, 71.34batch/s, loss=0.0783]\n"
          ]
        },
        {
          "output_type": "stream",
          "name": "stdout",
          "text": [
            "\n",
            "LR=0.01, WD=1e-05\n"
          ]
        },
        {
          "output_type": "stream",
          "name": "stderr",
          "text": [
            "Epoch 0: 100%|██████████| 27/27 [00:00<00:00, 103.96batch/s, loss=0.0922]\n",
            "Epoch 1: 100%|██████████| 27/27 [00:00<00:00, 92.34batch/s, loss=0.0839]\n",
            "Epoch 2: 100%|██████████| 27/27 [00:00<00:00, 93.16batch/s, loss=0.0801]\n",
            "Epoch 3: 100%|██████████| 27/27 [00:00<00:00, 102.49batch/s, loss=0.0708]\n",
            "Epoch 4: 100%|██████████| 27/27 [00:00<00:00, 100.62batch/s, loss=0.0648]\n"
          ]
        },
        {
          "output_type": "stream",
          "name": "stdout",
          "text": [
            "\n",
            "LR=0.001, WD=0.0\n"
          ]
        },
        {
          "output_type": "stream",
          "name": "stderr",
          "text": [
            "Epoch 0: 100%|██████████| 27/27 [00:00<00:00, 94.04batch/s, loss=0.0902]\n",
            "Epoch 1: 100%|██████████| 27/27 [00:00<00:00, 89.82batch/s, loss=0.0798]\n",
            "Epoch 2: 100%|██████████| 27/27 [00:00<00:00, 88.36batch/s, loss=0.0776]\n",
            "Epoch 3: 100%|██████████| 27/27 [00:00<00:00, 88.49batch/s, loss=0.0755]\n",
            "Epoch 4: 100%|██████████| 27/27 [00:00<00:00, 95.20batch/s, loss=0.0737]\n"
          ]
        },
        {
          "output_type": "stream",
          "name": "stdout",
          "text": [
            "\n",
            "LR=0.001, WD=0.0001\n"
          ]
        },
        {
          "output_type": "stream",
          "name": "stderr",
          "text": [
            "Epoch 0: 100%|██████████| 27/27 [00:00<00:00, 93.77batch/s, loss=0.296]\n",
            "Epoch 1: 100%|██████████| 27/27 [00:00<00:00, 97.18batch/s, loss=0.162]\n",
            "Epoch 2: 100%|██████████| 27/27 [00:00<00:00, 110.40batch/s, loss=0.0782]\n",
            "Epoch 3: 100%|██████████| 27/27 [00:00<00:00, 84.42batch/s, loss=0.0791]\n",
            "Epoch 4: 100%|██████████| 27/27 [00:00<00:00, 66.75batch/s, loss=0.077]\n"
          ]
        },
        {
          "output_type": "stream",
          "name": "stdout",
          "text": [
            "\n",
            "LR=0.001, WD=1e-05\n"
          ]
        },
        {
          "output_type": "stream",
          "name": "stderr",
          "text": [
            "Epoch 0: 100%|██████████| 27/27 [00:00<00:00, 67.41batch/s, loss=0.0824]\n",
            "Epoch 1: 100%|██████████| 27/27 [00:00<00:00, 74.61batch/s, loss=0.0825]\n",
            "Epoch 2: 100%|██████████| 27/27 [00:00<00:00, 72.48batch/s, loss=0.0815]\n",
            "Epoch 3: 100%|██████████| 27/27 [00:00<00:00, 64.19batch/s, loss=0.0805]\n",
            "Epoch 4: 100%|██████████| 27/27 [00:00<00:00, 66.34batch/s, loss=0.0792]\n"
          ]
        },
        {
          "output_type": "stream",
          "name": "stdout",
          "text": [
            "\n",
            "LR=0.0015, WD=0.0\n"
          ]
        },
        {
          "output_type": "stream",
          "name": "stderr",
          "text": [
            "Epoch 0: 100%|██████████| 27/27 [00:00<00:00, 72.78batch/s, loss=0.083]\n",
            "Epoch 1: 100%|██████████| 27/27 [00:00<00:00, 92.11batch/s, loss=0.0912]\n",
            "Epoch 2: 100%|██████████| 27/27 [00:00<00:00, 101.57batch/s, loss=0.0855]\n",
            "Epoch 3: 100%|██████████| 27/27 [00:00<00:00, 103.58batch/s, loss=0.0831]\n",
            "Epoch 4: 100%|██████████| 27/27 [00:00<00:00, 97.11batch/s, loss=0.0835]\n"
          ]
        },
        {
          "output_type": "stream",
          "name": "stdout",
          "text": [
            "\n",
            "LR=0.0015, WD=0.0001\n"
          ]
        },
        {
          "output_type": "stream",
          "name": "stderr",
          "text": [
            "Epoch 0: 100%|██████████| 27/27 [00:00<00:00, 66.74batch/s, loss=0.0834]\n",
            "Epoch 1: 100%|██████████| 27/27 [00:00<00:00, 69.55batch/s, loss=0.0911]\n",
            "Epoch 2: 100%|██████████| 27/27 [00:00<00:00, 88.84batch/s, loss=0.0864]\n",
            "Epoch 3: 100%|██████████| 27/27 [00:00<00:00, 115.17batch/s, loss=0.0845]\n",
            "Epoch 4: 100%|██████████| 27/27 [00:00<00:00, 106.83batch/s, loss=0.0846]\n"
          ]
        },
        {
          "output_type": "stream",
          "name": "stdout",
          "text": [
            "\n",
            "LR=0.0015, WD=1e-05\n"
          ]
        },
        {
          "output_type": "stream",
          "name": "stderr",
          "text": [
            "Epoch 0: 100%|██████████| 27/27 [00:00<00:00, 94.50batch/s, loss=0.144]\n",
            "Epoch 1: 100%|██████████| 27/27 [00:00<00:00, 102.41batch/s, loss=0.0986]\n",
            "Epoch 2: 100%|██████████| 27/27 [00:00<00:00, 105.90batch/s, loss=0.0931]\n",
            "Epoch 3: 100%|██████████| 27/27 [00:00<00:00, 100.44batch/s, loss=0.0901]\n",
            "Epoch 4: 100%|██████████| 27/27 [00:00<00:00, 92.49batch/s, loss=0.0888]\n"
          ]
        },
        {
          "output_type": "stream",
          "name": "stdout",
          "text": [
            "\n",
            "LR=0.0001, WD=0.0\n"
          ]
        },
        {
          "output_type": "stream",
          "name": "stderr",
          "text": [
            "Epoch 0: 100%|██████████| 27/27 [00:00<00:00, 93.91batch/s, loss=0.148]\n",
            "Epoch 1: 100%|██████████| 27/27 [00:00<00:00, 98.65batch/s, loss=0.145] \n",
            "Epoch 2: 100%|██████████| 27/27 [00:00<00:00, 107.53batch/s, loss=0.141]\n",
            "Epoch 3: 100%|██████████| 27/27 [00:00<00:00, 90.58batch/s, loss=0.138]\n",
            "Epoch 4: 100%|██████████| 27/27 [00:00<00:00, 88.02batch/s, loss=0.135]\n"
          ]
        },
        {
          "output_type": "stream",
          "name": "stdout",
          "text": [
            "\n",
            "LR=0.0001, WD=0.0001\n"
          ]
        },
        {
          "output_type": "stream",
          "name": "stderr",
          "text": [
            "Epoch 0: 100%|██████████| 27/27 [00:00<00:00, 99.34batch/s, loss=0.248] \n",
            "Epoch 1: 100%|██████████| 27/27 [00:00<00:00, 105.43batch/s, loss=0.239]\n",
            "Epoch 2: 100%|██████████| 27/27 [00:00<00:00, 102.60batch/s, loss=0.23]\n",
            "Epoch 3: 100%|██████████| 27/27 [00:00<00:00, 104.83batch/s, loss=0.221]\n",
            "Epoch 4: 100%|██████████| 27/27 [00:00<00:00, 113.33batch/s, loss=0.212]\n"
          ]
        },
        {
          "output_type": "stream",
          "name": "stdout",
          "text": [
            "\n",
            "LR=0.0001, WD=1e-05\n"
          ]
        },
        {
          "output_type": "stream",
          "name": "stderr",
          "text": [
            "Epoch 0: 100%|██████████| 27/27 [00:00<00:00, 101.69batch/s, loss=0.184]\n",
            "Epoch 1: 100%|██████████| 27/27 [00:00<00:00, 111.00batch/s, loss=0.172]\n",
            "Epoch 2: 100%|██████████| 27/27 [00:00<00:00, 105.96batch/s, loss=0.16]\n",
            "Epoch 3: 100%|██████████| 27/27 [00:00<00:00, 104.04batch/s, loss=0.148]\n",
            "Epoch 4: 100%|██████████| 27/27 [00:00<00:00, 109.12batch/s, loss=0.136]\n"
          ]
        },
        {
          "output_type": "stream",
          "name": "stdout",
          "text": [
            "\n",
            "model=<class 'torch.nn.modules.rnn.GRU'>\n",
            "LR=0.01, WD=0.0\n"
          ]
        },
        {
          "output_type": "stream",
          "name": "stderr",
          "text": [
            "Epoch 0: 100%|██████████| 27/27 [00:00<00:00, 74.21batch/s, loss=0.099]\n",
            "Epoch 1: 100%|██████████| 27/27 [00:00<00:00, 53.47batch/s, loss=0.0811]\n",
            "Epoch 2: 100%|██████████| 27/27 [00:00<00:00, 34.37batch/s, loss=0.0794]\n",
            "Epoch 3: 100%|██████████| 27/27 [00:00<00:00, 27.87batch/s, loss=0.0772]\n",
            "Epoch 4: 100%|██████████| 27/27 [00:00<00:00, 42.38batch/s, loss=0.0711]\n"
          ]
        },
        {
          "output_type": "stream",
          "name": "stdout",
          "text": [
            "\n",
            "LR=0.01, WD=0.0001\n"
          ]
        },
        {
          "output_type": "stream",
          "name": "stderr",
          "text": [
            "Epoch 0: 100%|██████████| 27/27 [00:00<00:00, 42.20batch/s, loss=0.0893]\n",
            "Epoch 1: 100%|██████████| 27/27 [00:00<00:00, 65.44batch/s, loss=0.0761]\n",
            "Epoch 2: 100%|██████████| 27/27 [00:00<00:00, 56.47batch/s, loss=0.0601]\n",
            "Epoch 3: 100%|██████████| 27/27 [00:00<00:00, 64.54batch/s, loss=0.0489]\n",
            "Epoch 4: 100%|██████████| 27/27 [00:00<00:00, 85.39batch/s, loss=0.0407]\n"
          ]
        },
        {
          "output_type": "stream",
          "name": "stdout",
          "text": [
            "\n",
            "LR=0.01, WD=1e-05\n"
          ]
        },
        {
          "output_type": "stream",
          "name": "stderr",
          "text": [
            "Epoch 0: 100%|██████████| 27/27 [00:00<00:00, 85.03batch/s, loss=0.0776]\n",
            "Epoch 1: 100%|██████████| 27/27 [00:00<00:00, 91.59batch/s, loss=0.0453]\n",
            "Epoch 2: 100%|██████████| 27/27 [00:00<00:00, 97.47batch/s, loss=0.0416]\n",
            "Epoch 3: 100%|██████████| 27/27 [00:00<00:00, 93.34batch/s, loss=0.0424]\n",
            "Epoch 4: 100%|██████████| 27/27 [00:00<00:00, 99.63batch/s, loss=0.0378] \n"
          ]
        },
        {
          "output_type": "stream",
          "name": "stdout",
          "text": [
            "\n",
            "LR=0.001, WD=0.0\n"
          ]
        },
        {
          "output_type": "stream",
          "name": "stderr",
          "text": [
            "Epoch 0: 100%|██████████| 27/27 [00:00<00:00, 99.24batch/s, loss=0.103] \n",
            "Epoch 1: 100%|██████████| 27/27 [00:00<00:00, 81.90batch/s, loss=0.102]\n",
            "Epoch 2: 100%|██████████| 27/27 [00:00<00:00, 95.64batch/s, loss=0.0972]\n",
            "Epoch 3: 100%|██████████| 27/27 [00:00<00:00, 85.27batch/s, loss=0.0941]\n",
            "Epoch 4: 100%|██████████| 27/27 [00:00<00:00, 83.54batch/s, loss=0.0917]\n"
          ]
        },
        {
          "output_type": "stream",
          "name": "stdout",
          "text": [
            "\n",
            "LR=0.001, WD=0.0001\n"
          ]
        },
        {
          "output_type": "stream",
          "name": "stderr",
          "text": [
            "Epoch 0: 100%|██████████| 27/27 [00:00<00:00, 73.32batch/s, loss=0.223]\n",
            "Epoch 1: 100%|██████████| 27/27 [00:00<00:00, 73.44batch/s, loss=0.0815]\n",
            "Epoch 2: 100%|██████████| 27/27 [00:00<00:00, 51.96batch/s, loss=0.0869]\n",
            "Epoch 3: 100%|██████████| 27/27 [00:00<00:00, 62.90batch/s, loss=0.0786]\n",
            "Epoch 4: 100%|██████████| 27/27 [00:00<00:00, 60.75batch/s, loss=0.0774]\n"
          ]
        },
        {
          "output_type": "stream",
          "name": "stdout",
          "text": [
            "\n",
            "LR=0.001, WD=1e-05\n"
          ]
        },
        {
          "output_type": "stream",
          "name": "stderr",
          "text": [
            "Epoch 0: 100%|██████████| 27/27 [00:00<00:00, 69.45batch/s, loss=0.0827]\n",
            "Epoch 1: 100%|██████████| 27/27 [00:00<00:00, 87.58batch/s, loss=0.0859]\n",
            "Epoch 2: 100%|██████████| 27/27 [00:00<00:00, 81.34batch/s, loss=0.0813]\n",
            "Epoch 3: 100%|██████████| 27/27 [00:00<00:00, 81.05batch/s, loss=0.0795]\n",
            "Epoch 4: 100%|██████████| 27/27 [00:00<00:00, 78.87batch/s, loss=0.0783]\n"
          ]
        },
        {
          "output_type": "stream",
          "name": "stdout",
          "text": [
            "\n",
            "LR=0.0015, WD=0.0\n"
          ]
        },
        {
          "output_type": "stream",
          "name": "stderr",
          "text": [
            "Epoch 0: 100%|██████████| 27/27 [00:00<00:00, 79.66batch/s, loss=0.0911]\n",
            "Epoch 1: 100%|██████████| 27/27 [00:00<00:00, 91.99batch/s, loss=0.104]\n",
            "Epoch 2: 100%|██████████| 27/27 [00:00<00:00, 78.30batch/s, loss=0.0881]\n",
            "Epoch 3: 100%|██████████| 27/27 [00:00<00:00, 68.47batch/s, loss=0.0994]\n",
            "Epoch 4: 100%|██████████| 27/27 [00:00<00:00, 70.41batch/s, loss=0.0874]\n"
          ]
        },
        {
          "output_type": "stream",
          "name": "stdout",
          "text": [
            "\n",
            "LR=0.0015, WD=0.0001\n"
          ]
        },
        {
          "output_type": "stream",
          "name": "stderr",
          "text": [
            "Epoch 0: 100%|██████████| 27/27 [00:00<00:00, 67.25batch/s, loss=0.13]\n",
            "Epoch 1: 100%|██████████| 27/27 [00:00<00:00, 65.71batch/s, loss=0.103]\n",
            "Epoch 2: 100%|██████████| 27/27 [00:00<00:00, 82.82batch/s, loss=0.0789]\n",
            "Epoch 3: 100%|██████████| 27/27 [00:00<00:00, 97.12batch/s, loss=0.0889]\n",
            "Epoch 4: 100%|██████████| 27/27 [00:00<00:00, 96.18batch/s, loss=0.0719]\n"
          ]
        },
        {
          "output_type": "stream",
          "name": "stdout",
          "text": [
            "\n",
            "LR=0.0015, WD=1e-05\n"
          ]
        },
        {
          "output_type": "stream",
          "name": "stderr",
          "text": [
            "Epoch 0: 100%|██████████| 27/27 [00:00<00:00, 101.72batch/s, loss=0.352]\n",
            "Epoch 1: 100%|██████████| 27/27 [00:00<00:00, 101.09batch/s, loss=0.125]\n",
            "Epoch 2: 100%|██████████| 27/27 [00:00<00:00, 97.74batch/s, loss=0.0731]\n",
            "Epoch 3: 100%|██████████| 27/27 [00:00<00:00, 95.58batch/s, loss=0.0866]\n",
            "Epoch 4: 100%|██████████| 27/27 [00:00<00:00, 77.88batch/s, loss=0.0733]\n"
          ]
        },
        {
          "output_type": "stream",
          "name": "stdout",
          "text": [
            "\n",
            "LR=0.0001, WD=0.0\n"
          ]
        },
        {
          "output_type": "stream",
          "name": "stderr",
          "text": [
            "Epoch 0: 100%|██████████| 27/27 [00:00<00:00, 73.52batch/s, loss=0.202]\n",
            "Epoch 1: 100%|██████████| 27/27 [00:00<00:00, 67.26batch/s, loss=0.181]\n",
            "Epoch 2: 100%|██████████| 27/27 [00:00<00:00, 94.37batch/s, loss=0.16]\n",
            "Epoch 3: 100%|██████████| 27/27 [00:00<00:00, 94.17batch/s, loss=0.14]\n",
            "Epoch 4: 100%|██████████| 27/27 [00:00<00:00, 85.31batch/s, loss=0.12]\n"
          ]
        },
        {
          "output_type": "stream",
          "name": "stdout",
          "text": [
            "\n",
            "LR=0.0001, WD=0.0001\n"
          ]
        },
        {
          "output_type": "stream",
          "name": "stderr",
          "text": [
            "Epoch 0: 100%|██████████| 27/27 [00:00<00:00, 91.22batch/s, loss=0.296]\n",
            "Epoch 1: 100%|██████████| 27/27 [00:00<00:00, 94.15batch/s, loss=0.272]\n",
            "Epoch 2: 100%|██████████| 27/27 [00:00<00:00, 82.18batch/s, loss=0.249]\n",
            "Epoch 3: 100%|██████████| 27/27 [00:00<00:00, 86.44batch/s, loss=0.225]\n",
            "Epoch 4: 100%|██████████| 27/27 [00:00<00:00, 94.87batch/s, loss=0.202]\n"
          ]
        },
        {
          "output_type": "stream",
          "name": "stdout",
          "text": [
            "\n",
            "LR=0.0001, WD=1e-05\n"
          ]
        },
        {
          "output_type": "stream",
          "name": "stderr",
          "text": [
            "Epoch 0: 100%|██████████| 27/27 [00:00<00:00, 106.77batch/s, loss=0.119]\n",
            "Epoch 1: 100%|██████████| 27/27 [00:00<00:00, 97.03batch/s, loss=0.111] \n",
            "Epoch 2: 100%|██████████| 27/27 [00:00<00:00, 91.00batch/s, loss=0.105]\n",
            "Epoch 3: 100%|██████████| 27/27 [00:00<00:00, 101.30batch/s, loss=0.0999]\n",
            "Epoch 4: 100%|██████████| 27/27 [00:00<00:00, 80.58batch/s, loss=0.0959]\n"
          ]
        },
        {
          "output_type": "stream",
          "name": "stdout",
          "text": [
            "\n",
            "+-------------------------------------+----------------------+----------------------+----------------------+\n",
            "|                Model                |    Learning Rate     |     Weight decay     |         loss         |\n",
            "+-------------------------------------+----------------------+----------------------+----------------------+\n",
            "|  <class 'torch.nn.modules.rnn.RNN'> |         0.01         |         0.0          |        0.0694        |\n",
            "|  <class 'torch.nn.modules.rnn.RNN'> |         0.01         |        0.0001        |        0.0842        |\n",
            "|  <class 'torch.nn.modules.rnn.RNN'> |         0.01         |        1e-05         |        0.0410        |\n",
            "|  <class 'torch.nn.modules.rnn.RNN'> |        0.001         |         0.0          |        0.1003        |\n",
            "|  <class 'torch.nn.modules.rnn.RNN'> |        0.001         |        0.0001        |        0.0918        |\n",
            "|  <class 'torch.nn.modules.rnn.RNN'> |        0.001         |        1e-05         |        0.0471        |\n",
            "|  <class 'torch.nn.modules.rnn.RNN'> |        0.0015        |         0.0          |        0.0908        |\n",
            "|  <class 'torch.nn.modules.rnn.RNN'> |        0.0015        |        0.0001        |        0.0883        |\n",
            "|  <class 'torch.nn.modules.rnn.RNN'> |        0.0015        |        1e-05         |        0.0804        |\n",
            "|  <class 'torch.nn.modules.rnn.RNN'> |        0.0001        |         0.0          |        0.0761        |\n",
            "|  <class 'torch.nn.modules.rnn.RNN'> |        0.0001        |        0.0001        |        0.1860        |\n",
            "|  <class 'torch.nn.modules.rnn.RNN'> |        0.0001        |        1e-05         |        0.4663        |\n",
            "|         --------------------        | -------------------- | -------------------- | -------------------- |\n",
            "| <class 'torch.nn.modules.rnn.LSTM'> |         0.01         |         0.0          |        0.0743        |\n",
            "| <class 'torch.nn.modules.rnn.LSTM'> |         0.01         |        0.0001        |        0.0783        |\n",
            "| <class 'torch.nn.modules.rnn.LSTM'> |         0.01         |        1e-05         |        0.0648        |\n",
            "| <class 'torch.nn.modules.rnn.LSTM'> |        0.001         |         0.0          |        0.0737        |\n",
            "| <class 'torch.nn.modules.rnn.LSTM'> |        0.001         |        0.0001        |        0.0770        |\n",
            "| <class 'torch.nn.modules.rnn.LSTM'> |        0.001         |        1e-05         |        0.0792        |\n",
            "| <class 'torch.nn.modules.rnn.LSTM'> |        0.0015        |         0.0          |        0.0835        |\n",
            "| <class 'torch.nn.modules.rnn.LSTM'> |        0.0015        |        0.0001        |        0.0846        |\n",
            "| <class 'torch.nn.modules.rnn.LSTM'> |        0.0015        |        1e-05         |        0.0888        |\n",
            "| <class 'torch.nn.modules.rnn.LSTM'> |        0.0001        |         0.0          |        0.1350        |\n",
            "| <class 'torch.nn.modules.rnn.LSTM'> |        0.0001        |        0.0001        |        0.2115        |\n",
            "| <class 'torch.nn.modules.rnn.LSTM'> |        0.0001        |        1e-05         |        0.1360        |\n",
            "|         --------------------        | -------------------- | -------------------- | -------------------- |\n",
            "|  <class 'torch.nn.modules.rnn.GRU'> |         0.01         |         0.0          |        0.0711        |\n",
            "|  <class 'torch.nn.modules.rnn.GRU'> |         0.01         |        0.0001        |        0.0407        |\n",
            "|  <class 'torch.nn.modules.rnn.GRU'> |         0.01         |        1e-05         |        0.0378        |\n",
            "|  <class 'torch.nn.modules.rnn.GRU'> |        0.001         |         0.0          |        0.0917        |\n",
            "|  <class 'torch.nn.modules.rnn.GRU'> |        0.001         |        0.0001        |        0.0774        |\n",
            "|  <class 'torch.nn.modules.rnn.GRU'> |        0.001         |        1e-05         |        0.0783        |\n",
            "|  <class 'torch.nn.modules.rnn.GRU'> |        0.0015        |         0.0          |        0.0874        |\n",
            "|  <class 'torch.nn.modules.rnn.GRU'> |        0.0015        |        0.0001        |        0.0719        |\n",
            "|  <class 'torch.nn.modules.rnn.GRU'> |        0.0015        |        1e-05         |        0.0733        |\n",
            "|  <class 'torch.nn.modules.rnn.GRU'> |        0.0001        |         0.0          |        0.1199        |\n",
            "|  <class 'torch.nn.modules.rnn.GRU'> |        0.0001        |        0.0001        |        0.2018        |\n",
            "|  <class 'torch.nn.modules.rnn.GRU'> |        0.0001        |        1e-05         |        0.0959        |\n",
            "|         --------------------        | -------------------- | -------------------- | -------------------- |\n",
            "+-------------------------------------+----------------------+----------------------+----------------------+\n"
          ]
        }
      ]
    },
    {
      "cell_type": "markdown",
      "source": [
        "# CNNLSTM"
      ],
      "metadata": {
        "id": "-KpRBxMFuIUN"
      }
    },
    {
      "cell_type": "code",
      "source": [
        "num_epochs = 5\n",
        "\n",
        "my_table = PrettyTable([\"Learning Rate\", \"Weight decay\", \"loss\"])\n",
        "\n",
        "for lr in [0.001, 0.0015, 0.0001]:\n",
        "    for wd in [0., 1e-4, 1e-5]:\n",
        "\n",
        "      model = CNNLSTM(1, 5, 4, 1, 1).to(device)\n",
        "      optimizer = optim.Adam(model.parameters(), lr=lr, weight_decay=wd)\n",
        "\n",
        "      print(f'LR={lr}, WD={wd}')\n",
        "      for epoch in range(5):\n",
        "        model, loss = train_one_epoch(model, train_loader, loss_fn, optimizer, epoch)\n",
        "\n",
        "        if epoch == 4:\n",
        "          my_table.add_row([lr, wd, f'{loss:.4f}'])\n",
        "\n",
        "      print()\n",
        "\n",
        "print(my_table)"
      ],
      "metadata": {
        "colab": {
          "base_uri": "https://localhost:8080/"
        },
        "id": "fKA7dbFH0-iT",
        "outputId": "7717fbe2-86d1-4dcd-ecfe-63faa8da5412"
      },
      "execution_count": null,
      "outputs": [
        {
          "output_type": "stream",
          "name": "stdout",
          "text": [
            "LR=0.001, WD=0.0\n"
          ]
        },
        {
          "output_type": "stream",
          "name": "stderr",
          "text": [
            "Epoch 0: 100%|██████████| 27/27 [00:00<00:00, 107.61batch/s, loss=0.307]\n",
            "Epoch 1: 100%|██████████| 27/27 [00:00<00:00, 110.08batch/s, loss=0.222]\n",
            "Epoch 2: 100%|██████████| 27/27 [00:00<00:00, 105.27batch/s, loss=0.115]\n",
            "Epoch 3: 100%|██████████| 27/27 [00:00<00:00, 102.63batch/s, loss=0.0991]\n",
            "Epoch 4: 100%|██████████| 27/27 [00:00<00:00, 105.25batch/s, loss=0.093]\n"
          ]
        },
        {
          "output_type": "stream",
          "name": "stdout",
          "text": [
            "\n",
            "LR=0.001, WD=0.0001\n"
          ]
        },
        {
          "output_type": "stream",
          "name": "stderr",
          "text": [
            "Epoch 0: 100%|██████████| 27/27 [00:00<00:00, 104.43batch/s, loss=0.225]\n",
            "Epoch 1: 100%|██████████| 27/27 [00:00<00:00, 106.36batch/s, loss=0.149]\n",
            "Epoch 2: 100%|██████████| 27/27 [00:00<00:00, 103.45batch/s, loss=0.105]\n",
            "Epoch 3: 100%|██████████| 27/27 [00:00<00:00, 103.44batch/s, loss=0.102]\n",
            "Epoch 4: 100%|██████████| 27/27 [00:00<00:00, 110.40batch/s, loss=0.0998]\n"
          ]
        },
        {
          "output_type": "stream",
          "name": "stdout",
          "text": [
            "\n",
            "LR=0.001, WD=1e-05\n"
          ]
        },
        {
          "output_type": "stream",
          "name": "stderr",
          "text": [
            "Epoch 0: 100%|██████████| 27/27 [00:00<00:00, 108.54batch/s, loss=0.224]\n",
            "Epoch 1: 100%|██████████| 27/27 [00:00<00:00, 109.82batch/s, loss=0.168]\n",
            "Epoch 2: 100%|██████████| 27/27 [00:00<00:00, 109.11batch/s, loss=0.115]\n",
            "Epoch 3: 100%|██████████| 27/27 [00:00<00:00, 108.08batch/s, loss=0.0683]\n",
            "Epoch 4: 100%|██████████| 27/27 [00:00<00:00, 115.10batch/s, loss=0.0661]\n"
          ]
        },
        {
          "output_type": "stream",
          "name": "stdout",
          "text": [
            "\n",
            "LR=0.0015, WD=0.0\n"
          ]
        },
        {
          "output_type": "stream",
          "name": "stderr",
          "text": [
            "Epoch 0: 100%|██████████| 27/27 [00:00<00:00, 107.06batch/s, loss=0.154]\n",
            "Epoch 1: 100%|██████████| 27/27 [00:00<00:00, 116.98batch/s, loss=0.107]\n",
            "Epoch 2: 100%|██████████| 27/27 [00:00<00:00, 117.36batch/s, loss=0.0869]\n",
            "Epoch 3: 100%|██████████| 27/27 [00:00<00:00, 105.81batch/s, loss=0.0819]\n",
            "Epoch 4: 100%|██████████| 27/27 [00:00<00:00, 83.56batch/s, loss=0.0772]\n"
          ]
        },
        {
          "output_type": "stream",
          "name": "stdout",
          "text": [
            "\n",
            "LR=0.0015, WD=0.0001\n"
          ]
        },
        {
          "output_type": "stream",
          "name": "stderr",
          "text": [
            "Epoch 0: 100%|██████████| 27/27 [00:00<00:00, 74.51batch/s, loss=0.447]\n",
            "Epoch 1: 100%|██████████| 27/27 [00:00<00:00, 76.79batch/s, loss=0.354]\n",
            "Epoch 2: 100%|██████████| 27/27 [00:00<00:00, 98.72batch/s, loss=0.24] \n",
            "Epoch 3: 100%|██████████| 27/27 [00:00<00:00, 111.53batch/s, loss=0.114]\n",
            "Epoch 4: 100%|██████████| 27/27 [00:00<00:00, 112.60batch/s, loss=0.0991]\n"
          ]
        },
        {
          "output_type": "stream",
          "name": "stdout",
          "text": [
            "\n",
            "LR=0.0015, WD=1e-05\n"
          ]
        },
        {
          "output_type": "stream",
          "name": "stderr",
          "text": [
            "Epoch 0: 100%|██████████| 27/27 [00:00<00:00, 109.37batch/s, loss=0.0879]\n",
            "Epoch 1: 100%|██████████| 27/27 [00:00<00:00, 82.84batch/s, loss=0.0746]\n",
            "Epoch 2: 100%|██████████| 27/27 [00:00<00:00, 75.96batch/s, loss=0.0718]\n",
            "Epoch 3: 100%|██████████| 27/27 [00:00<00:00, 66.45batch/s, loss=0.0655]\n",
            "Epoch 4: 100%|██████████| 27/27 [00:00<00:00, 71.28batch/s, loss=0.0622]\n"
          ]
        },
        {
          "output_type": "stream",
          "name": "stdout",
          "text": [
            "\n",
            "LR=0.0001, WD=0.0\n"
          ]
        },
        {
          "output_type": "stream",
          "name": "stderr",
          "text": [
            "Epoch 0: 100%|██████████| 27/27 [00:00<00:00, 69.82batch/s, loss=0.0834]\n",
            "Epoch 1: 100%|██████████| 27/27 [00:00<00:00, 81.12batch/s, loss=0.083]\n",
            "Epoch 2: 100%|██████████| 27/27 [00:00<00:00, 100.60batch/s, loss=0.0827]\n",
            "Epoch 3: 100%|██████████| 27/27 [00:00<00:00, 109.93batch/s, loss=0.0825]\n",
            "Epoch 4: 100%|██████████| 27/27 [00:00<00:00, 97.63batch/s, loss=0.0822] \n"
          ]
        },
        {
          "output_type": "stream",
          "name": "stdout",
          "text": [
            "\n",
            "LR=0.0001, WD=0.0001\n"
          ]
        },
        {
          "output_type": "stream",
          "name": "stderr",
          "text": [
            "Epoch 0: 100%|██████████| 27/27 [00:00<00:00, 65.58batch/s, loss=0.158]\n",
            "Epoch 1: 100%|██████████| 27/27 [00:00<00:00, 67.13batch/s, loss=0.149]\n",
            "Epoch 2: 100%|██████████| 27/27 [00:00<00:00, 81.14batch/s, loss=0.139]\n",
            "Epoch 3: 100%|██████████| 27/27 [00:00<00:00, 90.33batch/s, loss=0.13]\n",
            "Epoch 4: 100%|██████████| 27/27 [00:00<00:00, 96.92batch/s, loss=0.121]\n"
          ]
        },
        {
          "output_type": "stream",
          "name": "stdout",
          "text": [
            "\n",
            "LR=0.0001, WD=1e-05\n"
          ]
        },
        {
          "output_type": "stream",
          "name": "stderr",
          "text": [
            "Epoch 0: 100%|██████████| 27/27 [00:00<00:00, 94.84batch/s, loss=0.153]\n",
            "Epoch 1: 100%|██████████| 27/27 [00:00<00:00, 96.99batch/s, loss=0.149]\n",
            "Epoch 2: 100%|██████████| 27/27 [00:00<00:00, 94.81batch/s, loss=0.144]\n",
            "Epoch 3: 100%|██████████| 27/27 [00:00<00:00, 95.38batch/s, loss=0.14]\n",
            "Epoch 4: 100%|██████████| 27/27 [00:00<00:00, 98.17batch/s, loss=0.136]\n"
          ]
        },
        {
          "output_type": "stream",
          "name": "stdout",
          "text": [
            "\n",
            "+---------------+--------------+--------+\n",
            "| Learning Rate | Weight decay |  loss  |\n",
            "+---------------+--------------+--------+\n",
            "|     0.001     |     0.0      | 0.0930 |\n",
            "|     0.001     |    0.0001    | 0.0998 |\n",
            "|     0.001     |    1e-05     | 0.0661 |\n",
            "|     0.0015    |     0.0      | 0.0772 |\n",
            "|     0.0015    |    0.0001    | 0.0991 |\n",
            "|     0.0015    |    1e-05     | 0.0622 |\n",
            "|     0.0001    |     0.0      | 0.0822 |\n",
            "|     0.0001    |    0.0001    | 0.1210 |\n",
            "|     0.0001    |    1e-05     | 0.1358 |\n",
            "+---------------+--------------+--------+\n"
          ]
        }
      ]
    },
    {
      "cell_type": "markdown",
      "source": [
        "Model    | RNN      | LSTM    | GRU       | ‫‪CNNLSTM‬‬\n",
        "---------|----------|---------|-----------|-------------  \n",
        "best lr  | 0.01   |  0.01   |  0.01   | 0.0015\n",
        "---------|----------|---------|-----------|-------------  \n",
        "wd       | 1e-05    |  1e-5   |  1e-05    | 1e-05"
      ],
      "metadata": {
        "id": "nsWFepH8y1cC"
      }
    },
    {
      "cell_type": "markdown",
      "source": [
        "## Step 5: train more epochs"
      ],
      "metadata": {
        "id": "oBW2SLfEEkCp"
      }
    },
    {
      "cell_type": "markdown",
      "source": [
        "# train CNNLSTM"
      ],
      "metadata": {
        "id": "y_g7nJ3Nt3-9"
      }
    },
    {
      "cell_type": "code",
      "source": [
        "model = CNNLSTM(1, 5, 4, 1, 1).to(device)"
      ],
      "metadata": {
        "id": "lLsMR1OS5TRi"
      },
      "execution_count": null,
      "outputs": []
    },
    {
      "cell_type": "code",
      "source": [
        "lr = 0.0015    # cnnlstm\n",
        "wd = 1e-5\n",
        "\n",
        "optimizer = optim.Adam(model.parameters(), lr=lr, weight_decay=wd)\n",
        "loss_fn = nn.L1Loss()"
      ],
      "metadata": {
        "id": "IvVxBvmLzllp"
      },
      "execution_count": null,
      "outputs": []
    },
    {
      "cell_type": "code",
      "source": [
        "loss_train_hist = []\n",
        "loss_valid_hist = []\n",
        "\n",
        "best_loss_valid = torch.inf\n",
        "epoch_counter = 0"
      ],
      "metadata": {
        "id": "pCCY2WecCyyg"
      },
      "execution_count": null,
      "outputs": []
    },
    {
      "cell_type": "code",
      "source": [
        "num_epochs = 80\n",
        "\n",
        "for epoch in range(num_epochs):\n",
        "  # Train\n",
        "  model, loss_train = train_one_epoch(model,\n",
        "                                      train_loader,\n",
        "                                      loss_fn,\n",
        "                                      optimizer,\n",
        "                                      epoch)\n",
        "  # Validation\n",
        "  loss_valid = validation(model,\n",
        "                          test_loader,\n",
        "                          loss_fn)\n",
        "\n",
        "  loss_train_hist.append(loss_train)\n",
        "  loss_valid_hist.append(loss_valid)\n",
        "\n",
        "  print(f'Valid: Loss = {loss_valid:.4}')\n",
        "\n",
        "  if loss_valid < best_loss_valid:\n",
        "\n",
        "    torch.save(model, '/content/cnnlstm-model.pt')\n",
        "    best_loss_valid = loss_valid\n",
        "    print('Model Saved!')\n",
        "\n",
        "  print()\n",
        "  epoch_counter += 1\n",
        "\n",
        "torch.save(torch.tensor(loss_train_hist), f'/content/cnnlstm-loss-train.pt')\n",
        "torch.save(torch.tensor(loss_valid_hist), f'/content/cnnlstm-loss-valid.pt')"
      ],
      "metadata": {
        "id": "bowjVB5yIXUP",
        "colab": {
          "base_uri": "https://localhost:8080/"
        },
        "outputId": "58711081-060b-483c-b951-6c9e820b63ff"
      },
      "execution_count": null,
      "outputs": [
        {
          "output_type": "stream",
          "name": "stderr",
          "text": [
            "Epoch 0: 100%|██████████| 27/27 [00:00<00:00, 72.01batch/s, loss=0.299]\n"
          ]
        },
        {
          "output_type": "stream",
          "name": "stdout",
          "text": [
            "Valid: Loss = 0.8213\n",
            "Model Saved!\n",
            "\n"
          ]
        },
        {
          "output_type": "stream",
          "name": "stderr",
          "text": [
            "Epoch 1: 100%|██████████| 27/27 [00:00<00:00, 86.10batch/s, loss=0.137]\n"
          ]
        },
        {
          "output_type": "stream",
          "name": "stdout",
          "text": [
            "Valid: Loss = 0.6982\n",
            "Model Saved!\n",
            "\n"
          ]
        },
        {
          "output_type": "stream",
          "name": "stderr",
          "text": [
            "Epoch 2: 100%|██████████| 27/27 [00:00<00:00, 89.03batch/s, loss=0.0931]\n"
          ]
        },
        {
          "output_type": "stream",
          "name": "stdout",
          "text": [
            "Valid: Loss = 0.6647\n",
            "Model Saved!\n",
            "\n"
          ]
        },
        {
          "output_type": "stream",
          "name": "stderr",
          "text": [
            "Epoch 3: 100%|██████████| 27/27 [00:00<00:00, 102.64batch/s, loss=0.0847]\n"
          ]
        },
        {
          "output_type": "stream",
          "name": "stdout",
          "text": [
            "Valid: Loss = 0.6511\n",
            "Model Saved!\n",
            "\n"
          ]
        },
        {
          "output_type": "stream",
          "name": "stderr",
          "text": [
            "Epoch 4: 100%|██████████| 27/27 [00:00<00:00, 112.42batch/s, loss=0.0752]\n"
          ]
        },
        {
          "output_type": "stream",
          "name": "stdout",
          "text": [
            "Valid: Loss = 0.6113\n",
            "Model Saved!\n",
            "\n"
          ]
        },
        {
          "output_type": "stream",
          "name": "stderr",
          "text": [
            "Epoch 5: 100%|██████████| 27/27 [00:00<00:00, 94.79batch/s, loss=0.0707]\n"
          ]
        },
        {
          "output_type": "stream",
          "name": "stdout",
          "text": [
            "Valid: Loss = 0.5814\n",
            "Model Saved!\n",
            "\n"
          ]
        },
        {
          "output_type": "stream",
          "name": "stderr",
          "text": [
            "Epoch 6: 100%|██████████| 27/27 [00:00<00:00, 107.24batch/s, loss=0.0633]\n"
          ]
        },
        {
          "output_type": "stream",
          "name": "stdout",
          "text": [
            "Valid: Loss = 0.5413\n",
            "Model Saved!\n",
            "\n"
          ]
        },
        {
          "output_type": "stream",
          "name": "stderr",
          "text": [
            "Epoch 7: 100%|██████████| 27/27 [00:00<00:00, 108.45batch/s, loss=0.0593]\n"
          ]
        },
        {
          "output_type": "stream",
          "name": "stdout",
          "text": [
            "Valid: Loss = 0.5107\n",
            "Model Saved!\n",
            "\n"
          ]
        },
        {
          "output_type": "stream",
          "name": "stderr",
          "text": [
            "Epoch 8: 100%|██████████| 27/27 [00:00<00:00, 102.59batch/s, loss=0.0551]\n"
          ]
        },
        {
          "output_type": "stream",
          "name": "stdout",
          "text": [
            "Valid: Loss = 0.4801\n",
            "Model Saved!\n",
            "\n"
          ]
        },
        {
          "output_type": "stream",
          "name": "stderr",
          "text": [
            "Epoch 9: 100%|██████████| 27/27 [00:00<00:00, 98.47batch/s, loss=0.0539]\n"
          ]
        },
        {
          "output_type": "stream",
          "name": "stdout",
          "text": [
            "Valid: Loss = 0.4578\n",
            "Model Saved!\n",
            "\n"
          ]
        },
        {
          "output_type": "stream",
          "name": "stderr",
          "text": [
            "Epoch 10: 100%|██████████| 27/27 [00:00<00:00, 87.88batch/s, loss=0.0512]\n"
          ]
        },
        {
          "output_type": "stream",
          "name": "stdout",
          "text": [
            "Valid: Loss = 0.4393\n",
            "Model Saved!\n",
            "\n"
          ]
        },
        {
          "output_type": "stream",
          "name": "stderr",
          "text": [
            "Epoch 11: 100%|██████████| 27/27 [00:00<00:00, 86.51batch/s, loss=0.0498]\n"
          ]
        },
        {
          "output_type": "stream",
          "name": "stdout",
          "text": [
            "Valid: Loss = 0.4258\n",
            "Model Saved!\n",
            "\n"
          ]
        },
        {
          "output_type": "stream",
          "name": "stderr",
          "text": [
            "Epoch 12: 100%|██████████| 27/27 [00:00<00:00, 75.11batch/s, loss=0.0496]\n"
          ]
        },
        {
          "output_type": "stream",
          "name": "stdout",
          "text": [
            "Valid: Loss = 0.4176\n",
            "Model Saved!\n",
            "\n"
          ]
        },
        {
          "output_type": "stream",
          "name": "stderr",
          "text": [
            "Epoch 13: 100%|██████████| 27/27 [00:00<00:00, 86.15batch/s, loss=0.0477]\n"
          ]
        },
        {
          "output_type": "stream",
          "name": "stdout",
          "text": [
            "Valid: Loss = 0.4056\n",
            "Model Saved!\n",
            "\n"
          ]
        },
        {
          "output_type": "stream",
          "name": "stderr",
          "text": [
            "Epoch 14: 100%|██████████| 27/27 [00:00<00:00, 95.54batch/s, loss=0.0476]\n"
          ]
        },
        {
          "output_type": "stream",
          "name": "stdout",
          "text": [
            "Valid: Loss = 0.4018\n",
            "Model Saved!\n",
            "\n"
          ]
        },
        {
          "output_type": "stream",
          "name": "stderr",
          "text": [
            "Epoch 15: 100%|██████████| 27/27 [00:00<00:00, 100.51batch/s, loss=0.0471]\n"
          ]
        },
        {
          "output_type": "stream",
          "name": "stdout",
          "text": [
            "Valid: Loss = 0.4066\n",
            "\n"
          ]
        },
        {
          "output_type": "stream",
          "name": "stderr",
          "text": [
            "Epoch 16: 100%|██████████| 27/27 [00:00<00:00, 92.80batch/s, loss=0.0465]\n"
          ]
        },
        {
          "output_type": "stream",
          "name": "stdout",
          "text": [
            "Valid: Loss = 0.3957\n",
            "Model Saved!\n",
            "\n"
          ]
        },
        {
          "output_type": "stream",
          "name": "stderr",
          "text": [
            "Epoch 17: 100%|██████████| 27/27 [00:00<00:00, 81.28batch/s, loss=0.0456]\n"
          ]
        },
        {
          "output_type": "stream",
          "name": "stdout",
          "text": [
            "Valid: Loss = 0.3975\n",
            "\n"
          ]
        },
        {
          "output_type": "stream",
          "name": "stderr",
          "text": [
            "Epoch 18: 100%|██████████| 27/27 [00:00<00:00, 72.08batch/s, loss=0.0453]\n"
          ]
        },
        {
          "output_type": "stream",
          "name": "stdout",
          "text": [
            "Valid: Loss = 0.4014\n",
            "\n"
          ]
        },
        {
          "output_type": "stream",
          "name": "stderr",
          "text": [
            "Epoch 19: 100%|██████████| 27/27 [00:00<00:00, 52.74batch/s, loss=0.0448]\n"
          ]
        },
        {
          "output_type": "stream",
          "name": "stdout",
          "text": [
            "Valid: Loss = 0.3921\n",
            "Model Saved!\n",
            "\n"
          ]
        },
        {
          "output_type": "stream",
          "name": "stderr",
          "text": [
            "Epoch 20: 100%|██████████| 27/27 [00:00<00:00, 79.42batch/s, loss=0.0444]\n"
          ]
        },
        {
          "output_type": "stream",
          "name": "stdout",
          "text": [
            "Valid: Loss = 0.3923\n",
            "\n"
          ]
        },
        {
          "output_type": "stream",
          "name": "stderr",
          "text": [
            "Epoch 21: 100%|██████████| 27/27 [00:00<00:00, 85.41batch/s, loss=0.0444]\n"
          ]
        },
        {
          "output_type": "stream",
          "name": "stdout",
          "text": [
            "Valid: Loss = 0.3936\n",
            "\n"
          ]
        },
        {
          "output_type": "stream",
          "name": "stderr",
          "text": [
            "Epoch 22: 100%|██████████| 27/27 [00:00<00:00, 75.93batch/s, loss=0.0439]\n"
          ]
        },
        {
          "output_type": "stream",
          "name": "stdout",
          "text": [
            "Valid: Loss = 0.3932\n",
            "\n"
          ]
        },
        {
          "output_type": "stream",
          "name": "stderr",
          "text": [
            "Epoch 23: 100%|██████████| 27/27 [00:00<00:00, 95.21batch/s, loss=0.0436]\n"
          ]
        },
        {
          "output_type": "stream",
          "name": "stdout",
          "text": [
            "Valid: Loss = 0.3933\n",
            "\n"
          ]
        },
        {
          "output_type": "stream",
          "name": "stderr",
          "text": [
            "Epoch 24: 100%|██████████| 27/27 [00:00<00:00, 89.81batch/s, loss=0.0432]\n"
          ]
        },
        {
          "output_type": "stream",
          "name": "stdout",
          "text": [
            "Valid: Loss = 0.3862\n",
            "Model Saved!\n",
            "\n"
          ]
        },
        {
          "output_type": "stream",
          "name": "stderr",
          "text": [
            "Epoch 25: 100%|██████████| 27/27 [00:00<00:00, 67.55batch/s, loss=0.0428]\n"
          ]
        },
        {
          "output_type": "stream",
          "name": "stdout",
          "text": [
            "Valid: Loss = 0.3848\n",
            "Model Saved!\n",
            "\n"
          ]
        },
        {
          "output_type": "stream",
          "name": "stderr",
          "text": [
            "Epoch 26: 100%|██████████| 27/27 [00:00<00:00, 64.13batch/s, loss=0.0426]\n"
          ]
        },
        {
          "output_type": "stream",
          "name": "stdout",
          "text": [
            "Valid: Loss = 0.3842\n",
            "Model Saved!\n",
            "\n"
          ]
        },
        {
          "output_type": "stream",
          "name": "stderr",
          "text": [
            "Epoch 27: 100%|██████████| 27/27 [00:00<00:00, 81.16batch/s, loss=0.0418]\n"
          ]
        },
        {
          "output_type": "stream",
          "name": "stdout",
          "text": [
            "Valid: Loss = 0.3827\n",
            "Model Saved!\n",
            "\n"
          ]
        },
        {
          "output_type": "stream",
          "name": "stderr",
          "text": [
            "Epoch 28: 100%|██████████| 27/27 [00:00<00:00, 91.65batch/s, loss=0.0416]\n"
          ]
        },
        {
          "output_type": "stream",
          "name": "stdout",
          "text": [
            "Valid: Loss = 0.3804\n",
            "Model Saved!\n",
            "\n"
          ]
        },
        {
          "output_type": "stream",
          "name": "stderr",
          "text": [
            "Epoch 29: 100%|██████████| 27/27 [00:00<00:00, 93.98batch/s, loss=0.0415]\n"
          ]
        },
        {
          "output_type": "stream",
          "name": "stdout",
          "text": [
            "Valid: Loss = 0.3775\n",
            "Model Saved!\n",
            "\n"
          ]
        },
        {
          "output_type": "stream",
          "name": "stderr",
          "text": [
            "Epoch 30: 100%|██████████| 27/27 [00:00<00:00, 97.18batch/s, loss=0.0412]\n"
          ]
        },
        {
          "output_type": "stream",
          "name": "stdout",
          "text": [
            "Valid: Loss = 0.3742\n",
            "Model Saved!\n",
            "\n"
          ]
        },
        {
          "output_type": "stream",
          "name": "stderr",
          "text": [
            "Epoch 31: 100%|██████████| 27/27 [00:00<00:00, 87.11batch/s, loss=0.0406]\n"
          ]
        },
        {
          "output_type": "stream",
          "name": "stdout",
          "text": [
            "Valid: Loss = 0.3712\n",
            "Model Saved!\n",
            "\n"
          ]
        },
        {
          "output_type": "stream",
          "name": "stderr",
          "text": [
            "Epoch 32: 100%|██████████| 27/27 [00:00<00:00, 40.48batch/s, loss=0.0409]\n"
          ]
        },
        {
          "output_type": "stream",
          "name": "stdout",
          "text": [
            "Valid: Loss = 0.3705\n",
            "Model Saved!\n",
            "\n"
          ]
        },
        {
          "output_type": "stream",
          "name": "stderr",
          "text": [
            "Epoch 33: 100%|██████████| 27/27 [00:00<00:00, 51.59batch/s, loss=0.0403]\n"
          ]
        },
        {
          "output_type": "stream",
          "name": "stdout",
          "text": [
            "Valid: Loss = 0.3669\n",
            "Model Saved!\n",
            "\n"
          ]
        },
        {
          "output_type": "stream",
          "name": "stderr",
          "text": [
            "Epoch 34: 100%|██████████| 27/27 [00:00<00:00, 54.17batch/s, loss=0.0401]\n"
          ]
        },
        {
          "output_type": "stream",
          "name": "stdout",
          "text": [
            "Valid: Loss = 0.3644\n",
            "Model Saved!\n",
            "\n"
          ]
        },
        {
          "output_type": "stream",
          "name": "stderr",
          "text": [
            "Epoch 35: 100%|██████████| 27/27 [00:00<00:00, 56.43batch/s, loss=0.0396]\n"
          ]
        },
        {
          "output_type": "stream",
          "name": "stdout",
          "text": [
            "Valid: Loss = 0.3608\n",
            "Model Saved!\n",
            "\n"
          ]
        },
        {
          "output_type": "stream",
          "name": "stderr",
          "text": [
            "Epoch 36: 100%|██████████| 27/27 [00:00<00:00, 36.60batch/s, loss=0.0396]\n"
          ]
        },
        {
          "output_type": "stream",
          "name": "stdout",
          "text": [
            "Valid: Loss = 0.3576\n",
            "Model Saved!\n",
            "\n"
          ]
        },
        {
          "output_type": "stream",
          "name": "stderr",
          "text": [
            "Epoch 37: 100%|██████████| 27/27 [00:00<00:00, 52.17batch/s, loss=0.0392]\n"
          ]
        },
        {
          "output_type": "stream",
          "name": "stdout",
          "text": [
            "Valid: Loss = 0.353\n",
            "Model Saved!\n",
            "\n"
          ]
        },
        {
          "output_type": "stream",
          "name": "stderr",
          "text": [
            "Epoch 38: 100%|██████████| 27/27 [00:00<00:00, 62.68batch/s, loss=0.0392]\n"
          ]
        },
        {
          "output_type": "stream",
          "name": "stdout",
          "text": [
            "Valid: Loss = 0.348\n",
            "Model Saved!\n",
            "\n"
          ]
        },
        {
          "output_type": "stream",
          "name": "stderr",
          "text": [
            "Epoch 39: 100%|██████████| 27/27 [00:00<00:00, 63.61batch/s, loss=0.0387]\n"
          ]
        },
        {
          "output_type": "stream",
          "name": "stdout",
          "text": [
            "Valid: Loss = 0.3402\n",
            "Model Saved!\n",
            "\n"
          ]
        },
        {
          "output_type": "stream",
          "name": "stderr",
          "text": [
            "Epoch 40: 100%|██████████| 27/27 [00:00<00:00, 92.10batch/s, loss=0.0387]\n"
          ]
        },
        {
          "output_type": "stream",
          "name": "stdout",
          "text": [
            "Valid: Loss = 0.3344\n",
            "Model Saved!\n",
            "\n"
          ]
        },
        {
          "output_type": "stream",
          "name": "stderr",
          "text": [
            "Epoch 41: 100%|██████████| 27/27 [00:00<00:00, 74.98batch/s, loss=0.0379]\n"
          ]
        },
        {
          "output_type": "stream",
          "name": "stdout",
          "text": [
            "Valid: Loss = 0.326\n",
            "Model Saved!\n",
            "\n"
          ]
        },
        {
          "output_type": "stream",
          "name": "stderr",
          "text": [
            "Epoch 42: 100%|██████████| 27/27 [00:00<00:00, 71.37batch/s, loss=0.0381]\n"
          ]
        },
        {
          "output_type": "stream",
          "name": "stdout",
          "text": [
            "Valid: Loss = 0.3266\n",
            "\n"
          ]
        },
        {
          "output_type": "stream",
          "name": "stderr",
          "text": [
            "Epoch 43: 100%|██████████| 27/27 [00:00<00:00, 46.30batch/s, loss=0.0378]\n"
          ]
        },
        {
          "output_type": "stream",
          "name": "stdout",
          "text": [
            "Valid: Loss = 0.319\n",
            "Model Saved!\n",
            "\n"
          ]
        },
        {
          "output_type": "stream",
          "name": "stderr",
          "text": [
            "Epoch 44: 100%|██████████| 27/27 [00:00<00:00, 53.67batch/s, loss=0.0373]\n"
          ]
        },
        {
          "output_type": "stream",
          "name": "stdout",
          "text": [
            "Valid: Loss = 0.3172\n",
            "Model Saved!\n",
            "\n"
          ]
        },
        {
          "output_type": "stream",
          "name": "stderr",
          "text": [
            "Epoch 45: 100%|██████████| 27/27 [00:00<00:00, 59.92batch/s, loss=0.0375]\n"
          ]
        },
        {
          "output_type": "stream",
          "name": "stdout",
          "text": [
            "Valid: Loss = 0.3174\n",
            "\n"
          ]
        },
        {
          "output_type": "stream",
          "name": "stderr",
          "text": [
            "Epoch 46: 100%|██████████| 27/27 [00:00<00:00, 57.23batch/s, loss=0.0366]\n"
          ]
        },
        {
          "output_type": "stream",
          "name": "stdout",
          "text": [
            "Valid: Loss = 0.3076\n",
            "Model Saved!\n",
            "\n"
          ]
        },
        {
          "output_type": "stream",
          "name": "stderr",
          "text": [
            "Epoch 47: 100%|██████████| 27/27 [00:00<00:00, 72.03batch/s, loss=0.0369]\n"
          ]
        },
        {
          "output_type": "stream",
          "name": "stdout",
          "text": [
            "Valid: Loss = 0.3058\n",
            "Model Saved!\n",
            "\n"
          ]
        },
        {
          "output_type": "stream",
          "name": "stderr",
          "text": [
            "Epoch 48: 100%|██████████| 27/27 [00:00<00:00, 62.70batch/s, loss=0.0364]\n"
          ]
        },
        {
          "output_type": "stream",
          "name": "stdout",
          "text": [
            "Valid: Loss = 0.2973\n",
            "Model Saved!\n",
            "\n"
          ]
        },
        {
          "output_type": "stream",
          "name": "stderr",
          "text": [
            "Epoch 49: 100%|██████████| 27/27 [00:00<00:00, 49.79batch/s, loss=0.0356]\n"
          ]
        },
        {
          "output_type": "stream",
          "name": "stdout",
          "text": [
            "Valid: Loss = 0.2963\n",
            "Model Saved!\n",
            "\n"
          ]
        },
        {
          "output_type": "stream",
          "name": "stderr",
          "text": [
            "Epoch 50: 100%|██████████| 27/27 [00:00<00:00, 70.10batch/s, loss=0.0361]\n"
          ]
        },
        {
          "output_type": "stream",
          "name": "stdout",
          "text": [
            "Valid: Loss = 0.2914\n",
            "Model Saved!\n",
            "\n"
          ]
        },
        {
          "output_type": "stream",
          "name": "stderr",
          "text": [
            "Epoch 51: 100%|██████████| 27/27 [00:00<00:00, 70.60batch/s, loss=0.0353]\n"
          ]
        },
        {
          "output_type": "stream",
          "name": "stdout",
          "text": [
            "Valid: Loss = 0.2908\n",
            "Model Saved!\n",
            "\n"
          ]
        },
        {
          "output_type": "stream",
          "name": "stderr",
          "text": [
            "Epoch 52: 100%|██████████| 27/27 [00:00<00:00, 72.04batch/s, loss=0.035]\n"
          ]
        },
        {
          "output_type": "stream",
          "name": "stdout",
          "text": [
            "Valid: Loss = 0.2835\n",
            "Model Saved!\n",
            "\n"
          ]
        },
        {
          "output_type": "stream",
          "name": "stderr",
          "text": [
            "Epoch 53: 100%|██████████| 27/27 [00:00<00:00, 46.39batch/s, loss=0.0348]\n"
          ]
        },
        {
          "output_type": "stream",
          "name": "stdout",
          "text": [
            "Valid: Loss = 0.2833\n",
            "Model Saved!\n",
            "\n"
          ]
        },
        {
          "output_type": "stream",
          "name": "stderr",
          "text": [
            "Epoch 54: 100%|██████████| 27/27 [00:00<00:00, 68.40batch/s, loss=0.0347]\n"
          ]
        },
        {
          "output_type": "stream",
          "name": "stdout",
          "text": [
            "Valid: Loss = 0.2764\n",
            "Model Saved!\n",
            "\n"
          ]
        },
        {
          "output_type": "stream",
          "name": "stderr",
          "text": [
            "Epoch 55: 100%|██████████| 27/27 [00:00<00:00, 81.43batch/s, loss=0.0345]\n"
          ]
        },
        {
          "output_type": "stream",
          "name": "stdout",
          "text": [
            "Valid: Loss = 0.269\n",
            "Model Saved!\n",
            "\n"
          ]
        },
        {
          "output_type": "stream",
          "name": "stderr",
          "text": [
            "Epoch 56: 100%|██████████| 27/27 [00:00<00:00, 92.67batch/s, loss=0.0342]\n"
          ]
        },
        {
          "output_type": "stream",
          "name": "stdout",
          "text": [
            "Valid: Loss = 0.2684\n",
            "Model Saved!\n",
            "\n"
          ]
        },
        {
          "output_type": "stream",
          "name": "stderr",
          "text": [
            "Epoch 57: 100%|██████████| 27/27 [00:00<00:00, 113.50batch/s, loss=0.0341]\n"
          ]
        },
        {
          "output_type": "stream",
          "name": "stdout",
          "text": [
            "Valid: Loss = 0.2612\n",
            "Model Saved!\n",
            "\n"
          ]
        },
        {
          "output_type": "stream",
          "name": "stderr",
          "text": [
            "Epoch 58: 100%|██████████| 27/27 [00:00<00:00, 104.84batch/s, loss=0.0337]\n"
          ]
        },
        {
          "output_type": "stream",
          "name": "stdout",
          "text": [
            "Valid: Loss = 0.2602\n",
            "Model Saved!\n",
            "\n"
          ]
        },
        {
          "output_type": "stream",
          "name": "stderr",
          "text": [
            "Epoch 59: 100%|██████████| 27/27 [00:00<00:00, 104.72batch/s, loss=0.0336]\n"
          ]
        },
        {
          "output_type": "stream",
          "name": "stdout",
          "text": [
            "Valid: Loss = 0.2519\n",
            "Model Saved!\n",
            "\n"
          ]
        },
        {
          "output_type": "stream",
          "name": "stderr",
          "text": [
            "Epoch 60: 100%|██████████| 27/27 [00:00<00:00, 85.25batch/s, loss=0.0331]\n"
          ]
        },
        {
          "output_type": "stream",
          "name": "stdout",
          "text": [
            "Valid: Loss = 0.2501\n",
            "Model Saved!\n",
            "\n"
          ]
        },
        {
          "output_type": "stream",
          "name": "stderr",
          "text": [
            "Epoch 61: 100%|██████████| 27/27 [00:00<00:00, 98.07batch/s, loss=0.0329] \n"
          ]
        },
        {
          "output_type": "stream",
          "name": "stdout",
          "text": [
            "Valid: Loss = 0.2442\n",
            "Model Saved!\n",
            "\n"
          ]
        },
        {
          "output_type": "stream",
          "name": "stderr",
          "text": [
            "Epoch 62: 100%|██████████| 27/27 [00:00<00:00, 90.22batch/s, loss=0.0323]\n"
          ]
        },
        {
          "output_type": "stream",
          "name": "stdout",
          "text": [
            "Valid: Loss = 0.2517\n",
            "\n"
          ]
        },
        {
          "output_type": "stream",
          "name": "stderr",
          "text": [
            "Epoch 63: 100%|██████████| 27/27 [00:00<00:00, 99.99batch/s, loss=0.0328]\n"
          ]
        },
        {
          "output_type": "stream",
          "name": "stdout",
          "text": [
            "Valid: Loss = 0.2445\n",
            "\n"
          ]
        },
        {
          "output_type": "stream",
          "name": "stderr",
          "text": [
            "Epoch 64: 100%|██████████| 27/27 [00:00<00:00, 107.10batch/s, loss=0.0324]\n"
          ]
        },
        {
          "output_type": "stream",
          "name": "stdout",
          "text": [
            "Valid: Loss = 0.2442\n",
            "\n"
          ]
        },
        {
          "output_type": "stream",
          "name": "stderr",
          "text": [
            "Epoch 65: 100%|██████████| 27/27 [00:00<00:00, 99.01batch/s, loss=0.0319]\n"
          ]
        },
        {
          "output_type": "stream",
          "name": "stdout",
          "text": [
            "Valid: Loss = 0.2428\n",
            "Model Saved!\n",
            "\n"
          ]
        },
        {
          "output_type": "stream",
          "name": "stderr",
          "text": [
            "Epoch 66: 100%|██████████| 27/27 [00:00<00:00, 88.55batch/s, loss=0.0324]\n"
          ]
        },
        {
          "output_type": "stream",
          "name": "stdout",
          "text": [
            "Valid: Loss = 0.2423\n",
            "Model Saved!\n",
            "\n"
          ]
        },
        {
          "output_type": "stream",
          "name": "stderr",
          "text": [
            "Epoch 67: 100%|██████████| 27/27 [00:00<00:00, 115.65batch/s, loss=0.0322]\n"
          ]
        },
        {
          "output_type": "stream",
          "name": "stdout",
          "text": [
            "Valid: Loss = 0.245\n",
            "\n"
          ]
        },
        {
          "output_type": "stream",
          "name": "stderr",
          "text": [
            "Epoch 68: 100%|██████████| 27/27 [00:00<00:00, 101.11batch/s, loss=0.0317]\n"
          ]
        },
        {
          "output_type": "stream",
          "name": "stdout",
          "text": [
            "Valid: Loss = 0.242\n",
            "Model Saved!\n",
            "\n"
          ]
        },
        {
          "output_type": "stream",
          "name": "stderr",
          "text": [
            "Epoch 69: 100%|██████████| 27/27 [00:00<00:00, 108.19batch/s, loss=0.0318]\n"
          ]
        },
        {
          "output_type": "stream",
          "name": "stdout",
          "text": [
            "Valid: Loss = 0.2406\n",
            "Model Saved!\n",
            "\n"
          ]
        },
        {
          "output_type": "stream",
          "name": "stderr",
          "text": [
            "Epoch 70: 100%|██████████| 27/27 [00:00<00:00, 80.19batch/s, loss=0.0318]\n"
          ]
        },
        {
          "output_type": "stream",
          "name": "stdout",
          "text": [
            "Valid: Loss = 0.2418\n",
            "\n"
          ]
        },
        {
          "output_type": "stream",
          "name": "stderr",
          "text": [
            "Epoch 71: 100%|██████████| 27/27 [00:00<00:00, 89.65batch/s, loss=0.0317]\n"
          ]
        },
        {
          "output_type": "stream",
          "name": "stdout",
          "text": [
            "Valid: Loss = 0.2434\n",
            "\n"
          ]
        },
        {
          "output_type": "stream",
          "name": "stderr",
          "text": [
            "Epoch 72: 100%|██████████| 27/27 [00:00<00:00, 76.98batch/s, loss=0.0312]\n"
          ]
        },
        {
          "output_type": "stream",
          "name": "stdout",
          "text": [
            "Valid: Loss = 0.2381\n",
            "Model Saved!\n",
            "\n"
          ]
        },
        {
          "output_type": "stream",
          "name": "stderr",
          "text": [
            "Epoch 73: 100%|██████████| 27/27 [00:00<00:00, 86.99batch/s, loss=0.0316]\n"
          ]
        },
        {
          "output_type": "stream",
          "name": "stdout",
          "text": [
            "Valid: Loss = 0.2376\n",
            "Model Saved!\n",
            "\n"
          ]
        },
        {
          "output_type": "stream",
          "name": "stderr",
          "text": [
            "Epoch 74: 100%|██████████| 27/27 [00:00<00:00, 81.93batch/s, loss=0.0312]\n"
          ]
        },
        {
          "output_type": "stream",
          "name": "stdout",
          "text": [
            "Valid: Loss = 0.239\n",
            "\n"
          ]
        },
        {
          "output_type": "stream",
          "name": "stderr",
          "text": [
            "Epoch 75: 100%|██████████| 27/27 [00:00<00:00, 87.40batch/s, loss=0.0319]\n"
          ]
        },
        {
          "output_type": "stream",
          "name": "stdout",
          "text": [
            "Valid: Loss = 0.2396\n",
            "\n"
          ]
        },
        {
          "output_type": "stream",
          "name": "stderr",
          "text": [
            "Epoch 76: 100%|██████████| 27/27 [00:00<00:00, 81.70batch/s, loss=0.0311]\n"
          ]
        },
        {
          "output_type": "stream",
          "name": "stdout",
          "text": [
            "Valid: Loss = 0.2328\n",
            "Model Saved!\n",
            "\n"
          ]
        },
        {
          "output_type": "stream",
          "name": "stderr",
          "text": [
            "Epoch 77: 100%|██████████| 27/27 [00:00<00:00, 97.14batch/s, loss=0.0314]\n"
          ]
        },
        {
          "output_type": "stream",
          "name": "stdout",
          "text": [
            "Valid: Loss = 0.2355\n",
            "\n"
          ]
        },
        {
          "output_type": "stream",
          "name": "stderr",
          "text": [
            "Epoch 78: 100%|██████████| 27/27 [00:00<00:00, 87.50batch/s, loss=0.0308]\n"
          ]
        },
        {
          "output_type": "stream",
          "name": "stdout",
          "text": [
            "Valid: Loss = 0.2376\n",
            "\n"
          ]
        },
        {
          "output_type": "stream",
          "name": "stderr",
          "text": [
            "Epoch 79: 100%|██████████| 27/27 [00:00<00:00, 95.03batch/s, loss=0.0314]\n"
          ]
        },
        {
          "output_type": "stream",
          "name": "stdout",
          "text": [
            "Valid: Loss = 0.2368\n",
            "\n"
          ]
        }
      ]
    },
    {
      "cell_type": "markdown",
      "source": [
        "# train RNNModel"
      ],
      "metadata": {
        "id": "GDzsPSz4sKAk"
      }
    },
    {
      "cell_type": "code",
      "source": [
        "model = RNNModel(nn.RNN, 1, 4, 1, True, False, 1).to(device)"
      ],
      "metadata": {
        "colab": {
          "base_uri": "https://localhost:8080/"
        },
        "id": "v7RerljXsPJq",
        "outputId": "a059bef3-a045-472b-8b51-b7b06904f976"
      },
      "execution_count": null,
      "outputs": [
        {
          "output_type": "stream",
          "name": "stderr",
          "text": [
            "/usr/local/lib/python3.10/dist-packages/torch/nn/modules/lazy.py:181: UserWarning: Lazy modules are a new feature under heavy development so changes to the API or functionality can happen at any moment.\n",
            "  warnings.warn('Lazy modules are a new feature under heavy development '\n"
          ]
        }
      ]
    },
    {
      "cell_type": "code",
      "source": [
        "lr = 0.0015     # rnn\n",
        "wd = 1e-04\n",
        "\n",
        "optimizer = optim.Adam(model.parameters(), lr=lr, weight_decay=wd)\n",
        "loss_fn = nn.L1Loss()"
      ],
      "metadata": {
        "id": "6vCMx1QfsPJr"
      },
      "execution_count": null,
      "outputs": []
    },
    {
      "cell_type": "code",
      "source": [
        "loss_train_hist = []\n",
        "loss_valid_hist = []\n",
        "\n",
        "best_loss_valid = torch.inf\n",
        "epoch_counter = 0"
      ],
      "metadata": {
        "id": "PhU7W9LXsPJs"
      },
      "execution_count": null,
      "outputs": []
    },
    {
      "cell_type": "code",
      "source": [
        "num_epochs = 80\n",
        "\n",
        "for epoch in range(num_epochs):\n",
        "  # Train\n",
        "  model, loss_train = train_one_epoch(model,\n",
        "                                      train_loader,\n",
        "                                      loss_fn,\n",
        "                                      optimizer,\n",
        "                                      epoch)\n",
        "  # Validation\n",
        "  loss_valid = validation(model,\n",
        "                          test_loader,\n",
        "                          loss_fn)\n",
        "\n",
        "  loss_train_hist.append(loss_train)\n",
        "  loss_valid_hist.append(loss_valid)\n",
        "\n",
        "  print(f'Valid: Loss = {loss_valid:.4}')\n",
        "\n",
        "  if loss_valid < best_loss_valid:\n",
        "    torch.save(model, '/content/rnn-model.pt')\n",
        "    best_loss_valid = loss_valid\n",
        "    print('Model Saved!')\n",
        "\n",
        "  print()\n",
        "  epoch_counter += 1\n",
        "\n",
        "torch.save(torch.tensor(loss_train_hist), f'/content/rnn-loss-train.pt')\n",
        "torch.save(torch.tensor(loss_valid_hist), f'/content/rnn-loss-valid.pt')\n"
      ],
      "metadata": {
        "colab": {
          "base_uri": "https://localhost:8080/"
        },
        "outputId": "837955b7-57de-4bc1-dc3e-5cfd27308804",
        "id": "gg2ebeOCsPJs"
      },
      "execution_count": null,
      "outputs": [
        {
          "output_type": "stream",
          "name": "stderr",
          "text": [
            "Epoch 0: 100%|██████████| 27/27 [00:00<00:00, 79.60batch/s, loss=0.0314]\n"
          ]
        },
        {
          "output_type": "stream",
          "name": "stdout",
          "text": [
            "Valid: Loss = 0.2283\n",
            "Model Saved!\n",
            "\n"
          ]
        },
        {
          "output_type": "stream",
          "name": "stderr",
          "text": [
            "Epoch 1: 100%|██████████| 27/27 [00:00<00:00, 70.21batch/s, loss=0.0313]\n"
          ]
        },
        {
          "output_type": "stream",
          "name": "stdout",
          "text": [
            "Valid: Loss = 0.2339\n",
            "\n"
          ]
        },
        {
          "output_type": "stream",
          "name": "stderr",
          "text": [
            "Epoch 2: 100%|██████████| 27/27 [00:00<00:00, 87.52batch/s, loss=0.0307]\n"
          ]
        },
        {
          "output_type": "stream",
          "name": "stdout",
          "text": [
            "Valid: Loss = 0.2414\n",
            "\n"
          ]
        },
        {
          "output_type": "stream",
          "name": "stderr",
          "text": [
            "Epoch 3: 100%|██████████| 27/27 [00:00<00:00, 95.04batch/s, loss=0.0314]\n"
          ]
        },
        {
          "output_type": "stream",
          "name": "stdout",
          "text": [
            "Valid: Loss = 0.2297\n",
            "\n"
          ]
        },
        {
          "output_type": "stream",
          "name": "stderr",
          "text": [
            "Epoch 4: 100%|██████████| 27/27 [00:00<00:00, 94.90batch/s, loss=0.0306]\n"
          ]
        },
        {
          "output_type": "stream",
          "name": "stdout",
          "text": [
            "Valid: Loss = 0.2331\n",
            "\n"
          ]
        },
        {
          "output_type": "stream",
          "name": "stderr",
          "text": [
            "Epoch 5: 100%|██████████| 27/27 [00:00<00:00, 105.16batch/s, loss=0.0311]\n"
          ]
        },
        {
          "output_type": "stream",
          "name": "stdout",
          "text": [
            "Valid: Loss = 0.2327\n",
            "\n"
          ]
        },
        {
          "output_type": "stream",
          "name": "stderr",
          "text": [
            "Epoch 6: 100%|██████████| 27/27 [00:00<00:00, 104.89batch/s, loss=0.0305]\n"
          ]
        },
        {
          "output_type": "stream",
          "name": "stdout",
          "text": [
            "Valid: Loss = 0.2343\n",
            "\n"
          ]
        },
        {
          "output_type": "stream",
          "name": "stderr",
          "text": [
            "Epoch 7: 100%|██████████| 27/27 [00:00<00:00, 109.91batch/s, loss=0.0309]\n"
          ]
        },
        {
          "output_type": "stream",
          "name": "stdout",
          "text": [
            "Valid: Loss = 0.236\n",
            "\n"
          ]
        },
        {
          "output_type": "stream",
          "name": "stderr",
          "text": [
            "Epoch 8: 100%|██████████| 27/27 [00:00<00:00, 67.75batch/s, loss=0.0304]\n"
          ]
        },
        {
          "output_type": "stream",
          "name": "stdout",
          "text": [
            "Valid: Loss = 0.2303\n",
            "\n"
          ]
        },
        {
          "output_type": "stream",
          "name": "stderr",
          "text": [
            "Epoch 9: 100%|██████████| 27/27 [00:00<00:00, 93.46batch/s, loss=0.0308]\n"
          ]
        },
        {
          "output_type": "stream",
          "name": "stdout",
          "text": [
            "Valid: Loss = 0.2364\n",
            "\n"
          ]
        },
        {
          "output_type": "stream",
          "name": "stderr",
          "text": [
            "Epoch 10: 100%|██████████| 27/27 [00:00<00:00, 88.75batch/s, loss=0.0305]\n"
          ]
        },
        {
          "output_type": "stream",
          "name": "stdout",
          "text": [
            "Valid: Loss = 0.2276\n",
            "Model Saved!\n",
            "\n"
          ]
        },
        {
          "output_type": "stream",
          "name": "stderr",
          "text": [
            "Epoch 11: 100%|██████████| 27/27 [00:00<00:00, 92.04batch/s, loss=0.0305]\n"
          ]
        },
        {
          "output_type": "stream",
          "name": "stdout",
          "text": [
            "Valid: Loss = 0.2351\n",
            "\n"
          ]
        },
        {
          "output_type": "stream",
          "name": "stderr",
          "text": [
            "Epoch 12: 100%|██████████| 27/27 [00:00<00:00, 94.08batch/s, loss=0.0304]\n"
          ]
        },
        {
          "output_type": "stream",
          "name": "stdout",
          "text": [
            "Valid: Loss = 0.221\n",
            "Model Saved!\n",
            "\n"
          ]
        },
        {
          "output_type": "stream",
          "name": "stderr",
          "text": [
            "Epoch 13: 100%|██████████| 27/27 [00:00<00:00, 108.66batch/s, loss=0.0305]\n"
          ]
        },
        {
          "output_type": "stream",
          "name": "stdout",
          "text": [
            "Valid: Loss = 0.2319\n",
            "\n"
          ]
        },
        {
          "output_type": "stream",
          "name": "stderr",
          "text": [
            "Epoch 14: 100%|██████████| 27/27 [00:00<00:00, 108.21batch/s, loss=0.03]\n"
          ]
        },
        {
          "output_type": "stream",
          "name": "stdout",
          "text": [
            "Valid: Loss = 0.2352\n",
            "\n"
          ]
        },
        {
          "output_type": "stream",
          "name": "stderr",
          "text": [
            "Epoch 15: 100%|██████████| 27/27 [00:00<00:00, 101.09batch/s, loss=0.0302]\n"
          ]
        },
        {
          "output_type": "stream",
          "name": "stdout",
          "text": [
            "Valid: Loss = 0.2301\n",
            "\n"
          ]
        },
        {
          "output_type": "stream",
          "name": "stderr",
          "text": [
            "Epoch 16: 100%|██████████| 27/27 [00:00<00:00, 100.77batch/s, loss=0.0299]\n"
          ]
        },
        {
          "output_type": "stream",
          "name": "stdout",
          "text": [
            "Valid: Loss = 0.2371\n",
            "\n"
          ]
        },
        {
          "output_type": "stream",
          "name": "stderr",
          "text": [
            "Epoch 17: 100%|██████████| 27/27 [00:00<00:00, 91.50batch/s, loss=0.0306]\n"
          ]
        },
        {
          "output_type": "stream",
          "name": "stdout",
          "text": [
            "Valid: Loss = 0.2234\n",
            "\n"
          ]
        },
        {
          "output_type": "stream",
          "name": "stderr",
          "text": [
            "Epoch 18: 100%|██████████| 27/27 [00:00<00:00, 96.41batch/s, loss=0.0299]\n"
          ]
        },
        {
          "output_type": "stream",
          "name": "stdout",
          "text": [
            "Valid: Loss = 0.2334\n",
            "\n"
          ]
        },
        {
          "output_type": "stream",
          "name": "stderr",
          "text": [
            "Epoch 19: 100%|██████████| 27/27 [00:00<00:00, 88.37batch/s, loss=0.0305]\n"
          ]
        },
        {
          "output_type": "stream",
          "name": "stdout",
          "text": [
            "Valid: Loss = 0.2313\n",
            "\n"
          ]
        },
        {
          "output_type": "stream",
          "name": "stderr",
          "text": [
            "Epoch 20: 100%|██████████| 27/27 [00:00<00:00, 87.58batch/s, loss=0.03]\n"
          ]
        },
        {
          "output_type": "stream",
          "name": "stdout",
          "text": [
            "Valid: Loss = 0.2203\n",
            "Model Saved!\n",
            "\n"
          ]
        },
        {
          "output_type": "stream",
          "name": "stderr",
          "text": [
            "Epoch 21: 100%|██████████| 27/27 [00:00<00:00, 88.27batch/s, loss=0.0306]\n"
          ]
        },
        {
          "output_type": "stream",
          "name": "stdout",
          "text": [
            "Valid: Loss = 0.2255\n",
            "\n"
          ]
        },
        {
          "output_type": "stream",
          "name": "stderr",
          "text": [
            "Epoch 22: 100%|██████████| 27/27 [00:00<00:00, 70.33batch/s, loss=0.0297]\n"
          ]
        },
        {
          "output_type": "stream",
          "name": "stdout",
          "text": [
            "Valid: Loss = 0.2339\n",
            "\n"
          ]
        },
        {
          "output_type": "stream",
          "name": "stderr",
          "text": [
            "Epoch 23: 100%|██████████| 27/27 [00:00<00:00, 39.82batch/s, loss=0.03]\n"
          ]
        },
        {
          "output_type": "stream",
          "name": "stdout",
          "text": [
            "Valid: Loss = 0.219\n",
            "Model Saved!\n",
            "\n"
          ]
        },
        {
          "output_type": "stream",
          "name": "stderr",
          "text": [
            "Epoch 24: 100%|██████████| 27/27 [00:00<00:00, 78.64batch/s, loss=0.0299]\n"
          ]
        },
        {
          "output_type": "stream",
          "name": "stdout",
          "text": [
            "Valid: Loss = 0.2311\n",
            "\n"
          ]
        },
        {
          "output_type": "stream",
          "name": "stderr",
          "text": [
            "Epoch 25: 100%|██████████| 27/27 [00:00<00:00, 81.90batch/s, loss=0.0297]\n"
          ]
        },
        {
          "output_type": "stream",
          "name": "stdout",
          "text": [
            "Valid: Loss = 0.2189\n",
            "Model Saved!\n",
            "\n"
          ]
        },
        {
          "output_type": "stream",
          "name": "stderr",
          "text": [
            "Epoch 26: 100%|██████████| 27/27 [00:00<00:00, 91.34batch/s, loss=0.03]\n"
          ]
        },
        {
          "output_type": "stream",
          "name": "stdout",
          "text": [
            "Valid: Loss = 0.2256\n",
            "\n"
          ]
        },
        {
          "output_type": "stream",
          "name": "stderr",
          "text": [
            "Epoch 27: 100%|██████████| 27/27 [00:00<00:00, 88.92batch/s, loss=0.0296]\n"
          ]
        },
        {
          "output_type": "stream",
          "name": "stdout",
          "text": [
            "Valid: Loss = 0.2281\n",
            "\n"
          ]
        },
        {
          "output_type": "stream",
          "name": "stderr",
          "text": [
            "Epoch 28: 100%|██████████| 27/27 [00:00<00:00, 97.59batch/s, loss=0.0299]\n"
          ]
        },
        {
          "output_type": "stream",
          "name": "stdout",
          "text": [
            "Valid: Loss = 0.2304\n",
            "\n"
          ]
        },
        {
          "output_type": "stream",
          "name": "stderr",
          "text": [
            "Epoch 29: 100%|██████████| 27/27 [00:00<00:00, 94.91batch/s, loss=0.0295]\n"
          ]
        },
        {
          "output_type": "stream",
          "name": "stdout",
          "text": [
            "Valid: Loss = 0.2277\n",
            "\n"
          ]
        },
        {
          "output_type": "stream",
          "name": "stderr",
          "text": [
            "Epoch 30: 100%|██████████| 27/27 [00:00<00:00, 57.30batch/s, loss=0.0298]\n"
          ]
        },
        {
          "output_type": "stream",
          "name": "stdout",
          "text": [
            "Valid: Loss = 0.2327\n",
            "\n"
          ]
        },
        {
          "output_type": "stream",
          "name": "stderr",
          "text": [
            "Epoch 31: 100%|██████████| 27/27 [00:00<00:00, 44.76batch/s, loss=0.0297]\n"
          ]
        },
        {
          "output_type": "stream",
          "name": "stdout",
          "text": [
            "Valid: Loss = 0.2215\n",
            "\n"
          ]
        },
        {
          "output_type": "stream",
          "name": "stderr",
          "text": [
            "Epoch 32: 100%|██████████| 27/27 [00:00<00:00, 38.35batch/s, loss=0.0296]\n"
          ]
        },
        {
          "output_type": "stream",
          "name": "stdout",
          "text": [
            "Valid: Loss = 0.2275\n",
            "\n"
          ]
        },
        {
          "output_type": "stream",
          "name": "stderr",
          "text": [
            "Epoch 33: 100%|██████████| 27/27 [00:00<00:00, 45.21batch/s, loss=0.0295]\n"
          ]
        },
        {
          "output_type": "stream",
          "name": "stdout",
          "text": [
            "Valid: Loss = 0.227\n",
            "\n"
          ]
        },
        {
          "output_type": "stream",
          "name": "stderr",
          "text": [
            "Epoch 34: 100%|██████████| 27/27 [00:00<00:00, 64.87batch/s, loss=0.0298]\n"
          ]
        },
        {
          "output_type": "stream",
          "name": "stdout",
          "text": [
            "Valid: Loss = 0.2261\n",
            "\n"
          ]
        },
        {
          "output_type": "stream",
          "name": "stderr",
          "text": [
            "Epoch 35: 100%|██████████| 27/27 [00:00<00:00, 65.51batch/s, loss=0.0295]\n"
          ]
        },
        {
          "output_type": "stream",
          "name": "stdout",
          "text": [
            "Valid: Loss = 0.2217\n",
            "\n"
          ]
        },
        {
          "output_type": "stream",
          "name": "stderr",
          "text": [
            "Epoch 36: 100%|██████████| 27/27 [00:00<00:00, 55.97batch/s, loss=0.0299]\n"
          ]
        },
        {
          "output_type": "stream",
          "name": "stdout",
          "text": [
            "Valid: Loss = 0.2247\n",
            "\n"
          ]
        },
        {
          "output_type": "stream",
          "name": "stderr",
          "text": [
            "Epoch 37: 100%|██████████| 27/27 [00:00<00:00, 59.28batch/s, loss=0.0293]\n"
          ]
        },
        {
          "output_type": "stream",
          "name": "stdout",
          "text": [
            "Valid: Loss = 0.2248\n",
            "\n"
          ]
        },
        {
          "output_type": "stream",
          "name": "stderr",
          "text": [
            "Epoch 38: 100%|██████████| 27/27 [00:00<00:00, 44.12batch/s, loss=0.0297]\n"
          ]
        },
        {
          "output_type": "stream",
          "name": "stdout",
          "text": [
            "Valid: Loss = 0.2255\n",
            "\n"
          ]
        },
        {
          "output_type": "stream",
          "name": "stderr",
          "text": [
            "Epoch 39: 100%|██████████| 27/27 [00:00<00:00, 52.51batch/s, loss=0.0294]\n"
          ]
        },
        {
          "output_type": "stream",
          "name": "stdout",
          "text": [
            "Valid: Loss = 0.2272\n",
            "\n"
          ]
        },
        {
          "output_type": "stream",
          "name": "stderr",
          "text": [
            "Epoch 40: 100%|██████████| 27/27 [00:00<00:00, 67.57batch/s, loss=0.0295]\n"
          ]
        },
        {
          "output_type": "stream",
          "name": "stdout",
          "text": [
            "Valid: Loss = 0.2289\n",
            "\n"
          ]
        },
        {
          "output_type": "stream",
          "name": "stderr",
          "text": [
            "Epoch 41: 100%|██████████| 27/27 [00:00<00:00, 108.18batch/s, loss=0.0293]\n"
          ]
        },
        {
          "output_type": "stream",
          "name": "stdout",
          "text": [
            "Valid: Loss = 0.2211\n",
            "\n"
          ]
        },
        {
          "output_type": "stream",
          "name": "stderr",
          "text": [
            "Epoch 42: 100%|██████████| 27/27 [00:00<00:00, 100.82batch/s, loss=0.0299]\n"
          ]
        },
        {
          "output_type": "stream",
          "name": "stdout",
          "text": [
            "Valid: Loss = 0.2262\n",
            "\n"
          ]
        },
        {
          "output_type": "stream",
          "name": "stderr",
          "text": [
            "Epoch 43: 100%|██████████| 27/27 [00:00<00:00, 97.08batch/s, loss=0.0293]\n"
          ]
        },
        {
          "output_type": "stream",
          "name": "stdout",
          "text": [
            "Valid: Loss = 0.222\n",
            "\n"
          ]
        },
        {
          "output_type": "stream",
          "name": "stderr",
          "text": [
            "Epoch 44: 100%|██████████| 27/27 [00:00<00:00, 92.16batch/s, loss=0.0297]\n"
          ]
        },
        {
          "output_type": "stream",
          "name": "stdout",
          "text": [
            "Valid: Loss = 0.2249\n",
            "\n"
          ]
        },
        {
          "output_type": "stream",
          "name": "stderr",
          "text": [
            "Epoch 45: 100%|██████████| 27/27 [00:00<00:00, 100.79batch/s, loss=0.0293]\n"
          ]
        },
        {
          "output_type": "stream",
          "name": "stdout",
          "text": [
            "Valid: Loss = 0.2261\n",
            "\n"
          ]
        },
        {
          "output_type": "stream",
          "name": "stderr",
          "text": [
            "Epoch 46: 100%|██████████| 27/27 [00:00<00:00, 100.31batch/s, loss=0.0292]\n"
          ]
        },
        {
          "output_type": "stream",
          "name": "stdout",
          "text": [
            "Valid: Loss = 0.2315\n",
            "\n"
          ]
        },
        {
          "output_type": "stream",
          "name": "stderr",
          "text": [
            "Epoch 47: 100%|██████████| 27/27 [00:00<00:00, 94.62batch/s, loss=0.0293]\n"
          ]
        },
        {
          "output_type": "stream",
          "name": "stdout",
          "text": [
            "Valid: Loss = 0.2187\n",
            "Model Saved!\n",
            "\n"
          ]
        },
        {
          "output_type": "stream",
          "name": "stderr",
          "text": [
            "Epoch 48: 100%|██████████| 27/27 [00:00<00:00, 98.02batch/s, loss=0.0293] \n"
          ]
        },
        {
          "output_type": "stream",
          "name": "stdout",
          "text": [
            "Valid: Loss = 0.2246\n",
            "\n"
          ]
        },
        {
          "output_type": "stream",
          "name": "stderr",
          "text": [
            "Epoch 49: 100%|██████████| 27/27 [00:00<00:00, 99.30batch/s, loss=0.0292]\n"
          ]
        },
        {
          "output_type": "stream",
          "name": "stdout",
          "text": [
            "Valid: Loss = 0.2201\n",
            "\n"
          ]
        },
        {
          "output_type": "stream",
          "name": "stderr",
          "text": [
            "Epoch 50: 100%|██████████| 27/27 [00:00<00:00, 84.73batch/s, loss=0.0292]\n"
          ]
        },
        {
          "output_type": "stream",
          "name": "stdout",
          "text": [
            "Valid: Loss = 0.2268\n",
            "\n"
          ]
        },
        {
          "output_type": "stream",
          "name": "stderr",
          "text": [
            "Epoch 51: 100%|██████████| 27/27 [00:00<00:00, 94.73batch/s, loss=0.0292]\n"
          ]
        },
        {
          "output_type": "stream",
          "name": "stdout",
          "text": [
            "Valid: Loss = 0.22\n",
            "\n"
          ]
        },
        {
          "output_type": "stream",
          "name": "stderr",
          "text": [
            "Epoch 52: 100%|██████████| 27/27 [00:00<00:00, 92.79batch/s, loss=0.0292]\n"
          ]
        },
        {
          "output_type": "stream",
          "name": "stdout",
          "text": [
            "Valid: Loss = 0.225\n",
            "\n"
          ]
        },
        {
          "output_type": "stream",
          "name": "stderr",
          "text": [
            "Epoch 53: 100%|██████████| 27/27 [00:00<00:00, 100.53batch/s, loss=0.0292]\n"
          ]
        },
        {
          "output_type": "stream",
          "name": "stdout",
          "text": [
            "Valid: Loss = 0.2189\n",
            "\n"
          ]
        },
        {
          "output_type": "stream",
          "name": "stderr",
          "text": [
            "Epoch 54: 100%|██████████| 27/27 [00:00<00:00, 93.88batch/s, loss=0.0293]\n"
          ]
        },
        {
          "output_type": "stream",
          "name": "stdout",
          "text": [
            "Valid: Loss = 0.2214\n",
            "\n"
          ]
        },
        {
          "output_type": "stream",
          "name": "stderr",
          "text": [
            "Epoch 55: 100%|██████████| 27/27 [00:00<00:00, 96.07batch/s, loss=0.0291]\n"
          ]
        },
        {
          "output_type": "stream",
          "name": "stdout",
          "text": [
            "Valid: Loss = 0.2227\n",
            "\n"
          ]
        },
        {
          "output_type": "stream",
          "name": "stderr",
          "text": [
            "Epoch 56: 100%|██████████| 27/27 [00:00<00:00, 98.86batch/s, loss=0.0293] \n"
          ]
        },
        {
          "output_type": "stream",
          "name": "stdout",
          "text": [
            "Valid: Loss = 0.2236\n",
            "\n"
          ]
        },
        {
          "output_type": "stream",
          "name": "stderr",
          "text": [
            "Epoch 57: 100%|██████████| 27/27 [00:00<00:00, 96.74batch/s, loss=0.0291] \n"
          ]
        },
        {
          "output_type": "stream",
          "name": "stdout",
          "text": [
            "Valid: Loss = 0.2168\n",
            "Model Saved!\n",
            "\n"
          ]
        },
        {
          "output_type": "stream",
          "name": "stderr",
          "text": [
            "Epoch 58: 100%|██████████| 27/27 [00:00<00:00, 78.85batch/s, loss=0.0296]\n"
          ]
        },
        {
          "output_type": "stream",
          "name": "stdout",
          "text": [
            "Valid: Loss = 0.224\n",
            "\n"
          ]
        },
        {
          "output_type": "stream",
          "name": "stderr",
          "text": [
            "Epoch 59: 100%|██████████| 27/27 [00:00<00:00, 65.13batch/s, loss=0.0291]\n"
          ]
        },
        {
          "output_type": "stream",
          "name": "stdout",
          "text": [
            "Valid: Loss = 0.2202\n",
            "\n"
          ]
        },
        {
          "output_type": "stream",
          "name": "stderr",
          "text": [
            "Epoch 60: 100%|██████████| 27/27 [00:00<00:00, 67.32batch/s, loss=0.0289]\n"
          ]
        },
        {
          "output_type": "stream",
          "name": "stdout",
          "text": [
            "Valid: Loss = 0.2265\n",
            "\n"
          ]
        },
        {
          "output_type": "stream",
          "name": "stderr",
          "text": [
            "Epoch 61: 100%|██████████| 27/27 [00:00<00:00, 62.07batch/s, loss=0.0291]\n"
          ]
        },
        {
          "output_type": "stream",
          "name": "stdout",
          "text": [
            "Valid: Loss = 0.2183\n",
            "\n"
          ]
        },
        {
          "output_type": "stream",
          "name": "stderr",
          "text": [
            "Epoch 62: 100%|██████████| 27/27 [00:00<00:00, 54.93batch/s, loss=0.0291]\n"
          ]
        },
        {
          "output_type": "stream",
          "name": "stdout",
          "text": [
            "Valid: Loss = 0.2235\n",
            "\n"
          ]
        },
        {
          "output_type": "stream",
          "name": "stderr",
          "text": [
            "Epoch 63: 100%|██████████| 27/27 [00:00<00:00, 77.52batch/s, loss=0.029]\n"
          ]
        },
        {
          "output_type": "stream",
          "name": "stdout",
          "text": [
            "Valid: Loss = 0.2193\n",
            "\n"
          ]
        },
        {
          "output_type": "stream",
          "name": "stderr",
          "text": [
            "Epoch 64: 100%|██████████| 27/27 [00:00<00:00, 80.57batch/s, loss=0.0292]\n"
          ]
        },
        {
          "output_type": "stream",
          "name": "stdout",
          "text": [
            "Valid: Loss = 0.2196\n",
            "\n"
          ]
        },
        {
          "output_type": "stream",
          "name": "stderr",
          "text": [
            "Epoch 65: 100%|██████████| 27/27 [00:00<00:00, 67.30batch/s, loss=0.029]\n"
          ]
        },
        {
          "output_type": "stream",
          "name": "stdout",
          "text": [
            "Valid: Loss = 0.2221\n",
            "\n"
          ]
        },
        {
          "output_type": "stream",
          "name": "stderr",
          "text": [
            "Epoch 66: 100%|██████████| 27/27 [00:00<00:00, 92.48batch/s, loss=0.0291]\n"
          ]
        },
        {
          "output_type": "stream",
          "name": "stdout",
          "text": [
            "Valid: Loss = 0.226\n",
            "\n"
          ]
        },
        {
          "output_type": "stream",
          "name": "stderr",
          "text": [
            "Epoch 67: 100%|██████████| 27/27 [00:00<00:00, 92.73batch/s, loss=0.029]\n"
          ]
        },
        {
          "output_type": "stream",
          "name": "stdout",
          "text": [
            "Valid: Loss = 0.2227\n",
            "\n"
          ]
        },
        {
          "output_type": "stream",
          "name": "stderr",
          "text": [
            "Epoch 68: 100%|██████████| 27/27 [00:00<00:00, 92.70batch/s, loss=0.029]\n"
          ]
        },
        {
          "output_type": "stream",
          "name": "stdout",
          "text": [
            "Valid: Loss = 0.2242\n",
            "\n"
          ]
        },
        {
          "output_type": "stream",
          "name": "stderr",
          "text": [
            "Epoch 69: 100%|██████████| 27/27 [00:00<00:00, 78.85batch/s, loss=0.0291]\n"
          ]
        },
        {
          "output_type": "stream",
          "name": "stdout",
          "text": [
            "Valid: Loss = 0.2181\n",
            "\n"
          ]
        },
        {
          "output_type": "stream",
          "name": "stderr",
          "text": [
            "Epoch 70: 100%|██████████| 27/27 [00:00<00:00, 68.33batch/s, loss=0.0287]\n"
          ]
        },
        {
          "output_type": "stream",
          "name": "stdout",
          "text": [
            "Valid: Loss = 0.2261\n",
            "\n"
          ]
        },
        {
          "output_type": "stream",
          "name": "stderr",
          "text": [
            "Epoch 71: 100%|██████████| 27/27 [00:00<00:00, 63.53batch/s, loss=0.029]\n"
          ]
        },
        {
          "output_type": "stream",
          "name": "stdout",
          "text": [
            "Valid: Loss = 0.2201\n",
            "\n"
          ]
        },
        {
          "output_type": "stream",
          "name": "stderr",
          "text": [
            "Epoch 72: 100%|██████████| 27/27 [00:00<00:00, 49.39batch/s, loss=0.0292]\n"
          ]
        },
        {
          "output_type": "stream",
          "name": "stdout",
          "text": [
            "Valid: Loss = 0.2208\n",
            "\n"
          ]
        },
        {
          "output_type": "stream",
          "name": "stderr",
          "text": [
            "Epoch 73: 100%|██████████| 27/27 [00:00<00:00, 47.90batch/s, loss=0.0289]\n"
          ]
        },
        {
          "output_type": "stream",
          "name": "stdout",
          "text": [
            "Valid: Loss = 0.2221\n",
            "\n"
          ]
        },
        {
          "output_type": "stream",
          "name": "stderr",
          "text": [
            "Epoch 74: 100%|██████████| 27/27 [00:00<00:00, 60.47batch/s, loss=0.0288]\n"
          ]
        },
        {
          "output_type": "stream",
          "name": "stdout",
          "text": [
            "Valid: Loss = 0.2239\n",
            "\n"
          ]
        },
        {
          "output_type": "stream",
          "name": "stderr",
          "text": [
            "Epoch 75: 100%|██████████| 27/27 [00:00<00:00, 50.19batch/s, loss=0.029]\n"
          ]
        },
        {
          "output_type": "stream",
          "name": "stdout",
          "text": [
            "Valid: Loss = 0.2169\n",
            "\n"
          ]
        },
        {
          "output_type": "stream",
          "name": "stderr",
          "text": [
            "Epoch 76: 100%|██████████| 27/27 [00:00<00:00, 51.26batch/s, loss=0.029]\n"
          ]
        },
        {
          "output_type": "stream",
          "name": "stdout",
          "text": [
            "Valid: Loss = 0.2212\n",
            "\n"
          ]
        },
        {
          "output_type": "stream",
          "name": "stderr",
          "text": [
            "Epoch 77: 100%|██████████| 27/27 [00:00<00:00, 52.86batch/s, loss=0.0288]\n"
          ]
        },
        {
          "output_type": "stream",
          "name": "stdout",
          "text": [
            "Valid: Loss = 0.215\n",
            "Model Saved!\n",
            "\n"
          ]
        },
        {
          "output_type": "stream",
          "name": "stderr",
          "text": [
            "Epoch 78: 100%|██████████| 27/27 [00:00<00:00, 59.33batch/s, loss=0.0286]\n"
          ]
        },
        {
          "output_type": "stream",
          "name": "stdout",
          "text": [
            "Valid: Loss = 0.2242\n",
            "\n"
          ]
        },
        {
          "output_type": "stream",
          "name": "stderr",
          "text": [
            "Epoch 79: 100%|██████████| 27/27 [00:00<00:00, 63.71batch/s, loss=0.0289]\n"
          ]
        },
        {
          "output_type": "stream",
          "name": "stdout",
          "text": [
            "Valid: Loss = 0.2154\n",
            "\n"
          ]
        }
      ]
    },
    {
      "cell_type": "markdown",
      "source": [
        "# train LSTMModel"
      ],
      "metadata": {
        "id": "Qjcj5loosin9"
      }
    },
    {
      "cell_type": "code",
      "source": [
        "model = RNNModel(nn.LSTM, 1, 4, 1, True, False, 1).to(device)"
      ],
      "metadata": {
        "colab": {
          "base_uri": "https://localhost:8080/"
        },
        "id": "2J0VHZXLswaR",
        "outputId": "4ce27b9f-2ba8-4387-c805-a3d8259b82f4"
      },
      "execution_count": null,
      "outputs": [
        {
          "output_type": "stream",
          "name": "stderr",
          "text": [
            "/usr/local/lib/python3.10/dist-packages/torch/nn/modules/lazy.py:181: UserWarning: Lazy modules are a new feature under heavy development so changes to the API or functionality can happen at any moment.\n",
            "  warnings.warn('Lazy modules are a new feature under heavy development '\n"
          ]
        }
      ]
    },
    {
      "cell_type": "code",
      "source": [
        "lr = 0.01     # lstm\n",
        "wd = 1e-04\n",
        "\n",
        "\n",
        "optimizer = optim.Adam(model.parameters(), lr=lr, weight_decay=wd)\n",
        "loss_fn = nn.L1Loss()"
      ],
      "metadata": {
        "id": "cLnu0FVcswaT"
      },
      "execution_count": null,
      "outputs": []
    },
    {
      "cell_type": "code",
      "source": [
        "loss_train_hist = []\n",
        "loss_valid_hist = []\n",
        "\n",
        "best_loss_valid = torch.inf\n",
        "epoch_counter = 0"
      ],
      "metadata": {
        "id": "WTgLy0ABswaT"
      },
      "execution_count": null,
      "outputs": []
    },
    {
      "cell_type": "code",
      "source": [
        "num_epochs = 80\n",
        "\n",
        "for epoch in range(num_epochs):\n",
        "  # Train\n",
        "  model, loss_train = train_one_epoch(model,\n",
        "                                      train_loader,\n",
        "                                      loss_fn,\n",
        "                                      optimizer,\n",
        "                                      epoch)\n",
        "  # Validation\n",
        "  loss_valid = validation(model,\n",
        "                          test_loader,\n",
        "                          loss_fn)\n",
        "\n",
        "  loss_train_hist.append(loss_train)\n",
        "  loss_valid_hist.append(loss_valid)\n",
        "\n",
        "  print(f'Valid: Loss = {loss_valid:.4}')\n",
        "\n",
        "  if loss_valid < best_loss_valid:\n",
        "\n",
        "    torch.save(model, '/content/lstm-model.pt')\n",
        "\n",
        "\n",
        "    best_loss_valid = loss_valid\n",
        "    print('Model Saved!')\n",
        "\n",
        "  print()\n",
        "  epoch_counter += 1\n",
        "\n",
        "torch.save(torch.tensor(loss_train_hist), f'/content/lstm-loss-train.pt')\n",
        "torch.save(torch.tensor(loss_valid_hist), f'/content/lstm-loss-valid.pt')\n"
      ],
      "metadata": {
        "colab": {
          "base_uri": "https://localhost:8080/"
        },
        "outputId": "e4fe2072-6201-4707-92e3-4d56960224c6",
        "id": "35QJDFVFswaU"
      },
      "execution_count": null,
      "outputs": [
        {
          "output_type": "stream",
          "name": "stderr",
          "text": [
            "Epoch 0: 100%|██████████| 27/27 [00:00<00:00, 85.97batch/s, loss=0.107]\n"
          ]
        },
        {
          "output_type": "stream",
          "name": "stdout",
          "text": [
            "Valid: Loss = 0.7308\n",
            "Model Saved!\n",
            "\n"
          ]
        },
        {
          "output_type": "stream",
          "name": "stderr",
          "text": [
            "Epoch 1: 100%|██████████| 27/27 [00:00<00:00, 98.22batch/s, loss=0.0868]\n"
          ]
        },
        {
          "output_type": "stream",
          "name": "stdout",
          "text": [
            "Valid: Loss = 0.6898\n",
            "Model Saved!\n",
            "\n"
          ]
        },
        {
          "output_type": "stream",
          "name": "stderr",
          "text": [
            "Epoch 2: 100%|██████████| 27/27 [00:00<00:00, 73.36batch/s, loss=0.0903]\n"
          ]
        },
        {
          "output_type": "stream",
          "name": "stdout",
          "text": [
            "Valid: Loss = 0.6509\n",
            "Model Saved!\n",
            "\n"
          ]
        },
        {
          "output_type": "stream",
          "name": "stderr",
          "text": [
            "Epoch 3: 100%|██████████| 27/27 [00:00<00:00, 73.09batch/s, loss=0.0728]\n"
          ]
        },
        {
          "output_type": "stream",
          "name": "stdout",
          "text": [
            "Valid: Loss = 0.4095\n",
            "Model Saved!\n",
            "\n"
          ]
        },
        {
          "output_type": "stream",
          "name": "stderr",
          "text": [
            "Epoch 4: 100%|██████████| 27/27 [00:00<00:00, 73.58batch/s, loss=0.0662]\n"
          ]
        },
        {
          "output_type": "stream",
          "name": "stdout",
          "text": [
            "Valid: Loss = 0.297\n",
            "Model Saved!\n",
            "\n"
          ]
        },
        {
          "output_type": "stream",
          "name": "stderr",
          "text": [
            "Epoch 5: 100%|██████████| 27/27 [00:00<00:00, 103.91batch/s, loss=0.0607]\n"
          ]
        },
        {
          "output_type": "stream",
          "name": "stdout",
          "text": [
            "Valid: Loss = 0.2286\n",
            "Model Saved!\n",
            "\n"
          ]
        },
        {
          "output_type": "stream",
          "name": "stderr",
          "text": [
            "Epoch 6: 100%|██████████| 27/27 [00:00<00:00, 106.26batch/s, loss=0.0609]\n"
          ]
        },
        {
          "output_type": "stream",
          "name": "stdout",
          "text": [
            "Valid: Loss = 0.3831\n",
            "\n"
          ]
        },
        {
          "output_type": "stream",
          "name": "stderr",
          "text": [
            "Epoch 7: 100%|██████████| 27/27 [00:00<00:00, 92.70batch/s, loss=0.0531]\n"
          ]
        },
        {
          "output_type": "stream",
          "name": "stdout",
          "text": [
            "Valid: Loss = 0.2024\n",
            "Model Saved!\n",
            "\n"
          ]
        },
        {
          "output_type": "stream",
          "name": "stderr",
          "text": [
            "Epoch 8: 100%|██████████| 27/27 [00:00<00:00, 99.54batch/s, loss=0.0485]\n"
          ]
        },
        {
          "output_type": "stream",
          "name": "stdout",
          "text": [
            "Valid: Loss = 0.2106\n",
            "\n"
          ]
        },
        {
          "output_type": "stream",
          "name": "stderr",
          "text": [
            "Epoch 9: 100%|██████████| 27/27 [00:00<00:00, 107.56batch/s, loss=0.0544]\n"
          ]
        },
        {
          "output_type": "stream",
          "name": "stdout",
          "text": [
            "Valid: Loss = 0.1973\n",
            "Model Saved!\n",
            "\n"
          ]
        },
        {
          "output_type": "stream",
          "name": "stderr",
          "text": [
            "Epoch 10: 100%|██████████| 27/27 [00:00<00:00, 105.60batch/s, loss=0.0534]\n"
          ]
        },
        {
          "output_type": "stream",
          "name": "stdout",
          "text": [
            "Valid: Loss = 0.2415\n",
            "\n"
          ]
        },
        {
          "output_type": "stream",
          "name": "stderr",
          "text": [
            "Epoch 11: 100%|██████████| 27/27 [00:00<00:00, 80.13batch/s, loss=0.0492]\n"
          ]
        },
        {
          "output_type": "stream",
          "name": "stdout",
          "text": [
            "Valid: Loss = 0.1986\n",
            "\n"
          ]
        },
        {
          "output_type": "stream",
          "name": "stderr",
          "text": [
            "Epoch 12: 100%|██████████| 27/27 [00:00<00:00, 69.73batch/s, loss=0.0502]\n"
          ]
        },
        {
          "output_type": "stream",
          "name": "stdout",
          "text": [
            "Valid: Loss = 0.2441\n",
            "\n"
          ]
        },
        {
          "output_type": "stream",
          "name": "stderr",
          "text": [
            "Epoch 13: 100%|██████████| 27/27 [00:00<00:00, 73.58batch/s, loss=0.0472]\n"
          ]
        },
        {
          "output_type": "stream",
          "name": "stdout",
          "text": [
            "Valid: Loss = 0.227\n",
            "\n"
          ]
        },
        {
          "output_type": "stream",
          "name": "stderr",
          "text": [
            "Epoch 14: 100%|██████████| 27/27 [00:00<00:00, 93.97batch/s, loss=0.0431]\n"
          ]
        },
        {
          "output_type": "stream",
          "name": "stdout",
          "text": [
            "Valid: Loss = 0.2536\n",
            "\n"
          ]
        },
        {
          "output_type": "stream",
          "name": "stderr",
          "text": [
            "Epoch 15: 100%|██████████| 27/27 [00:00<00:00, 97.18batch/s, loss=0.0437]\n"
          ]
        },
        {
          "output_type": "stream",
          "name": "stdout",
          "text": [
            "Valid: Loss = 0.2214\n",
            "\n"
          ]
        },
        {
          "output_type": "stream",
          "name": "stderr",
          "text": [
            "Epoch 16: 100%|██████████| 27/27 [00:00<00:00, 105.04batch/s, loss=0.0391]\n"
          ]
        },
        {
          "output_type": "stream",
          "name": "stdout",
          "text": [
            "Valid: Loss = 0.1711\n",
            "Model Saved!\n",
            "\n"
          ]
        },
        {
          "output_type": "stream",
          "name": "stderr",
          "text": [
            "Epoch 17: 100%|██████████| 27/27 [00:00<00:00, 97.69batch/s, loss=0.035]\n"
          ]
        },
        {
          "output_type": "stream",
          "name": "stdout",
          "text": [
            "Valid: Loss = 0.1852\n",
            "\n"
          ]
        },
        {
          "output_type": "stream",
          "name": "stderr",
          "text": [
            "Epoch 18: 100%|██████████| 27/27 [00:00<00:00, 98.56batch/s, loss=0.0333]\n"
          ]
        },
        {
          "output_type": "stream",
          "name": "stdout",
          "text": [
            "Valid: Loss = 0.2083\n",
            "\n"
          ]
        },
        {
          "output_type": "stream",
          "name": "stderr",
          "text": [
            "Epoch 19: 100%|██████████| 27/27 [00:00<00:00, 29.96batch/s, loss=0.0381]\n"
          ]
        },
        {
          "output_type": "stream",
          "name": "stdout",
          "text": [
            "Valid: Loss = 0.194\n",
            "\n"
          ]
        },
        {
          "output_type": "stream",
          "name": "stderr",
          "text": [
            "Epoch 20: 100%|██████████| 27/27 [00:00<00:00, 71.51batch/s, loss=0.0329]\n"
          ]
        },
        {
          "output_type": "stream",
          "name": "stdout",
          "text": [
            "Valid: Loss = 0.2202\n",
            "\n"
          ]
        },
        {
          "output_type": "stream",
          "name": "stderr",
          "text": [
            "Epoch 21: 100%|██████████| 27/27 [00:00<00:00, 73.04batch/s, loss=0.0369]\n"
          ]
        },
        {
          "output_type": "stream",
          "name": "stdout",
          "text": [
            "Valid: Loss = 0.1616\n",
            "Model Saved!\n",
            "\n"
          ]
        },
        {
          "output_type": "stream",
          "name": "stderr",
          "text": [
            "Epoch 22: 100%|██████████| 27/27 [00:00<00:00, 88.08batch/s, loss=0.034]\n"
          ]
        },
        {
          "output_type": "stream",
          "name": "stdout",
          "text": [
            "Valid: Loss = 0.1651\n",
            "\n"
          ]
        },
        {
          "output_type": "stream",
          "name": "stderr",
          "text": [
            "Epoch 23: 100%|██████████| 27/27 [00:00<00:00, 96.82batch/s, loss=0.0345]\n"
          ]
        },
        {
          "output_type": "stream",
          "name": "stdout",
          "text": [
            "Valid: Loss = 0.1915\n",
            "\n"
          ]
        },
        {
          "output_type": "stream",
          "name": "stderr",
          "text": [
            "Epoch 24: 100%|██████████| 27/27 [00:00<00:00, 91.31batch/s, loss=0.0338]\n"
          ]
        },
        {
          "output_type": "stream",
          "name": "stdout",
          "text": [
            "Valid: Loss = 0.1896\n",
            "\n"
          ]
        },
        {
          "output_type": "stream",
          "name": "stderr",
          "text": [
            "Epoch 25: 100%|██████████| 27/27 [00:00<00:00, 77.41batch/s, loss=0.03]\n"
          ]
        },
        {
          "output_type": "stream",
          "name": "stdout",
          "text": [
            "Valid: Loss = 0.2198\n",
            "\n"
          ]
        },
        {
          "output_type": "stream",
          "name": "stderr",
          "text": [
            "Epoch 26: 100%|██████████| 27/27 [00:00<00:00, 75.29batch/s, loss=0.0349]\n"
          ]
        },
        {
          "output_type": "stream",
          "name": "stdout",
          "text": [
            "Valid: Loss = 0.1527\n",
            "Model Saved!\n",
            "\n"
          ]
        },
        {
          "output_type": "stream",
          "name": "stderr",
          "text": [
            "Epoch 27: 100%|██████████| 27/27 [00:00<00:00, 71.51batch/s, loss=0.0363]\n"
          ]
        },
        {
          "output_type": "stream",
          "name": "stdout",
          "text": [
            "Valid: Loss = 0.2007\n",
            "\n"
          ]
        },
        {
          "output_type": "stream",
          "name": "stderr",
          "text": [
            "Epoch 28: 100%|██████████| 27/27 [00:00<00:00, 89.64batch/s, loss=0.0325]\n"
          ]
        },
        {
          "output_type": "stream",
          "name": "stdout",
          "text": [
            "Valid: Loss = 0.1961\n",
            "\n"
          ]
        },
        {
          "output_type": "stream",
          "name": "stderr",
          "text": [
            "Epoch 29: 100%|██████████| 27/27 [00:00<00:00, 93.50batch/s, loss=0.0345]\n"
          ]
        },
        {
          "output_type": "stream",
          "name": "stdout",
          "text": [
            "Valid: Loss = 0.1494\n",
            "Model Saved!\n",
            "\n"
          ]
        },
        {
          "output_type": "stream",
          "name": "stderr",
          "text": [
            "Epoch 30: 100%|██████████| 27/27 [00:00<00:00, 90.96batch/s, loss=0.0369]\n"
          ]
        },
        {
          "output_type": "stream",
          "name": "stdout",
          "text": [
            "Valid: Loss = 0.1977\n",
            "\n"
          ]
        },
        {
          "output_type": "stream",
          "name": "stderr",
          "text": [
            "Epoch 31: 100%|██████████| 27/27 [00:00<00:00, 90.14batch/s, loss=0.0327]\n"
          ]
        },
        {
          "output_type": "stream",
          "name": "stdout",
          "text": [
            "Valid: Loss = 0.2082\n",
            "\n"
          ]
        },
        {
          "output_type": "stream",
          "name": "stderr",
          "text": [
            "Epoch 32: 100%|██████████| 27/27 [00:00<00:00, 85.96batch/s, loss=0.0358]\n"
          ]
        },
        {
          "output_type": "stream",
          "name": "stdout",
          "text": [
            "Valid: Loss = 0.1695\n",
            "\n"
          ]
        },
        {
          "output_type": "stream",
          "name": "stderr",
          "text": [
            "Epoch 33: 100%|██████████| 27/27 [00:00<00:00, 44.98batch/s, loss=0.0332]\n"
          ]
        },
        {
          "output_type": "stream",
          "name": "stdout",
          "text": [
            "Valid: Loss = 0.2063\n",
            "\n"
          ]
        },
        {
          "output_type": "stream",
          "name": "stderr",
          "text": [
            "Epoch 34: 100%|██████████| 27/27 [00:00<00:00, 47.62batch/s, loss=0.0331]\n"
          ]
        },
        {
          "output_type": "stream",
          "name": "stdout",
          "text": [
            "Valid: Loss = 0.1754\n",
            "\n"
          ]
        },
        {
          "output_type": "stream",
          "name": "stderr",
          "text": [
            "Epoch 35: 100%|██████████| 27/27 [00:00<00:00, 54.31batch/s, loss=0.0298]\n"
          ]
        },
        {
          "output_type": "stream",
          "name": "stdout",
          "text": [
            "Valid: Loss = 0.218\n",
            "\n"
          ]
        },
        {
          "output_type": "stream",
          "name": "stderr",
          "text": [
            "Epoch 36: 100%|██████████| 27/27 [00:00<00:00, 60.21batch/s, loss=0.0339]\n"
          ]
        },
        {
          "output_type": "stream",
          "name": "stdout",
          "text": [
            "Valid: Loss = 0.1538\n",
            "\n"
          ]
        },
        {
          "output_type": "stream",
          "name": "stderr",
          "text": [
            "Epoch 37: 100%|██████████| 27/27 [00:00<00:00, 76.00batch/s, loss=0.0307]\n"
          ]
        },
        {
          "output_type": "stream",
          "name": "stdout",
          "text": [
            "Valid: Loss = 0.2037\n",
            "\n"
          ]
        },
        {
          "output_type": "stream",
          "name": "stderr",
          "text": [
            "Epoch 38: 100%|██████████| 27/27 [00:00<00:00, 31.24batch/s, loss=0.0347]\n"
          ]
        },
        {
          "output_type": "stream",
          "name": "stdout",
          "text": [
            "Valid: Loss = 0.1802\n",
            "\n"
          ]
        },
        {
          "output_type": "stream",
          "name": "stderr",
          "text": [
            "Epoch 39: 100%|██████████| 27/27 [00:00<00:00, 61.89batch/s, loss=0.0379]\n"
          ]
        },
        {
          "output_type": "stream",
          "name": "stdout",
          "text": [
            "Valid: Loss = 0.1927\n",
            "\n"
          ]
        },
        {
          "output_type": "stream",
          "name": "stderr",
          "text": [
            "Epoch 40: 100%|██████████| 27/27 [00:00<00:00, 69.92batch/s, loss=0.0322]\n"
          ]
        },
        {
          "output_type": "stream",
          "name": "stdout",
          "text": [
            "Valid: Loss = 0.1796\n",
            "\n"
          ]
        },
        {
          "output_type": "stream",
          "name": "stderr",
          "text": [
            "Epoch 41: 100%|██████████| 27/27 [00:00<00:00, 57.67batch/s, loss=0.0313]\n"
          ]
        },
        {
          "output_type": "stream",
          "name": "stdout",
          "text": [
            "Valid: Loss = 0.2001\n",
            "\n"
          ]
        },
        {
          "output_type": "stream",
          "name": "stderr",
          "text": [
            "Epoch 42: 100%|██████████| 27/27 [00:00<00:00, 57.25batch/s, loss=0.0349]\n"
          ]
        },
        {
          "output_type": "stream",
          "name": "stdout",
          "text": [
            "Valid: Loss = 0.1329\n",
            "Model Saved!\n",
            "\n"
          ]
        },
        {
          "output_type": "stream",
          "name": "stderr",
          "text": [
            "Epoch 43: 100%|██████████| 27/27 [00:00<00:00, 58.50batch/s, loss=0.0326]\n"
          ]
        },
        {
          "output_type": "stream",
          "name": "stdout",
          "text": [
            "Valid: Loss = 0.1823\n",
            "\n"
          ]
        },
        {
          "output_type": "stream",
          "name": "stderr",
          "text": [
            "Epoch 44: 100%|██████████| 27/27 [00:00<00:00, 28.11batch/s, loss=0.0329]\n"
          ]
        },
        {
          "output_type": "stream",
          "name": "stdout",
          "text": [
            "Valid: Loss = 0.1906\n",
            "\n"
          ]
        },
        {
          "output_type": "stream",
          "name": "stderr",
          "text": [
            "Epoch 45: 100%|██████████| 27/27 [00:00<00:00, 35.30batch/s, loss=0.0314]\n"
          ]
        },
        {
          "output_type": "stream",
          "name": "stdout",
          "text": [
            "Valid: Loss = 0.1795\n",
            "\n"
          ]
        },
        {
          "output_type": "stream",
          "name": "stderr",
          "text": [
            "Epoch 46: 100%|██████████| 27/27 [00:00<00:00, 54.56batch/s, loss=0.0344]\n"
          ]
        },
        {
          "output_type": "stream",
          "name": "stdout",
          "text": [
            "Valid: Loss = 0.1538\n",
            "\n"
          ]
        },
        {
          "output_type": "stream",
          "name": "stderr",
          "text": [
            "Epoch 47: 100%|██████████| 27/27 [00:00<00:00, 64.56batch/s, loss=0.0322]\n"
          ]
        },
        {
          "output_type": "stream",
          "name": "stdout",
          "text": [
            "Valid: Loss = 0.1577\n",
            "\n"
          ]
        },
        {
          "output_type": "stream",
          "name": "stderr",
          "text": [
            "Epoch 48: 100%|██████████| 27/27 [00:00<00:00, 49.40batch/s, loss=0.0312]\n"
          ]
        },
        {
          "output_type": "stream",
          "name": "stdout",
          "text": [
            "Valid: Loss = 0.1715\n",
            "\n"
          ]
        },
        {
          "output_type": "stream",
          "name": "stderr",
          "text": [
            "Epoch 49: 100%|██████████| 27/27 [00:00<00:00, 60.77batch/s, loss=0.0302]\n"
          ]
        },
        {
          "output_type": "stream",
          "name": "stdout",
          "text": [
            "Valid: Loss = 0.2095\n",
            "\n"
          ]
        },
        {
          "output_type": "stream",
          "name": "stderr",
          "text": [
            "Epoch 50: 100%|██████████| 27/27 [00:00<00:00, 45.89batch/s, loss=0.0328]\n"
          ]
        },
        {
          "output_type": "stream",
          "name": "stdout",
          "text": [
            "Valid: Loss = 0.1826\n",
            "\n"
          ]
        },
        {
          "output_type": "stream",
          "name": "stderr",
          "text": [
            "Epoch 51: 100%|██████████| 27/27 [00:00<00:00, 72.85batch/s, loss=0.0357]\n"
          ]
        },
        {
          "output_type": "stream",
          "name": "stdout",
          "text": [
            "Valid: Loss = 0.1726\n",
            "\n"
          ]
        },
        {
          "output_type": "stream",
          "name": "stderr",
          "text": [
            "Epoch 52: 100%|██████████| 27/27 [00:00<00:00, 87.54batch/s, loss=0.0314]\n"
          ]
        },
        {
          "output_type": "stream",
          "name": "stdout",
          "text": [
            "Valid: Loss = 0.173\n",
            "\n"
          ]
        },
        {
          "output_type": "stream",
          "name": "stderr",
          "text": [
            "Epoch 53: 100%|██████████| 27/27 [00:00<00:00, 99.34batch/s, loss=0.0305]\n"
          ]
        },
        {
          "output_type": "stream",
          "name": "stdout",
          "text": [
            "Valid: Loss = 0.1729\n",
            "\n"
          ]
        },
        {
          "output_type": "stream",
          "name": "stderr",
          "text": [
            "Epoch 54: 100%|██████████| 27/27 [00:00<00:00, 110.83batch/s, loss=0.0313]\n"
          ]
        },
        {
          "output_type": "stream",
          "name": "stdout",
          "text": [
            "Valid: Loss = 0.1859\n",
            "\n"
          ]
        },
        {
          "output_type": "stream",
          "name": "stderr",
          "text": [
            "Epoch 55: 100%|██████████| 27/27 [00:00<00:00, 96.91batch/s, loss=0.0339]\n"
          ]
        },
        {
          "output_type": "stream",
          "name": "stdout",
          "text": [
            "Valid: Loss = 0.1505\n",
            "\n"
          ]
        },
        {
          "output_type": "stream",
          "name": "stderr",
          "text": [
            "Epoch 56: 100%|██████████| 27/27 [00:00<00:00, 98.45batch/s, loss=0.0301]\n"
          ]
        },
        {
          "output_type": "stream",
          "name": "stdout",
          "text": [
            "Valid: Loss = 0.1789\n",
            "\n"
          ]
        },
        {
          "output_type": "stream",
          "name": "stderr",
          "text": [
            "Epoch 57: 100%|██████████| 27/27 [00:00<00:00, 105.66batch/s, loss=0.0341]\n"
          ]
        },
        {
          "output_type": "stream",
          "name": "stdout",
          "text": [
            "Valid: Loss = 0.1545\n",
            "\n"
          ]
        },
        {
          "output_type": "stream",
          "name": "stderr",
          "text": [
            "Epoch 58: 100%|██████████| 27/27 [00:00<00:00, 116.11batch/s, loss=0.0349]\n"
          ]
        },
        {
          "output_type": "stream",
          "name": "stdout",
          "text": [
            "Valid: Loss = 0.1894\n",
            "\n"
          ]
        },
        {
          "output_type": "stream",
          "name": "stderr",
          "text": [
            "Epoch 59: 100%|██████████| 27/27 [00:00<00:00, 106.31batch/s, loss=0.0323]\n"
          ]
        },
        {
          "output_type": "stream",
          "name": "stdout",
          "text": [
            "Valid: Loss = 0.1688\n",
            "\n"
          ]
        },
        {
          "output_type": "stream",
          "name": "stderr",
          "text": [
            "Epoch 60: 100%|██████████| 27/27 [00:00<00:00, 100.61batch/s, loss=0.0313]\n"
          ]
        },
        {
          "output_type": "stream",
          "name": "stdout",
          "text": [
            "Valid: Loss = 0.1547\n",
            "\n"
          ]
        },
        {
          "output_type": "stream",
          "name": "stderr",
          "text": [
            "Epoch 61: 100%|██████████| 27/27 [00:00<00:00, 94.56batch/s, loss=0.0311]\n"
          ]
        },
        {
          "output_type": "stream",
          "name": "stdout",
          "text": [
            "Valid: Loss = 0.1963\n",
            "\n"
          ]
        },
        {
          "output_type": "stream",
          "name": "stderr",
          "text": [
            "Epoch 62: 100%|██████████| 27/27 [00:00<00:00, 101.90batch/s, loss=0.0338]\n"
          ]
        },
        {
          "output_type": "stream",
          "name": "stdout",
          "text": [
            "Valid: Loss = 0.174\n",
            "\n"
          ]
        },
        {
          "output_type": "stream",
          "name": "stderr",
          "text": [
            "Epoch 63: 100%|██████████| 27/27 [00:00<00:00, 99.35batch/s, loss=0.0323]\n"
          ]
        },
        {
          "output_type": "stream",
          "name": "stdout",
          "text": [
            "Valid: Loss = 0.2038\n",
            "\n"
          ]
        },
        {
          "output_type": "stream",
          "name": "stderr",
          "text": [
            "Epoch 64: 100%|██████████| 27/27 [00:00<00:00, 87.55batch/s, loss=0.0329]\n"
          ]
        },
        {
          "output_type": "stream",
          "name": "stdout",
          "text": [
            "Valid: Loss = 0.1726\n",
            "\n"
          ]
        },
        {
          "output_type": "stream",
          "name": "stderr",
          "text": [
            "Epoch 65: 100%|██████████| 27/27 [00:00<00:00, 97.43batch/s, loss=0.0295]\n"
          ]
        },
        {
          "output_type": "stream",
          "name": "stdout",
          "text": [
            "Valid: Loss = 0.1825\n",
            "\n"
          ]
        },
        {
          "output_type": "stream",
          "name": "stderr",
          "text": [
            "Epoch 66: 100%|██████████| 27/27 [00:00<00:00, 93.51batch/s, loss=0.0336]\n"
          ]
        },
        {
          "output_type": "stream",
          "name": "stdout",
          "text": [
            "Valid: Loss = 0.1542\n",
            "\n"
          ]
        },
        {
          "output_type": "stream",
          "name": "stderr",
          "text": [
            "Epoch 67: 100%|██████████| 27/27 [00:00<00:00, 83.60batch/s, loss=0.0352]\n"
          ]
        },
        {
          "output_type": "stream",
          "name": "stdout",
          "text": [
            "Valid: Loss = 0.1926\n",
            "\n"
          ]
        },
        {
          "output_type": "stream",
          "name": "stderr",
          "text": [
            "Epoch 68: 100%|██████████| 27/27 [00:00<00:00, 92.30batch/s, loss=0.0324]\n"
          ]
        },
        {
          "output_type": "stream",
          "name": "stdout",
          "text": [
            "Valid: Loss = 0.1876\n",
            "\n"
          ]
        },
        {
          "output_type": "stream",
          "name": "stderr",
          "text": [
            "Epoch 69: 100%|██████████| 27/27 [00:00<00:00, 91.71batch/s, loss=0.0308]\n"
          ]
        },
        {
          "output_type": "stream",
          "name": "stdout",
          "text": [
            "Valid: Loss = 0.2082\n",
            "\n"
          ]
        },
        {
          "output_type": "stream",
          "name": "stderr",
          "text": [
            "Epoch 70: 100%|██████████| 27/27 [00:00<00:00, 102.03batch/s, loss=0.0344]\n"
          ]
        },
        {
          "output_type": "stream",
          "name": "stdout",
          "text": [
            "Valid: Loss = 0.1497\n",
            "\n"
          ]
        },
        {
          "output_type": "stream",
          "name": "stderr",
          "text": [
            "Epoch 71: 100%|██████████| 27/27 [00:00<00:00, 98.26batch/s, loss=0.0314] \n"
          ]
        },
        {
          "output_type": "stream",
          "name": "stdout",
          "text": [
            "Valid: Loss = 0.1781\n",
            "\n"
          ]
        },
        {
          "output_type": "stream",
          "name": "stderr",
          "text": [
            "Epoch 72: 100%|██████████| 27/27 [00:00<00:00, 103.38batch/s, loss=0.0332]\n"
          ]
        },
        {
          "output_type": "stream",
          "name": "stdout",
          "text": [
            "Valid: Loss = 0.1401\n",
            "\n"
          ]
        },
        {
          "output_type": "stream",
          "name": "stderr",
          "text": [
            "Epoch 73: 100%|██████████| 27/27 [00:00<00:00, 100.84batch/s, loss=0.0348]\n"
          ]
        },
        {
          "output_type": "stream",
          "name": "stdout",
          "text": [
            "Valid: Loss = 0.1891\n",
            "\n"
          ]
        },
        {
          "output_type": "stream",
          "name": "stderr",
          "text": [
            "Epoch 74: 100%|██████████| 27/27 [00:00<00:00, 113.23batch/s, loss=0.0319]\n"
          ]
        },
        {
          "output_type": "stream",
          "name": "stdout",
          "text": [
            "Valid: Loss = 0.1711\n",
            "\n"
          ]
        },
        {
          "output_type": "stream",
          "name": "stderr",
          "text": [
            "Epoch 75: 100%|██████████| 27/27 [00:00<00:00, 108.94batch/s, loss=0.0305]\n"
          ]
        },
        {
          "output_type": "stream",
          "name": "stdout",
          "text": [
            "Valid: Loss = 0.186\n",
            "\n"
          ]
        },
        {
          "output_type": "stream",
          "name": "stderr",
          "text": [
            "Epoch 76: 100%|██████████| 27/27 [00:00<00:00, 105.38batch/s, loss=0.031]\n"
          ]
        },
        {
          "output_type": "stream",
          "name": "stdout",
          "text": [
            "Valid: Loss = 0.1641\n",
            "\n"
          ]
        },
        {
          "output_type": "stream",
          "name": "stderr",
          "text": [
            "Epoch 77: 100%|██████████| 27/27 [00:00<00:00, 91.06batch/s, loss=0.0307]\n"
          ]
        },
        {
          "output_type": "stream",
          "name": "stdout",
          "text": [
            "Valid: Loss = 0.1732\n",
            "\n"
          ]
        },
        {
          "output_type": "stream",
          "name": "stderr",
          "text": [
            "Epoch 78: 100%|██████████| 27/27 [00:00<00:00, 91.46batch/s, loss=0.0348]\n"
          ]
        },
        {
          "output_type": "stream",
          "name": "stdout",
          "text": [
            "Valid: Loss = 0.137\n",
            "\n"
          ]
        },
        {
          "output_type": "stream",
          "name": "stderr",
          "text": [
            "Epoch 79: 100%|██████████| 27/27 [00:00<00:00, 86.43batch/s, loss=0.0309]\n"
          ]
        },
        {
          "output_type": "stream",
          "name": "stdout",
          "text": [
            "Valid: Loss = 0.1947\n",
            "\n"
          ]
        }
      ]
    },
    {
      "cell_type": "markdown",
      "source": [
        "# train GRUModel"
      ],
      "metadata": {
        "id": "9BOn_QaKtKYJ"
      }
    },
    {
      "cell_type": "code",
      "source": [
        "model = RNNModel(nn.GRU, 1, 4, 1, True, False, 1).to(device)"
      ],
      "metadata": {
        "id": "7FRn7T2btRjU"
      },
      "execution_count": null,
      "outputs": []
    },
    {
      "cell_type": "code",
      "source": [
        "lr = 0.0015    # gru\n",
        "wd = 1e-05\n",
        "\n",
        "optimizer = optim.Adam(model.parameters(), lr=lr, weight_decay=wd)\n",
        "loss_fn = nn.L1Loss()"
      ],
      "metadata": {
        "id": "bEEdOEtKtRju"
      },
      "execution_count": null,
      "outputs": []
    },
    {
      "cell_type": "code",
      "source": [
        "loss_train_hist = []\n",
        "loss_valid_hist = []\n",
        "\n",
        "best_loss_valid = torch.inf\n",
        "epoch_counter = 0"
      ],
      "metadata": {
        "id": "SsuV_AF-tRju"
      },
      "execution_count": null,
      "outputs": []
    },
    {
      "cell_type": "code",
      "source": [
        "num_epochs = 80\n",
        "\n",
        "for epoch in range(num_epochs):\n",
        "  # Train\n",
        "  model, loss_train = train_one_epoch(model,\n",
        "                                      train_loader,\n",
        "                                      loss_fn,\n",
        "                                      optimizer,\n",
        "                                      epoch)\n",
        "  # Validation\n",
        "  loss_valid = validation(model,\n",
        "                          test_loader,\n",
        "                          loss_fn)\n",
        "\n",
        "  loss_train_hist.append(loss_train)\n",
        "  loss_valid_hist.append(loss_valid)\n",
        "\n",
        "  print(f'Valid: Loss = {loss_valid:.4}')\n",
        "\n",
        "  if loss_valid < best_loss_valid:\n",
        "\n",
        "    torch.save(model, '/content/gru-model.pt')\n",
        "\n",
        "    best_loss_valid = loss_valid\n",
        "    print('Model Saved!')\n",
        "\n",
        "  print()\n",
        "  epoch_counter += 1\n",
        "\n",
        "\n",
        "torch.save(torch.tensor(loss_train_hist), f'/content/gru-loss-train.pt')\n",
        "torch.save(torch.tensor(loss_valid_hist), f'/content/gru-loss-valid.pt')\n"
      ],
      "metadata": {
        "colab": {
          "base_uri": "https://localhost:8080/"
        },
        "outputId": "db583555-8994-4e0a-ea02-3f46d1b06af2",
        "id": "PbjRxQKytRjv"
      },
      "execution_count": null,
      "outputs": [
        {
          "output_type": "stream",
          "name": "stderr",
          "text": [
            "Epoch 0: 100%|██████████| 27/27 [00:00<00:00, 90.89batch/s, loss=0.0831]\n"
          ]
        },
        {
          "output_type": "stream",
          "name": "stdout",
          "text": [
            "Valid: Loss = 0.6197\n",
            "Model Saved!\n",
            "\n"
          ]
        },
        {
          "output_type": "stream",
          "name": "stderr",
          "text": [
            "Epoch 1: 100%|██████████| 27/27 [00:00<00:00, 101.54batch/s, loss=0.0796]\n"
          ]
        },
        {
          "output_type": "stream",
          "name": "stdout",
          "text": [
            "Valid: Loss = 0.619\n",
            "Model Saved!\n",
            "\n"
          ]
        },
        {
          "output_type": "stream",
          "name": "stderr",
          "text": [
            "Epoch 2: 100%|██████████| 27/27 [00:00<00:00, 99.15batch/s, loss=0.0727] \n"
          ]
        },
        {
          "output_type": "stream",
          "name": "stdout",
          "text": [
            "Valid: Loss = 0.6002\n",
            "Model Saved!\n",
            "\n"
          ]
        },
        {
          "output_type": "stream",
          "name": "stderr",
          "text": [
            "Epoch 3: 100%|██████████| 27/27 [00:00<00:00, 100.34batch/s, loss=0.0738]\n"
          ]
        },
        {
          "output_type": "stream",
          "name": "stdout",
          "text": [
            "Valid: Loss = 0.5895\n",
            "Model Saved!\n",
            "\n"
          ]
        },
        {
          "output_type": "stream",
          "name": "stderr",
          "text": [
            "Epoch 4: 100%|██████████| 27/27 [00:00<00:00, 101.47batch/s, loss=0.0712]\n"
          ]
        },
        {
          "output_type": "stream",
          "name": "stdout",
          "text": [
            "Valid: Loss = 0.5758\n",
            "Model Saved!\n",
            "\n"
          ]
        },
        {
          "output_type": "stream",
          "name": "stderr",
          "text": [
            "Epoch 5: 100%|██████████| 27/27 [00:00<00:00, 93.36batch/s, loss=0.0693]\n"
          ]
        },
        {
          "output_type": "stream",
          "name": "stdout",
          "text": [
            "Valid: Loss = 0.5592\n",
            "Model Saved!\n",
            "\n"
          ]
        },
        {
          "output_type": "stream",
          "name": "stderr",
          "text": [
            "Epoch 6: 100%|██████████| 27/27 [00:00<00:00, 96.81batch/s, loss=0.0665]\n"
          ]
        },
        {
          "output_type": "stream",
          "name": "stdout",
          "text": [
            "Valid: Loss = 0.5395\n",
            "Model Saved!\n",
            "\n"
          ]
        },
        {
          "output_type": "stream",
          "name": "stderr",
          "text": [
            "Epoch 7: 100%|██████████| 27/27 [00:00<00:00, 87.84batch/s, loss=0.0658]\n"
          ]
        },
        {
          "output_type": "stream",
          "name": "stdout",
          "text": [
            "Valid: Loss = 0.5238\n",
            "Model Saved!\n",
            "\n"
          ]
        },
        {
          "output_type": "stream",
          "name": "stderr",
          "text": [
            "Epoch 8: 100%|██████████| 27/27 [00:00<00:00, 78.01batch/s, loss=0.0617]\n"
          ]
        },
        {
          "output_type": "stream",
          "name": "stdout",
          "text": [
            "Valid: Loss = 0.4974\n",
            "Model Saved!\n",
            "\n"
          ]
        },
        {
          "output_type": "stream",
          "name": "stderr",
          "text": [
            "Epoch 9: 100%|██████████| 27/27 [00:00<00:00, 79.54batch/s, loss=0.0623]\n"
          ]
        },
        {
          "output_type": "stream",
          "name": "stdout",
          "text": [
            "Valid: Loss = 0.4821\n",
            "Model Saved!\n",
            "\n"
          ]
        },
        {
          "output_type": "stream",
          "name": "stderr",
          "text": [
            "Epoch 10: 100%|██████████| 27/27 [00:00<00:00, 87.53batch/s, loss=0.0564]\n"
          ]
        },
        {
          "output_type": "stream",
          "name": "stdout",
          "text": [
            "Valid: Loss = 0.4463\n",
            "Model Saved!\n",
            "\n"
          ]
        },
        {
          "output_type": "stream",
          "name": "stderr",
          "text": [
            "Epoch 11: 100%|██████████| 27/27 [00:00<00:00, 87.08batch/s, loss=0.0569]\n"
          ]
        },
        {
          "output_type": "stream",
          "name": "stdout",
          "text": [
            "Valid: Loss = 0.428\n",
            "Model Saved!\n",
            "\n"
          ]
        },
        {
          "output_type": "stream",
          "name": "stderr",
          "text": [
            "Epoch 12: 100%|██████████| 27/27 [00:00<00:00, 87.65batch/s, loss=0.053]\n"
          ]
        },
        {
          "output_type": "stream",
          "name": "stdout",
          "text": [
            "Valid: Loss = 0.3972\n",
            "Model Saved!\n",
            "\n"
          ]
        },
        {
          "output_type": "stream",
          "name": "stderr",
          "text": [
            "Epoch 13: 100%|██████████| 27/27 [00:00<00:00, 90.19batch/s, loss=0.0519]\n"
          ]
        },
        {
          "output_type": "stream",
          "name": "stdout",
          "text": [
            "Valid: Loss = 0.3712\n",
            "Model Saved!\n",
            "\n"
          ]
        },
        {
          "output_type": "stream",
          "name": "stderr",
          "text": [
            "Epoch 14: 100%|██████████| 27/27 [00:00<00:00, 90.92batch/s, loss=0.0469]\n"
          ]
        },
        {
          "output_type": "stream",
          "name": "stdout",
          "text": [
            "Valid: Loss = 0.3328\n",
            "Model Saved!\n",
            "\n"
          ]
        },
        {
          "output_type": "stream",
          "name": "stderr",
          "text": [
            "Epoch 15: 100%|██████████| 27/27 [00:00<00:00, 66.52batch/s, loss=0.0462]\n"
          ]
        },
        {
          "output_type": "stream",
          "name": "stdout",
          "text": [
            "Valid: Loss = 0.3071\n",
            "Model Saved!\n",
            "\n"
          ]
        },
        {
          "output_type": "stream",
          "name": "stderr",
          "text": [
            "Epoch 16: 100%|██████████| 27/27 [00:00<00:00, 73.80batch/s, loss=0.045]\n"
          ]
        },
        {
          "output_type": "stream",
          "name": "stdout",
          "text": [
            "Valid: Loss = 0.2897\n",
            "Model Saved!\n",
            "\n"
          ]
        },
        {
          "output_type": "stream",
          "name": "stderr",
          "text": [
            "Epoch 17: 100%|██████████| 27/27 [00:00<00:00, 79.37batch/s, loss=0.044]\n"
          ]
        },
        {
          "output_type": "stream",
          "name": "stdout",
          "text": [
            "Valid: Loss = 0.2757\n",
            "Model Saved!\n",
            "\n"
          ]
        },
        {
          "output_type": "stream",
          "name": "stderr",
          "text": [
            "Epoch 18: 100%|██████████| 27/27 [00:00<00:00, 93.35batch/s, loss=0.0433]\n"
          ]
        },
        {
          "output_type": "stream",
          "name": "stdout",
          "text": [
            "Valid: Loss = 0.264\n",
            "Model Saved!\n",
            "\n"
          ]
        },
        {
          "output_type": "stream",
          "name": "stderr",
          "text": [
            "Epoch 19: 100%|██████████| 27/27 [00:00<00:00, 96.47batch/s, loss=0.0437]\n"
          ]
        },
        {
          "output_type": "stream",
          "name": "stdout",
          "text": [
            "Valid: Loss = 0.2585\n",
            "Model Saved!\n",
            "\n"
          ]
        },
        {
          "output_type": "stream",
          "name": "stderr",
          "text": [
            "Epoch 20: 100%|██████████| 27/27 [00:00<00:00, 88.12batch/s, loss=0.0424]\n"
          ]
        },
        {
          "output_type": "stream",
          "name": "stdout",
          "text": [
            "Valid: Loss = 0.2483\n",
            "Model Saved!\n",
            "\n"
          ]
        },
        {
          "output_type": "stream",
          "name": "stderr",
          "text": [
            "Epoch 21: 100%|██████████| 27/27 [00:00<00:00, 80.94batch/s, loss=0.0424]\n"
          ]
        },
        {
          "output_type": "stream",
          "name": "stdout",
          "text": [
            "Valid: Loss = 0.242\n",
            "Model Saved!\n",
            "\n"
          ]
        },
        {
          "output_type": "stream",
          "name": "stderr",
          "text": [
            "Epoch 22: 100%|██████████| 27/27 [00:00<00:00, 66.52batch/s, loss=0.0422]\n"
          ]
        },
        {
          "output_type": "stream",
          "name": "stdout",
          "text": [
            "Valid: Loss = 0.2355\n",
            "Model Saved!\n",
            "\n"
          ]
        },
        {
          "output_type": "stream",
          "name": "stderr",
          "text": [
            "Epoch 23: 100%|██████████| 27/27 [00:00<00:00, 65.13batch/s, loss=0.0421]\n"
          ]
        },
        {
          "output_type": "stream",
          "name": "stdout",
          "text": [
            "Valid: Loss = 0.2303\n",
            "Model Saved!\n",
            "\n"
          ]
        },
        {
          "output_type": "stream",
          "name": "stderr",
          "text": [
            "Epoch 24: 100%|██████████| 27/27 [00:00<00:00, 69.60batch/s, loss=0.0411]\n"
          ]
        },
        {
          "output_type": "stream",
          "name": "stdout",
          "text": [
            "Valid: Loss = 0.2213\n",
            "Model Saved!\n",
            "\n"
          ]
        },
        {
          "output_type": "stream",
          "name": "stderr",
          "text": [
            "Epoch 25: 100%|██████████| 27/27 [00:00<00:00, 75.93batch/s, loss=0.0416]\n"
          ]
        },
        {
          "output_type": "stream",
          "name": "stdout",
          "text": [
            "Valid: Loss = 0.2224\n",
            "\n"
          ]
        },
        {
          "output_type": "stream",
          "name": "stderr",
          "text": [
            "Epoch 26: 100%|██████████| 27/27 [00:00<00:00, 74.78batch/s, loss=0.0406]\n"
          ]
        },
        {
          "output_type": "stream",
          "name": "stdout",
          "text": [
            "Valid: Loss = 0.22\n",
            "Model Saved!\n",
            "\n"
          ]
        },
        {
          "output_type": "stream",
          "name": "stderr",
          "text": [
            "Epoch 27: 100%|██████████| 27/27 [00:00<00:00, 72.45batch/s, loss=0.041]\n"
          ]
        },
        {
          "output_type": "stream",
          "name": "stdout",
          "text": [
            "Valid: Loss = 0.2209\n",
            "\n"
          ]
        },
        {
          "output_type": "stream",
          "name": "stderr",
          "text": [
            "Epoch 28: 100%|██████████| 27/27 [00:00<00:00, 58.96batch/s, loss=0.0403]\n"
          ]
        },
        {
          "output_type": "stream",
          "name": "stdout",
          "text": [
            "Valid: Loss = 0.2205\n",
            "\n"
          ]
        },
        {
          "output_type": "stream",
          "name": "stderr",
          "text": [
            "Epoch 29: 100%|██████████| 27/27 [00:00<00:00, 65.97batch/s, loss=0.0401]\n"
          ]
        },
        {
          "output_type": "stream",
          "name": "stdout",
          "text": [
            "Valid: Loss = 0.2187\n",
            "Model Saved!\n",
            "\n"
          ]
        },
        {
          "output_type": "stream",
          "name": "stderr",
          "text": [
            "Epoch 30: 100%|██████████| 27/27 [00:00<00:00, 83.23batch/s, loss=0.0403]\n"
          ]
        },
        {
          "output_type": "stream",
          "name": "stdout",
          "text": [
            "Valid: Loss = 0.2201\n",
            "\n"
          ]
        },
        {
          "output_type": "stream",
          "name": "stderr",
          "text": [
            "Epoch 31: 100%|██████████| 27/27 [00:00<00:00, 76.67batch/s, loss=0.0397]\n"
          ]
        },
        {
          "output_type": "stream",
          "name": "stdout",
          "text": [
            "Valid: Loss = 0.2179\n",
            "Model Saved!\n",
            "\n"
          ]
        },
        {
          "output_type": "stream",
          "name": "stderr",
          "text": [
            "Epoch 32: 100%|██████████| 27/27 [00:00<00:00, 79.69batch/s, loss=0.0397]\n"
          ]
        },
        {
          "output_type": "stream",
          "name": "stdout",
          "text": [
            "Valid: Loss = 0.2179\n",
            "\n"
          ]
        },
        {
          "output_type": "stream",
          "name": "stderr",
          "text": [
            "Epoch 33: 100%|██████████| 27/27 [00:00<00:00, 61.37batch/s, loss=0.0393]\n"
          ]
        },
        {
          "output_type": "stream",
          "name": "stdout",
          "text": [
            "Valid: Loss = 0.216\n",
            "Model Saved!\n",
            "\n"
          ]
        },
        {
          "output_type": "stream",
          "name": "stderr",
          "text": [
            "Epoch 34: 100%|██████████| 27/27 [00:00<00:00, 55.54batch/s, loss=0.0391]\n"
          ]
        },
        {
          "output_type": "stream",
          "name": "stdout",
          "text": [
            "Valid: Loss = 0.216\n",
            "Model Saved!\n",
            "\n"
          ]
        },
        {
          "output_type": "stream",
          "name": "stderr",
          "text": [
            "Epoch 35: 100%|██████████| 27/27 [00:00<00:00, 62.13batch/s, loss=0.0388]\n"
          ]
        },
        {
          "output_type": "stream",
          "name": "stdout",
          "text": [
            "Valid: Loss = 0.2165\n",
            "\n"
          ]
        },
        {
          "output_type": "stream",
          "name": "stderr",
          "text": [
            "Epoch 36: 100%|██████████| 27/27 [00:00<00:00, 69.85batch/s, loss=0.0388]\n"
          ]
        },
        {
          "output_type": "stream",
          "name": "stdout",
          "text": [
            "Valid: Loss = 0.2143\n",
            "Model Saved!\n",
            "\n"
          ]
        },
        {
          "output_type": "stream",
          "name": "stderr",
          "text": [
            "Epoch 37: 100%|██████████| 27/27 [00:00<00:00, 90.80batch/s, loss=0.0383]\n"
          ]
        },
        {
          "output_type": "stream",
          "name": "stdout",
          "text": [
            "Valid: Loss = 0.2137\n",
            "Model Saved!\n",
            "\n"
          ]
        },
        {
          "output_type": "stream",
          "name": "stderr",
          "text": [
            "Epoch 38: 100%|██████████| 27/27 [00:00<00:00, 80.91batch/s, loss=0.0379]\n"
          ]
        },
        {
          "output_type": "stream",
          "name": "stdout",
          "text": [
            "Valid: Loss = 0.207\n",
            "Model Saved!\n",
            "\n"
          ]
        },
        {
          "output_type": "stream",
          "name": "stderr",
          "text": [
            "Epoch 39: 100%|██████████| 27/27 [00:00<00:00, 91.69batch/s, loss=0.0381]\n"
          ]
        },
        {
          "output_type": "stream",
          "name": "stdout",
          "text": [
            "Valid: Loss = 0.2061\n",
            "Model Saved!\n",
            "\n"
          ]
        },
        {
          "output_type": "stream",
          "name": "stderr",
          "text": [
            "Epoch 40: 100%|██████████| 27/27 [00:00<00:00, 88.53batch/s, loss=0.0379]\n"
          ]
        },
        {
          "output_type": "stream",
          "name": "stdout",
          "text": [
            "Valid: Loss = 0.2046\n",
            "Model Saved!\n",
            "\n"
          ]
        },
        {
          "output_type": "stream",
          "name": "stderr",
          "text": [
            "Epoch 41: 100%|██████████| 27/27 [00:00<00:00, 86.00batch/s, loss=0.038]\n"
          ]
        },
        {
          "output_type": "stream",
          "name": "stdout",
          "text": [
            "Valid: Loss = 0.2057\n",
            "\n"
          ]
        },
        {
          "output_type": "stream",
          "name": "stderr",
          "text": [
            "Epoch 42: 100%|██████████| 27/27 [00:00<00:00, 91.75batch/s, loss=0.0376]\n"
          ]
        },
        {
          "output_type": "stream",
          "name": "stdout",
          "text": [
            "Valid: Loss = 0.2052\n",
            "\n"
          ]
        },
        {
          "output_type": "stream",
          "name": "stderr",
          "text": [
            "Epoch 43: 100%|██████████| 27/27 [00:00<00:00, 87.51batch/s, loss=0.0376]\n"
          ]
        },
        {
          "output_type": "stream",
          "name": "stdout",
          "text": [
            "Valid: Loss = 0.2047\n",
            "\n"
          ]
        },
        {
          "output_type": "stream",
          "name": "stderr",
          "text": [
            "Epoch 44: 100%|██████████| 27/27 [00:00<00:00, 93.79batch/s, loss=0.0375]\n"
          ]
        },
        {
          "output_type": "stream",
          "name": "stdout",
          "text": [
            "Valid: Loss = 0.2052\n",
            "\n"
          ]
        },
        {
          "output_type": "stream",
          "name": "stderr",
          "text": [
            "Epoch 45: 100%|██████████| 27/27 [00:00<00:00, 89.43batch/s, loss=0.0372]\n"
          ]
        },
        {
          "output_type": "stream",
          "name": "stdout",
          "text": [
            "Valid: Loss = 0.2019\n",
            "Model Saved!\n",
            "\n"
          ]
        },
        {
          "output_type": "stream",
          "name": "stderr",
          "text": [
            "Epoch 46: 100%|██████████| 27/27 [00:00<00:00, 91.41batch/s, loss=0.0368]\n"
          ]
        },
        {
          "output_type": "stream",
          "name": "stdout",
          "text": [
            "Valid: Loss = 0.2014\n",
            "Model Saved!\n",
            "\n"
          ]
        },
        {
          "output_type": "stream",
          "name": "stderr",
          "text": [
            "Epoch 47: 100%|██████████| 27/27 [00:00<00:00, 92.49batch/s, loss=0.0374]\n"
          ]
        },
        {
          "output_type": "stream",
          "name": "stdout",
          "text": [
            "Valid: Loss = 0.1986\n",
            "Model Saved!\n",
            "\n"
          ]
        },
        {
          "output_type": "stream",
          "name": "stderr",
          "text": [
            "Epoch 48: 100%|██████████| 27/27 [00:00<00:00, 96.16batch/s, loss=0.0371]\n"
          ]
        },
        {
          "output_type": "stream",
          "name": "stdout",
          "text": [
            "Valid: Loss = 0.1984\n",
            "Model Saved!\n",
            "\n"
          ]
        },
        {
          "output_type": "stream",
          "name": "stderr",
          "text": [
            "Epoch 49: 100%|██████████| 27/27 [00:00<00:00, 91.31batch/s, loss=0.0368]\n"
          ]
        },
        {
          "output_type": "stream",
          "name": "stdout",
          "text": [
            "Valid: Loss = 0.1982\n",
            "Model Saved!\n",
            "\n"
          ]
        },
        {
          "output_type": "stream",
          "name": "stderr",
          "text": [
            "Epoch 50: 100%|██████████| 27/27 [00:00<00:00, 87.23batch/s, loss=0.0365]\n"
          ]
        },
        {
          "output_type": "stream",
          "name": "stdout",
          "text": [
            "Valid: Loss = 0.1968\n",
            "Model Saved!\n",
            "\n"
          ]
        },
        {
          "output_type": "stream",
          "name": "stderr",
          "text": [
            "Epoch 51: 100%|██████████| 27/27 [00:00<00:00, 93.94batch/s, loss=0.0365]\n"
          ]
        },
        {
          "output_type": "stream",
          "name": "stdout",
          "text": [
            "Valid: Loss = 0.1964\n",
            "Model Saved!\n",
            "\n"
          ]
        },
        {
          "output_type": "stream",
          "name": "stderr",
          "text": [
            "Epoch 52: 100%|██████████| 27/27 [00:00<00:00, 96.79batch/s, loss=0.0366]\n"
          ]
        },
        {
          "output_type": "stream",
          "name": "stdout",
          "text": [
            "Valid: Loss = 0.1928\n",
            "Model Saved!\n",
            "\n"
          ]
        },
        {
          "output_type": "stream",
          "name": "stderr",
          "text": [
            "Epoch 53: 100%|██████████| 27/27 [00:00<00:00, 82.24batch/s, loss=0.0361]\n"
          ]
        },
        {
          "output_type": "stream",
          "name": "stdout",
          "text": [
            "Valid: Loss = 0.1923\n",
            "Model Saved!\n",
            "\n"
          ]
        },
        {
          "output_type": "stream",
          "name": "stderr",
          "text": [
            "Epoch 54: 100%|██████████| 27/27 [00:00<00:00, 98.59batch/s, loss=0.036]\n"
          ]
        },
        {
          "output_type": "stream",
          "name": "stdout",
          "text": [
            "Valid: Loss = 0.1939\n",
            "\n"
          ]
        },
        {
          "output_type": "stream",
          "name": "stderr",
          "text": [
            "Epoch 55: 100%|██████████| 27/27 [00:00<00:00, 90.28batch/s, loss=0.0357]\n"
          ]
        },
        {
          "output_type": "stream",
          "name": "stdout",
          "text": [
            "Valid: Loss = 0.1889\n",
            "Model Saved!\n",
            "\n"
          ]
        },
        {
          "output_type": "stream",
          "name": "stderr",
          "text": [
            "Epoch 56: 100%|██████████| 27/27 [00:00<00:00, 77.01batch/s, loss=0.0357]\n"
          ]
        },
        {
          "output_type": "stream",
          "name": "stdout",
          "text": [
            "Valid: Loss = 0.1889\n",
            "\n"
          ]
        },
        {
          "output_type": "stream",
          "name": "stderr",
          "text": [
            "Epoch 57: 100%|██████████| 27/27 [00:00<00:00, 70.38batch/s, loss=0.0358]\n"
          ]
        },
        {
          "output_type": "stream",
          "name": "stdout",
          "text": [
            "Valid: Loss = 0.1846\n",
            "Model Saved!\n",
            "\n"
          ]
        },
        {
          "output_type": "stream",
          "name": "stderr",
          "text": [
            "Epoch 58: 100%|██████████| 27/27 [00:00<00:00, 75.40batch/s, loss=0.0351]\n"
          ]
        },
        {
          "output_type": "stream",
          "name": "stdout",
          "text": [
            "Valid: Loss = 0.1853\n",
            "\n"
          ]
        },
        {
          "output_type": "stream",
          "name": "stderr",
          "text": [
            "Epoch 59: 100%|██████████| 27/27 [00:00<00:00, 83.88batch/s, loss=0.0338]\n"
          ]
        },
        {
          "output_type": "stream",
          "name": "stdout",
          "text": [
            "Valid: Loss = 0.1872\n",
            "\n"
          ]
        },
        {
          "output_type": "stream",
          "name": "stderr",
          "text": [
            "Epoch 60: 100%|██████████| 27/27 [00:00<00:00, 89.14batch/s, loss=0.0333]\n"
          ]
        },
        {
          "output_type": "stream",
          "name": "stdout",
          "text": [
            "Valid: Loss = 0.1922\n",
            "\n"
          ]
        },
        {
          "output_type": "stream",
          "name": "stderr",
          "text": [
            "Epoch 61: 100%|██████████| 27/27 [00:00<00:00, 80.27batch/s, loss=0.0338]\n"
          ]
        },
        {
          "output_type": "stream",
          "name": "stdout",
          "text": [
            "Valid: Loss = 0.1919\n",
            "\n"
          ]
        },
        {
          "output_type": "stream",
          "name": "stderr",
          "text": [
            "Epoch 62: 100%|██████████| 27/27 [00:00<00:00, 93.74batch/s, loss=0.0333]\n"
          ]
        },
        {
          "output_type": "stream",
          "name": "stdout",
          "text": [
            "Valid: Loss = 0.1975\n",
            "\n"
          ]
        },
        {
          "output_type": "stream",
          "name": "stderr",
          "text": [
            "Epoch 63: 100%|██████████| 27/27 [00:00<00:00, 97.00batch/s, loss=0.033]\n"
          ]
        },
        {
          "output_type": "stream",
          "name": "stdout",
          "text": [
            "Valid: Loss = 0.1976\n",
            "\n"
          ]
        },
        {
          "output_type": "stream",
          "name": "stderr",
          "text": [
            "Epoch 64: 100%|██████████| 27/27 [00:00<00:00, 89.90batch/s, loss=0.0329]\n"
          ]
        },
        {
          "output_type": "stream",
          "name": "stdout",
          "text": [
            "Valid: Loss = 0.197\n",
            "\n"
          ]
        },
        {
          "output_type": "stream",
          "name": "stderr",
          "text": [
            "Epoch 65: 100%|██████████| 27/27 [00:00<00:00, 101.87batch/s, loss=0.0328]\n"
          ]
        },
        {
          "output_type": "stream",
          "name": "stdout",
          "text": [
            "Valid: Loss = 0.1959\n",
            "\n"
          ]
        },
        {
          "output_type": "stream",
          "name": "stderr",
          "text": [
            "Epoch 66: 100%|██████████| 27/27 [00:00<00:00, 70.78batch/s, loss=0.0327]\n"
          ]
        },
        {
          "output_type": "stream",
          "name": "stdout",
          "text": [
            "Valid: Loss = 0.1946\n",
            "\n"
          ]
        },
        {
          "output_type": "stream",
          "name": "stderr",
          "text": [
            "Epoch 67: 100%|██████████| 27/27 [00:00<00:00, 84.51batch/s, loss=0.0326]\n"
          ]
        },
        {
          "output_type": "stream",
          "name": "stdout",
          "text": [
            "Valid: Loss = 0.1889\n",
            "\n"
          ]
        },
        {
          "output_type": "stream",
          "name": "stderr",
          "text": [
            "Epoch 68: 100%|██████████| 27/27 [00:00<00:00, 76.15batch/s, loss=0.0326]\n"
          ]
        },
        {
          "output_type": "stream",
          "name": "stdout",
          "text": [
            "Valid: Loss = 0.1897\n",
            "\n"
          ]
        },
        {
          "output_type": "stream",
          "name": "stderr",
          "text": [
            "Epoch 69: 100%|██████████| 27/27 [00:00<00:00, 89.15batch/s, loss=0.0328]\n"
          ]
        },
        {
          "output_type": "stream",
          "name": "stdout",
          "text": [
            "Valid: Loss = 0.1892\n",
            "\n"
          ]
        },
        {
          "output_type": "stream",
          "name": "stderr",
          "text": [
            "Epoch 70: 100%|██████████| 27/27 [00:00<00:00, 59.32batch/s, loss=0.0327]\n"
          ]
        },
        {
          "output_type": "stream",
          "name": "stdout",
          "text": [
            "Valid: Loss = 0.1893\n",
            "\n"
          ]
        },
        {
          "output_type": "stream",
          "name": "stderr",
          "text": [
            "Epoch 71: 100%|██████████| 27/27 [00:00<00:00, 69.55batch/s, loss=0.033]\n"
          ]
        },
        {
          "output_type": "stream",
          "name": "stdout",
          "text": [
            "Valid: Loss = 0.1884\n",
            "\n"
          ]
        },
        {
          "output_type": "stream",
          "name": "stderr",
          "text": [
            "Epoch 72: 100%|██████████| 27/27 [00:00<00:00, 44.65batch/s, loss=0.0328]\n"
          ]
        },
        {
          "output_type": "stream",
          "name": "stdout",
          "text": [
            "Valid: Loss = 0.1897\n",
            "\n"
          ]
        },
        {
          "output_type": "stream",
          "name": "stderr",
          "text": [
            "Epoch 73: 100%|██████████| 27/27 [00:00<00:00, 53.53batch/s, loss=0.0327]\n"
          ]
        },
        {
          "output_type": "stream",
          "name": "stdout",
          "text": [
            "Valid: Loss = 0.1888\n",
            "\n"
          ]
        },
        {
          "output_type": "stream",
          "name": "stderr",
          "text": [
            "Epoch 74: 100%|██████████| 27/27 [00:00<00:00, 37.52batch/s, loss=0.0326]\n"
          ]
        },
        {
          "output_type": "stream",
          "name": "stdout",
          "text": [
            "Valid: Loss = 0.1874\n",
            "\n"
          ]
        },
        {
          "output_type": "stream",
          "name": "stderr",
          "text": [
            "Epoch 75: 100%|██████████| 27/27 [00:00<00:00, 37.76batch/s, loss=0.0323]\n"
          ]
        },
        {
          "output_type": "stream",
          "name": "stdout",
          "text": [
            "Valid: Loss = 0.1851\n",
            "\n"
          ]
        },
        {
          "output_type": "stream",
          "name": "stderr",
          "text": [
            "Epoch 76: 100%|██████████| 27/27 [00:01<00:00, 19.75batch/s, loss=0.0322]\n"
          ]
        },
        {
          "output_type": "stream",
          "name": "stdout",
          "text": [
            "Valid: Loss = 0.1838\n",
            "Model Saved!\n",
            "\n"
          ]
        },
        {
          "output_type": "stream",
          "name": "stderr",
          "text": [
            "Epoch 77: 100%|██████████| 27/27 [00:01<00:00, 26.78batch/s, loss=0.0327]\n"
          ]
        },
        {
          "output_type": "stream",
          "name": "stdout",
          "text": [
            "Valid: Loss = 0.183\n",
            "Model Saved!\n",
            "\n"
          ]
        },
        {
          "output_type": "stream",
          "name": "stderr",
          "text": [
            "Epoch 78: 100%|██████████| 27/27 [00:00<00:00, 32.31batch/s, loss=0.0325]\n"
          ]
        },
        {
          "output_type": "stream",
          "name": "stdout",
          "text": [
            "Valid: Loss = 0.184\n",
            "\n"
          ]
        },
        {
          "output_type": "stream",
          "name": "stderr",
          "text": [
            "Epoch 79: 100%|██████████| 27/27 [00:00<00:00, 46.73batch/s, loss=0.0324]"
          ]
        },
        {
          "output_type": "stream",
          "name": "stdout",
          "text": [
            "Valid: Loss = 0.1843\n",
            "\n"
          ]
        },
        {
          "output_type": "stream",
          "name": "stderr",
          "text": [
            "\n"
          ]
        }
      ]
    },
    {
      "cell_type": "markdown",
      "source": [
        "# **Result 📈**"
      ],
      "metadata": {
        "id": "oK20iNRI3Xxb"
      }
    },
    {
      "cell_type": "code",
      "source": [
        "def plot_lcs(x:str, y:str):\n",
        "  plt.figure(figsize=(8, 6))\n",
        "  #\n",
        "  for model in ['rnn', 'lstm', 'gru', 'cnnlstm']:\n",
        "    z = torch.load(f'/content/{model}-{x}-{y}.pt')\n",
        "    #\n",
        "    plt.plot(range(num_epochs), z, label=model)\n",
        "    plt.xlabel('epoch')\n",
        "    plt.ylabel(f'{x} {y}')\n",
        "    plt.grid(True)\n",
        "    plt.legend()\n",
        "\n",
        "plot_lcs('loss', 'train')\n",
        "plot_lcs('loss', 'valid')"
      ],
      "metadata": {
        "colab": {
          "base_uri": "https://localhost:8080/",
          "height": 1000
        },
        "id": "i85rvNT11FM2",
        "outputId": "31867126-f297-401a-cff1-1609fb397104"
      },
      "execution_count": null,
      "outputs": [
        {
          "output_type": "display_data",
          "data": {
            "text/plain": [
              "<Figure size 800x600 with 1 Axes>"
            ],
            "image/png": "[encoded data removed]"
          },
          "metadata": {}
        },
        {
          "output_type": "display_data",
          "data": {
            "text/plain": [
              "<Figure size 800x600 with 1 Axes>"
            ],
            "image/png": "[encoded data removed]"
          },
          "metadata": {}
        }
      ]
    },
    {
      "cell_type": "markdown",
      "source": [
        "##MAE Score for All Models"
      ],
      "metadata": {
        "id": "hg9gzCB8z9XV"
      }
    },
    {
      "cell_type": "markdown",
      "source": [
        "creat table and write MAE Values for all Models"
      ],
      "metadata": {
        "id": "Guzed7RF7MCC"
      }
    },
    {
      "cell_type": "code",
      "source": [
        "def MAE(true, pred):\n",
        "    return np.mean(np.abs(true-pred))"
      ],
      "metadata": {
        "id": "n0tVwLCt0A68"
      },
      "execution_count": null,
      "outputs": []
    },
    {
      "cell_type": "code",
      "source": [
        "pred_dataset = x_test\n",
        "mae_table = PrettyTable([\"Model\", \"RNN\", \"LSTM\", \"GRU\", \"CNN-LSTM\"])\n",
        "MAX = y_max.item()\n",
        "\n",
        "with torch.no_grad():\n",
        "    mae = []\n",
        "\n",
        "    for RNN in ['rnn', 'lstm', 'gru', 'cnnlstm']:\n",
        "\n",
        "      x_test = x_test.to(device)\n",
        "      model = torch.load(f'/content/{RNN}-model.pt')\n",
        "      pred = model(x_test).to(device)\n",
        "      mae.append(MAE(np.array(y_test) * MAX, np.array(pred.cpu()) * MAX))\n",
        "\n",
        "    mae_table.add_row(['MAE', mae[0], mae[1], mae[2], mae[3]])\n"
      ],
      "metadata": {
        "id": "GYP9aLcV8xfu"
      },
      "execution_count": null,
      "outputs": []
    },
    {
      "cell_type": "markdown",
      "source": [
        "###Make Table"
      ],
      "metadata": {
        "id": "tnEDViKp-T2U"
      }
    },
    {
      "cell_type": "code",
      "source": [
        "print(mae_table)"
      ],
      "metadata": {
        "colab": {
          "base_uri": "https://localhost:8080/"
        },
        "id": "TB1ntrGy2iZu",
        "outputId": "4a260a24-6283-4795-abe0-f517cad4b69d"
      },
      "execution_count": null,
      "outputs": [
        {
          "output_type": "stream",
          "name": "stdout",
          "text": [
            "+-------+-----------+----------+-----------+-----------+\n",
            "| Model |    RNN    |   LSTM   |    GRU    |  CNN-LSTM |\n",
            "+-------+-----------+----------+-----------+-----------+\n",
            "|  MAE  | 145.87347 | 97.95716 | 136.31078 | 157.39905 |\n",
            "+-------+-----------+----------+-----------+-----------+\n"
          ]
        }
      ]
    },
    {
      "cell_type": "markdown",
      "source": [
        "#**Prediction🔎**"
      ],
      "metadata": {
        "id": "14fS5y310GQU"
      }
    },
    {
      "cell_type": "code",
      "source": [
        "pred_dataset = x_test\n",
        "mdl = ['rnn', 'lstm', 'gru', 'cnnlstm']\n",
        "\n",
        "with torch.no_grad():\n",
        "    preds = []\n",
        "    for RNN in ['rnn', 'lstm', 'gru', 'cnnlstm']:\n",
        "\n",
        "      x_test = x_test.to(device)\n",
        "      model = torch.load(f'/content/{RNN}-model.pt')\n",
        "      pred = model(x_test).to(device)\n",
        "      preds.append(pred.cpu())"
      ],
      "metadata": {
        "id": "CAXagB4yvtZd"
      },
      "execution_count": null,
      "outputs": []
    },
    {
      "cell_type": "markdown",
      "source": [
        "##Load daily_cases.csv"
      ],
      "metadata": {
        "id": "hEsDBHK50a2U"
      }
    },
    {
      "cell_type": "code",
      "source": [
        "daily_cases = pd.read_csv('/content/daily_cases.csv',index_col=0)\n"
      ],
      "metadata": {
        "id": "NPMlPnLA0adN"
      },
      "execution_count": null,
      "outputs": []
    },
    {
      "cell_type": "markdown",
      "source": [
        "##Plot"
      ],
      "metadata": {
        "id": "qaQ0Dh302C_A"
      }
    },
    {
      "cell_type": "code",
      "source": [
        "plt.plot(daily_cases.index[-len(y_test):], np.array(y_test) * y_max.item(), label='True')\n",
        "plt.plot(daily_cases.index[-len(pred):], np.array(preds[0]) * y_max.item(), label='rnn-Pred')\n",
        "plt.plot(daily_cases.index[-len(pred):], np.array(preds[1]) * y_max.item(), label='lstm-Pred')\n",
        "plt.plot(daily_cases.index[-len(pred):], np.array(preds[2]) * y_max.item(), label='gru-Pred')\n",
        "plt.plot(daily_cases.index[-len(pred):], np.array(preds[3]) * y_max.item(), label='cnnlstm-Pred')\n",
        "plt.xticks(rotation=45)\n",
        "plt.legend()"
      ],
      "metadata": {
        "colab": {
          "base_uri": "https://localhost:8080/",
          "height": 669
        },
        "id": "Sv3D2Ri717PX",
        "outputId": "257fa675-c8d9-4f2d-de1e-cc9c22f5166f"
      },
      "execution_count": null,
      "outputs": [
        {
          "output_type": "execute_result",
          "data": {
            "text/plain": [
              "<matplotlib.legend.Legend at 0x7983cfeefc40>"
            ]
          },
          "metadata": {},
          "execution_count": 85
        },
        {
          "output_type": "display_data",
          "data": {
            "text/plain": [
              "<Figure size 1400x700 with 1 Axes>"
            ],
            "image/png": "[encoded data removed]"
          },
          "metadata": {}
        }
      ]
    }
  ]
}